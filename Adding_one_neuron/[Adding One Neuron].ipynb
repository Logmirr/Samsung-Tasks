{
 "cells": [
  {
   "cell_type": "code",
   "execution_count": 12,
   "metadata": {},
   "outputs": [],
   "source": [
    "%matplotlib inline\n",
    "import os\n",
    "import torch\n",
    "import sys\n",
    "import pandas as pd\n",
    "from copy import deepcopy\n",
    "import numpy as np\n",
    "import matplotlib.pyplot as plt\n",
    "from torch.utils.data import Dataset, DataLoader\n",
    "import math\n",
    "import torch.nn as nn \n",
    "from torch.autograd import Variable\n",
    "# Ignore warnings\n",
    "import warnings\n",
    "warnings.filterwarnings(\"ignore\")\n",
    "\n",
    "from torchvision import transforms\n",
    "\n",
    "use_cuda = False\n",
    "if torch.cuda.is_available():\n",
    "    torch.cuda.set_device(7)\n",
    "    use_cuda = True"
   ]
  },
  {
   "cell_type": "code",
   "execution_count": 13,
   "metadata": {},
   "outputs": [],
   "source": [
    "class ExpLinear(nn.Module):\n",
    "    def __init__(self, in_size):\n",
    "        super(ExpLinear, self).__init__()\n",
    "        self.linear = nn.Sequential(nn.Linear(in_size, 1))\n",
    "        self.alpha = nn.Sequential(nn.Linear(1, 1, bias=False))\n",
    "        def prnt(args):\n",
    "            #print (\"grad: \", args)\n",
    "            #print (\"val: \", self.cloned_x)\n",
    "            pass\n",
    "        dict(self.alpha.named_parameters())['0.weight'].register_hook(prnt)\n",
    "        self.cloned_x = None\n",
    "\n",
    "    def forward(self, x):\n",
    "        self.cloned_x = self.alpha(torch.exp(self.linear(x))).clone().detach()\n",
    "        return self.alpha(torch.exp(self.linear(x)))\n",
    "    \n",
    "    def get_alpha(self):\n",
    "        return get_pure(dict(self.alpha.named_parameters())['0.weight'])[0][0]"
   ]
  },
  {
   "cell_type": "code",
   "execution_count": 14,
   "metadata": {},
   "outputs": [],
   "source": [
    "class Classifier_WITH_EXP(nn.Module):\n",
    "    def __init__(self, in_size):\n",
    "        super(Classifier_WITH_EXP, self).__init__()\n",
    "        self.linear = nn.Sequential(\n",
    "            nn.Linear(in_size, in_size // 2),\n",
    "            nn.Sigmoid(),\n",
    "            nn.Linear(in_size // 2, in_size // 4),\n",
    "            nn.Sigmoid(),\n",
    "            nn.Linear(in_size // 4, 1)\n",
    "        )\n",
    "        self.explinear = ExpLinear(in_size)\n",
    "        \n",
    "    def forward(self, x):\n",
    "        x = x.view(x.size(0), -1)\n",
    "        return self.linear(x).view(-1) + self.explinear(x).view(-1)\n",
    "    \n",
    "    # get parameter alpha from explinear block\n",
    "    def get_alpha(self):\n",
    "        return self.explinear.get_alpha()"
   ]
  },
  {
   "cell_type": "code",
   "execution_count": 15,
   "metadata": {},
   "outputs": [],
   "source": [
    "class Classifier(nn.Module):\n",
    "    def __init__(self, in_size):\n",
    "        super(Classifier, self).__init__()\n",
    "        self.linear = nn.Sequential(\n",
    "            nn.Linear(in_size, in_size // 2),\n",
    "            nn.Sigmoid(),\n",
    "            nn.Linear(in_size // 2, in_size // 4),\n",
    "            nn.Sigmoid(),\n",
    "            nn.Linear(in_size // 4, 1)\n",
    "        )\n",
    "        \n",
    "    def forward(self, x):\n",
    "        return self.linear(x).view(-1)"
   ]
  },
  {
   "cell_type": "code",
   "execution_count": 16,
   "metadata": {},
   "outputs": [],
   "source": [
    "class TwoCircleDataset(Dataset):\n",
    "    def __init__(self, R1, R2, N, dim, train=False):\n",
    "        self.R1 = R1\n",
    "        self.R2 = R2\n",
    "        self.N = N\n",
    "        self.dim = dim\n",
    "        self.train = train\n",
    "        \n",
    "        self.dots = torch.zeros([N + N // 2, dim])\n",
    "        \n",
    "        self.classes = torch.zeros([N + N // 2])\n",
    "        self.classes.bernoulli_(0.5)\n",
    "        self.classes = self.classes * 2 - 1\n",
    "        \n",
    "        self.normal_generator = torch.distributions.normal.Normal(torch.tensor([0.0]), torch.tensor([1.0]))\n",
    "        for idx in range(self.N):\n",
    "            self.dots[idx] = self.normal_generator.sample_n(self.dim).view(1, -1)\n",
    "            self.dots[idx] /= torch.sqrt(torch.sum(self.dots[idx] ** 2))\n",
    "            self.classes[idx] = self.classes[idx]\n",
    "            if self.classes[idx] == 1:\n",
    "                self.dots[idx] *= self.R1\n",
    "            else:\n",
    "                self.dots[idx] *= self.R2\n",
    "                \n",
    "        for idx in range(self.N // 2):\n",
    "            self.dots[N + idx] = self.normal_generator.sample_n(self.dim).view(1, -1)\n",
    "            self.dots[N + idx] /= torch.sqrt(torch.sum(self.dots[N + idx] ** 2))\n",
    "            if self.R1 > self.R2:\n",
    "                self.classes[N + idx] = 1\n",
    "                self.dots[idx] *= self.R1 * 2\n",
    "            else:\n",
    "                self.classes[N + idx] = -1\n",
    "                self.dots[idx] *= self.R2 * 2\n",
    "                \n",
    "    def __len__(self):\n",
    "        return len(self.dots)\n",
    "\n",
    "    def __getitem__(self, idx):\n",
    "        return (self.dots[idx], self.classes[idx])         "
   ]
  },
  {
   "cell_type": "code",
   "execution_count": 17,
   "metadata": {},
   "outputs": [],
   "source": [
    "class TwoGaussiansDataset(Dataset):\n",
    "    def __init__(self, M1, M2, N, dim, train=False):\n",
    "        self.M1 = M1\n",
    "        self.M2 = M2\n",
    "        self.N = N\n",
    "        self.dim = dim\n",
    "        self.train = train\n",
    "        \n",
    "        self.dots = torch.zeros([N, dim])\n",
    "        \n",
    "        self.classes = torch.zeros([N])\n",
    "        self.classes.bernoulli_(0.5)\n",
    "        self.classes = self.classes * 2 - 1\n",
    "        \n",
    "        self.normal_generator_1 = torch.distributions.normal.Normal(torch.tensor([M1]), torch.tensor([1.0]))\n",
    "        self.normal_generator_2 = torch.distributions.normal.Normal(torch.tensor([M2]), torch.tensor([1.0]))\n",
    "        for idx in range(self.N):\n",
    "            if self.classes[idx] == 1:\n",
    "                self.dots[idx] = self.normal_generator_1.sample_n(self.dim).view(1, -1)\n",
    "            else:\n",
    "                self.dots[idx] = self.normal_generator_2.sample_n(self.dim).view(1, -1)\n",
    "        \n",
    "    def __len__(self):\n",
    "        return len(self.dots)\n",
    "\n",
    "    def __getitem__(self, idx):\n",
    "        return (self.dots[idx], self.classes[idx])"
   ]
  },
  {
   "cell_type": "code",
   "execution_count": 18,
   "metadata": {},
   "outputs": [],
   "source": [
    "dataset_c_train = TwoCircleDataset(1, 10, 400, 20, train=True)\n",
    "dataset_c_test = TwoCircleDataset(1, 10, 400, 20, train=False)\n",
    "dataloader_c_train = DataLoader(dataset_c_train, batch_size=128, shuffle=True)\n",
    "dataloader_c_test = DataLoader(dataset_c_test, batch_size=128, shuffle=True)\n",
    "\n",
    "dataset_g_train = TwoGaussiansDataset(0., 0.1, 10000, 100, train=True)\n",
    "dataset_g_test = TwoGaussiansDataset(0., 0., 10000, 100, train=False)\n",
    "dataloader_g_train = DataLoader(dataset_g_train, batch_size=128, shuffle=True)\n",
    "dataloader_g_test = DataLoader(dataset_g_test, batch_size=128, shuffle=True)"
   ]
  },
  {
   "cell_type": "code",
   "execution_count": 19,
   "metadata": {},
   "outputs": [],
   "source": [
    "def get_pure(args):\n",
    "    return args.data.cpu().clone().numpy()"
   ]
  },
  {
   "cell_type": "code",
   "execution_count": 20,
   "metadata": {},
   "outputs": [],
   "source": [
    "def train_WITH_EXP(network, optimizer, reg_lambda, epochs, dataloader_train, dataloader_test):\n",
    "    def loss_func(predict_y, correct_y, network, reg_lambda):\n",
    "        loss = torch.sum(torch.max(-correct_y * predict_y + torch.tensor([1.]), torch.tensor([0.])) ** 3)\n",
    "        reg_loss = None\n",
    "        for param in network.explinear.alpha.parameters():\n",
    "            reg_loss = reg_lambda * param.norm(2)\n",
    "        return loss + reg_loss, reg_loss\n",
    "    losses_train = []\n",
    "    losses_test = []\n",
    "    misscl_rate_train = []\n",
    "    misscl_rate_test = []\n",
    "    alpha = []    \n",
    "    reg_losses = []\n",
    "    try:\n",
    "        for epoch in range(epochs):\n",
    "            if epoch % 10 == 0:\n",
    "                optimizer = torch.optim.Adam(net_WITH_EXP.parameters(), lr=.0005)\n",
    "            for batch_dots, batch_labels in dataloader_train:\n",
    "                x = Variable(batch_dots)\n",
    "                correct_y = Variable(batch_labels.float())\n",
    "\n",
    "                predict_y = network(x)\n",
    "                loss, _ = loss_func(predict_y, correct_y, network, reg_lambda)\n",
    "\n",
    "                optimizer.zero_grad()\n",
    "                loss.backward()\n",
    "                optimizer.step()\n",
    "                \n",
    "            alpha.append(network.get_alpha())\n",
    "            \n",
    "            loss, reg_loss = loss_func(network(dataloader_train.dataset.dots),\n",
    "                                       dataloader_train.dataset.classes, network,\n",
    "                                       reg_lambda)\n",
    "            losses_train.append(get_pure(loss))\n",
    "            reg_losses.append(get_pure(reg_loss))\n",
    "            misscl_rate_train.append(\n",
    "                (np.where(get_pure(network(dataloader_train.dataset.dots)) < 0, -1, 1) != \n",
    "                dataloader_train.dataset.classes.numpy()).sum())\n",
    "            \n",
    "            loss, _ = loss_func(network(dataloader_test.dataset.dots),\n",
    "                                dataloader_test.dataset.classes, network,\n",
    "                                reg_lambda)\n",
    "            losses_test.append(get_pure(loss))\n",
    "            misscl_rate_test.append(\n",
    "                (np.where(get_pure(network(dataloader_test.dataset.dots)) < 0, -1, 1) != \n",
    "                dataloader_test.dataset.classes.numpy()).sum())\n",
    "                \n",
    "            sys.stdout.write('\\rEpoch {0}... Empirical Loss/Misclassification Rate (Train): {1:.3f}/{2:.3f}\\t Empirical Loss/Misclassification Rate (Test): {3:.3f}/{4:.3f}'.format(\n",
    "                            epoch, losses_train[-1], misscl_rate_train[-1], losses_test[-1], misscl_rate_test[-1]))\n",
    "            \n",
    "            if math.isnan(losses_train[-1]):              \n",
    "                raise KeyboardInterrupt\n",
    "    except KeyboardInterrupt:\n",
    "        pass\n",
    "#     plt.figure(figsize=(30, 20))\n",
    "    \n",
    "#     plt.subplot(2, 3, 1)\n",
    "#     plt.plot(losses_train, label='Loss (Train)')\n",
    "#     plt.plot(losses_test, label='Loss (Test)')\n",
    "#     plt.xlabel('Epochs', fontsize=16)\n",
    "#     plt.ylabel('Mean loss', fontsize=16)\n",
    "#     plt.legend(loc=0, fontsize=16)\n",
    "    \n",
    "#     plt.subplot(2, 3, 2)\n",
    "#     plt.plot(misscl_rate_train, label='Misclassification Rate (Train)')\n",
    "#     plt.plot(misscl_rate_test, label='Misclassification Rate (Test)')\n",
    "#     plt.xlabel('Epochs', fontsize=16)\n",
    "#     plt.ylabel('Number of objects', fontsize=16)\n",
    "#     plt.legend(loc=0, fontsize=16)\n",
    "    \n",
    "#     plt.subplot(2, 3, 3)\n",
    "#     plt.plot(alpha, label='Alpha')\n",
    "#     plt.xlabel('Epochs', fontsize=16)\n",
    "#     plt.ylabel('Alpha', fontsize=16)\n",
    "#     plt.legend(loc=0, fontsize=16)\n",
    "#     plt.figure(figsize=(30, 10))\n",
    "    \n",
    "#     plt.subplot(2, 3, 4)\n",
    "#     plt.plot(reg_losses, label='Reg Loss')\n",
    "#     plt.xlabel('Epochs', fontsize=16)\n",
    "#     plt.ylabel('Mean reg loss', fontsize=16)\n",
    "#     plt.legend(loc=0, fontsize=16)\n",
    "    \n",
    "    return losses_train[-1], misscl_rate_train[-1], losses_test[-1], misscl_rate_test[-1]"
   ]
  },
  {
   "cell_type": "code",
   "execution_count": 21,
   "metadata": {},
   "outputs": [],
   "source": [
    "def train(network, optimizer, epochs, dataloader_train, dataloader_test):\n",
    "    def loss_func(predict_y, correct_y):\n",
    "        loss = torch.sum(torch.max(-correct_y * predict_y + torch.tensor([1.]), torch.tensor([0.])) ** 3)\n",
    "        return loss\n",
    "    losses_train = []\n",
    "    losses_test = []\n",
    "    misscl_rate_train = []\n",
    "    misscl_rate_test = []\n",
    "    try:\n",
    "        for epoch in range(epochs):\n",
    "            for batch_dots, batch_labels in dataloader_train:\n",
    "                x = Variable(batch_dots)\n",
    "                correct_y = Variable(batch_labels.float())\n",
    "                \n",
    "                predict_y = network(x)\n",
    "                loss = loss_func(predict_y, correct_y)\n",
    "\n",
    "                optimizer.zero_grad()\n",
    "                loss.backward()\n",
    "                optimizer.step()\n",
    "            losses_train.append(loss_func(network(dataloader_train.dataset.dots), dataloader_train.dataset.classes))\n",
    "            misscl_rate_train.append((np.where(get_pure(network(dataloader_train.dataset.dots)) < 0, -1, 1) != dataloader_train.dataset.classes.numpy()).sum())\n",
    "\n",
    "            losses_test.append(loss_func(network(dataloader_test.dataset.dots), dataloader_test.dataset.classes))\n",
    "            misscl_rate_test.append((np.where(get_pure(network(dataloader_test.dataset.dots)) < 0, -1, 1) != dataloader_test.dataset.classes.numpy()).sum())\n",
    "\n",
    "            sys.stdout.write('\\rEpoch {0}... Empirical Loss/Misclassification Rate (Train): {1:.3f}/{2:.3f}\\t Empirical Loss/Misclassification Rate (Test): {3:.3f}/{4:.3f}'.format(\n",
    "                            epoch, losses_train[-1], misscl_rate_train[-1], losses_test[-1], misscl_rate_test[-1]))\n",
    "            \n",
    "            if math.isnan(losses_train[-1]):\n",
    "                raise KeyboardInterrupt\n",
    "    except KeyboardInterrupt:\n",
    "        pass\n",
    "    plt.figure(figsize=(20, 10))\n",
    "    plt.subplot(1, 2, 1)\n",
    "    plt.plot(losses_train, label='Loss (Train)')\n",
    "    plt.plot(losses_test, label='Loss (Test)')\n",
    "    plt.xlabel('Epochs', fontsize=16)\n",
    "    plt.ylabel('Mean loss', fontsize=16)\n",
    "    plt.legend(loc=0, fontsize=16)\n",
    "    plt.subplot(1, 2, 2)\n",
    "    plt.plot(misscl_rate_train, label='Misclassification Rate (Train)')\n",
    "    plt.plot(misscl_rate_test, label='Misclassification Rate (Test)')\n",
    "    plt.xlabel('Epochs', fontsize=16)\n",
    "    plt.ylabel('Number of objects', fontsize=16)\n",
    "    plt.legend(loc=0, fontsize=16)\n",
    "    \n",
    "    return losses_train[-1], misscl_rate_train[-1], losses_test[-1], misscl_rate_test[-1]    "
   ]
  },
  {
   "cell_type": "markdown",
   "metadata": {},
   "source": [
    "## Two N-dim concentric spheres"
   ]
  },
  {
   "cell_type": "markdown",
   "metadata": {},
   "source": [
    "### Without Exp Neuron"
   ]
  },
  {
   "cell_type": "code",
   "execution_count": null,
   "metadata": {},
   "outputs": [],
   "source": [
    "net = Classifier(20)\n",
    "optimizer = torch.optim.Adam(net.parameters(), lr=.001)"
   ]
  },
  {
   "cell_type": "code",
   "execution_count": null,
   "metadata": {},
   "outputs": [],
   "source": [
    "train(net, optimizer, 10000, dataloader_train=dataloader_c_train, dataloader_test=dataloader_c_test)"
   ]
  },
  {
   "cell_type": "markdown",
   "metadata": {},
   "source": [
    "### With Exp Neuron"
   ]
  },
  {
   "cell_type": "code",
   "execution_count": null,
   "metadata": {},
   "outputs": [],
   "source": [
    "net_WITH_EXP = Classifier_WITH_EXP(20)\n",
    "optimizer_WITH_EXP = torch.optim.Adam(net_WITH_EXP.parameters(), lr=.005)"
   ]
  },
  {
   "cell_type": "code",
   "execution_count": null,
   "metadata": {},
   "outputs": [],
   "source": [
    "train_WITH_EXP(net_WITH_EXP, optimizer_WITH_EXP, reg_lambda=0.005, epochs=10000, dataloader_train=dataloader_c_train, dataloader_test=dataloader_c_test)"
   ]
  },
  {
   "cell_type": "code",
   "execution_count": null,
   "metadata": {},
   "outputs": [],
   "source": [
    "net_WITH_EXP = Classifier_WITH_EXP(20)\n",
    "optimizer_WITH_EXP = torch.optim.Adam(net_WITH_EXP.parameters(), lr=0.0002)"
   ]
  },
  {
   "cell_type": "code",
   "execution_count": null,
   "metadata": {},
   "outputs": [],
   "source": [
    "train_WITH_EXP(net_WITH_EXP, optimizer_WITH_EXP, reg_lambda=10., epochs=1000, dataloader_train=dataloader_c_train, dataloader_test=dataloader_c_test)"
   ]
  },
  {
   "cell_type": "code",
   "execution_count": null,
   "metadata": {},
   "outputs": [],
   "source": [
    "net_WITH_EXP = Classifier_WITH_EXP(20)\n",
    "optimizer_WITH_EXP = torch.optim.Adam(net_WITH_EXP.parameters(), lr=0.00005)"
   ]
  },
  {
   "cell_type": "code",
   "execution_count": null,
   "metadata": {},
   "outputs": [],
   "source": [
    "train_WITH_EXP(net_WITH_EXP, optimizer_WITH_EXP, reg_lambda=.0005, epochs=1000, dataloader_train=dataloader_c_train, dataloader_test=dataloader_c_test)"
   ]
  },
  {
   "cell_type": "code",
   "execution_count": null,
   "metadata": {},
   "outputs": [],
   "source": [
    "train_WITH_EXP(net_WITH_EXP, optimizer_WITH_EXP, reg_lambda=.005, epochs=100, dataloader_train=dataloader_c_train, dataloader_test=dataloader_c_test)"
   ]
  },
  {
   "cell_type": "code",
   "execution_count": 22,
   "metadata": {},
   "outputs": [],
   "source": [
    "params = np.zeros([10, 10, 3])"
   ]
  },
  {
   "cell_type": "code",
   "execution_count": 27,
   "metadata": {},
   "outputs": [
    {
     "name": "stdout",
     "output_type": "stream",
     "text": [
      "0 0\n",
      "Epoch 99... Empirical Loss/Misclassification Rate (Train): 540.585/225.000\t Empirical Loss/Misclassification Rate (Test): 578.419/233.0000 10\n",
      "Epoch 99... Empirical Loss/Misclassification Rate (Train): 515.767/195.000\t Empirical Loss/Misclassification Rate (Test): 548.005/206.0000 200\n",
      "Epoch 0... Empirical Loss/Misclassification Rate (Train): nan/395.000\t Empirical Loss/Misclassification Rate (Test): nan/405.0000 3\n",
      "Epoch 0... Empirical Loss/Misclassification Rate (Train): nan/395.000\t Empirical Loss/Misclassification Rate (Test): nan/405.0000 4\n",
      "Epoch 99... Empirical Loss/Misclassification Rate (Train): 513.543/204.000\t Empirical Loss/Misclassification Rate (Test): 535.009/194.0000 5\n",
      "Epoch 99... Empirical Loss/Misclassification Rate (Train): 589.424/228.000\t Empirical Loss/Misclassification Rate (Test): 733.340/237.0000 6000\n",
      "Epoch 0... Empirical Loss/Misclassification Rate (Train): nan/395.000\t Empirical Loss/Misclassification Rate (Test): nan/405.0000 7\n",
      "Epoch 0... Empirical Loss/Misclassification Rate (Train): nan/395.000\t Empirical Loss/Misclassification Rate (Test): nan/405.0000 8\n",
      "Epoch 99... Empirical Loss/Misclassification Rate (Train): 572.113/199.000\t Empirical Loss/Misclassification Rate (Test): 705.611/228.0000 90000\n",
      "Epoch 0... Empirical Loss/Misclassification Rate (Train): nan/395.000\t Empirical Loss/Misclassification Rate (Test): nan/405.0001 0\n",
      "Epoch 99... Empirical Loss/Misclassification Rate (Train): 622.361/212.000\t Empirical Loss/Misclassification Rate (Test): 1052.749/230.0001 100000\n",
      "Epoch 0... Empirical Loss/Misclassification Rate (Train): nan/395.000\t Empirical Loss/Misclassification Rate (Test): nan/405.0001 2\n",
      "Epoch 99... Empirical Loss/Misclassification Rate (Train): 516.500/205.000\t Empirical Loss/Misclassification Rate (Test): 522.388/195.0001 30000\n",
      "Epoch 99... Empirical Loss/Misclassification Rate (Train): 814.816/338.000\t Empirical Loss/Misclassification Rate (Test): 2828.481/335.0001 40000000\n",
      "Epoch 99... Empirical Loss/Misclassification Rate (Train): 672.848/230.000\t Empirical Loss/Misclassification Rate (Test): 775.549/236.0001 50000\n",
      "Epoch 99... Empirical Loss/Misclassification Rate (Train): 964.882/205.000\t Empirical Loss/Misclassification Rate (Test): 1458.483/197.0001 60000\n",
      "Epoch 90... Empirical Loss/Misclassification Rate (Train): nan/395.000\t Empirical Loss/Misclassification Rate (Test): nan/405.0001 75.00000000\n",
      "Epoch 99... Empirical Loss/Misclassification Rate (Train): 1911.318/328.000\t Empirical Loss/Misclassification Rate (Test): 22752.385/345.0001 800000000\n",
      "Epoch 16... Empirical Loss/Misclassification Rate (Train): nan/395.000\t Empirical Loss/Misclassification Rate (Test): nan/405.0001 98.00000\n",
      "Epoch 99... Empirical Loss/Misclassification Rate (Train): 593.262/212.000\t Empirical Loss/Misclassification Rate (Test): 832.536/237.0002 000000\n",
      "Epoch 0... Empirical Loss/Misclassification Rate (Train): nan/395.000\t Empirical Loss/Misclassification Rate (Test): nan/405.0002 1\n",
      "Epoch 99... Empirical Loss/Misclassification Rate (Train): 893.288/352.000\t Empirical Loss/Misclassification Rate (Test): 2191.991/358.0002 200000\n",
      "Epoch 99... Empirical Loss/Misclassification Rate (Train): 575.928/216.000\t Empirical Loss/Misclassification Rate (Test): 640.812/235.0002 3000\n",
      "Epoch 99... Empirical Loss/Misclassification Rate (Train): 559.943/218.000\t Empirical Loss/Misclassification Rate (Test): 618.341/229.0002 40000\n",
      "Epoch 0... Empirical Loss/Misclassification Rate (Train): nan/395.000\t Empirical Loss/Misclassification Rate (Test): nan/405.0002 5\n",
      "Epoch 0... Empirical Loss/Misclassification Rate (Train): nan/395.000\t Empirical Loss/Misclassification Rate (Test): nan/405.0002 6\n",
      "Epoch 99... Empirical Loss/Misclassification Rate (Train): 662.259/226.000\t Empirical Loss/Misclassification Rate (Test): 733.059/224.0002 700000\n",
      "Epoch 0... Empirical Loss/Misclassification Rate (Train): nan/395.000\t Empirical Loss/Misclassification Rate (Test): nan/405.0002 8\n",
      "Epoch 99... Empirical Loss/Misclassification Rate (Train): 705.053/241.000\t Empirical Loss/Misclassification Rate (Test): 934.543/244.0002 90000\n",
      "Epoch 0... Empirical Loss/Misclassification Rate (Train): nan/395.000\t Empirical Loss/Misclassification Rate (Test): nan/405.0003 0\n",
      "Epoch 0... Empirical Loss/Misclassification Rate (Train): nan/395.000\t Empirical Loss/Misclassification Rate (Test): nan/405.0003 1\n",
      "Epoch 99... Empirical Loss/Misclassification Rate (Train): 666.265/257.000\t Empirical Loss/Misclassification Rate (Test): 1539.159/270.0003 20000\n",
      "Epoch 0... Empirical Loss/Misclassification Rate (Train): nan/395.000\t Empirical Loss/Misclassification Rate (Test): nan/405.0003 3\n",
      "Epoch 99... Empirical Loss/Misclassification Rate (Train): 584.426/218.000\t Empirical Loss/Misclassification Rate (Test): 670.060/240.0003 40000\n",
      "Epoch 99... Empirical Loss/Misclassification Rate (Train): 515.299/205.000\t Empirical Loss/Misclassification Rate (Test): 525.401/196.0003 50\n",
      "Epoch 0... Empirical Loss/Misclassification Rate (Train): nan/395.000\t Empirical Loss/Misclassification Rate (Test): nan/405.0003 6\n",
      "Epoch 99... Empirical Loss/Misclassification Rate (Train): 971.403/363.000\t Empirical Loss/Misclassification Rate (Test): 1040.342/364.0003 70000000\n",
      "Epoch 99... Empirical Loss/Misclassification Rate (Train): 666.884/228.000\t Empirical Loss/Misclassification Rate (Test): 777.106/225.0003 80000\n",
      "Epoch 99... Empirical Loss/Misclassification Rate (Train): 510.606/195.000\t Empirical Loss/Misclassification Rate (Test): 527.558/200.0003 9000\n",
      "Epoch 0... Empirical Loss/Misclassification Rate (Train): nan/395.000\t Empirical Loss/Misclassification Rate (Test): nan/405.0004 0\n",
      "Epoch 22... Empirical Loss/Misclassification Rate (Train): nan/395.000\t Empirical Loss/Misclassification Rate (Test): nan/405.0004 15.0000\n",
      "Epoch 0... Empirical Loss/Misclassification Rate (Train): nan/395.000\t Empirical Loss/Misclassification Rate (Test): nan/405.0004 2\n",
      "Epoch 0... Empirical Loss/Misclassification Rate (Train): nan/395.000\t Empirical Loss/Misclassification Rate (Test): nan/405.0004 3\n",
      "Epoch 0... Empirical Loss/Misclassification Rate (Train): nan/395.000\t Empirical Loss/Misclassification Rate (Test): nan/405.0004 4\n",
      "Epoch 40... Empirical Loss/Misclassification Rate (Train): nan/395.000\t Empirical Loss/Misclassification Rate (Test): nan/405.0004 56.00000000\n",
      "Epoch 99... Empirical Loss/Misclassification Rate (Train): 663.607/233.000\t Empirical Loss/Misclassification Rate (Test): 1475.966/256.0004 60000\n",
      "Epoch 0... Empirical Loss/Misclassification Rate (Train): nan/395.000\t Empirical Loss/Misclassification Rate (Test): nan/405.0004 7\n",
      "Epoch 99... Empirical Loss/Misclassification Rate (Train): 553.037/208.000\t Empirical Loss/Misclassification Rate (Test): 598.217/218.0004 80000\n",
      "Epoch 0... Empirical Loss/Misclassification Rate (Train): nan/395.000\t Empirical Loss/Misclassification Rate (Test): nan/405.0004 9\n",
      "Epoch 0... Empirical Loss/Misclassification Rate (Train): nan/395.000\t Empirical Loss/Misclassification Rate (Test): nan/405.0005 0\n",
      "Epoch 0... Empirical Loss/Misclassification Rate (Train): nan/395.000\t Empirical Loss/Misclassification Rate (Test): nan/405.0005 1\n",
      "Epoch 99... Empirical Loss/Misclassification Rate (Train): 663.843/226.000\t Empirical Loss/Misclassification Rate (Test): 655.899/222.0005 200000\n",
      "Epoch 0... Empirical Loss/Misclassification Rate (Train): nan/395.000\t Empirical Loss/Misclassification Rate (Test): nan/405.0005 3\n",
      "Epoch 99... Empirical Loss/Misclassification Rate (Train): 654.446/218.000\t Empirical Loss/Misclassification Rate (Test): 888.755/242.0005 4000000\n",
      "Epoch 0... Empirical Loss/Misclassification Rate (Train): nan/395.000\t Empirical Loss/Misclassification Rate (Test): nan/405.0005 5\n",
      "Epoch 99... Empirical Loss/Misclassification Rate (Train): 647.097/308.000\t Empirical Loss/Misclassification Rate (Test): 87340.359/331.0005 6000000\n",
      "Epoch 99... Empirical Loss/Misclassification Rate (Train): 625.457/367.000\t Empirical Loss/Misclassification Rate (Test): 721.375/362.0005 700000\n",
      "Epoch 99... Empirical Loss/Misclassification Rate (Train): 607.672/213.000\t Empirical Loss/Misclassification Rate (Test): 914.352/239.0005 800000\n",
      "Epoch 0... Empirical Loss/Misclassification Rate (Train): nan/395.000\t Empirical Loss/Misclassification Rate (Test): nan/405.0005 9\n",
      "Epoch 0... Empirical Loss/Misclassification Rate (Train): nan/395.000\t Empirical Loss/Misclassification Rate (Test): nan/405.0006 0\n"
     ]
    },
    {
     "name": "stdout",
     "output_type": "stream",
     "text": [
      "Epoch 99... Empirical Loss/Misclassification Rate (Train): 951.436/349.000\t Empirical Loss/Misclassification Rate (Test): 2055.909/377.0006 10000000\n",
      "Epoch 0... Empirical Loss/Misclassification Rate (Train): nan/395.000\t Empirical Loss/Misclassification Rate (Test): nan/405.0006 2\n",
      "Epoch 99... Empirical Loss/Misclassification Rate (Train): 574.596/203.000\t Empirical Loss/Misclassification Rate (Test): 1979.798/203.0006 300000\n",
      "Epoch 99... Empirical Loss/Misclassification Rate (Train): 515.614/205.000\t Empirical Loss/Misclassification Rate (Test): 520.445/197.0006 4\n",
      "Epoch 0... Empirical Loss/Misclassification Rate (Train): nan/395.000\t Empirical Loss/Misclassification Rate (Test): nan/405.0006 5\n",
      "Epoch 0... Empirical Loss/Misclassification Rate (Train): nan/395.000\t Empirical Loss/Misclassification Rate (Test): nan/405.0006 6\n",
      "Epoch 99... Empirical Loss/Misclassification Rate (Train): 720.601/302.000\t Empirical Loss/Misclassification Rate (Test): 39536.938/298.0006 7000000\n",
      "Epoch 99... Empirical Loss/Misclassification Rate (Train): 773.802/227.000\t Empirical Loss/Misclassification Rate (Test): 881.401/237.0006 8000000\n",
      "Epoch 0... Empirical Loss/Misclassification Rate (Train): nan/395.000\t Empirical Loss/Misclassification Rate (Test): nan/405.0006 9\n",
      "Epoch 0... Empirical Loss/Misclassification Rate (Train): nan/395.000\t Empirical Loss/Misclassification Rate (Test): nan/405.0007 0\n",
      "Epoch 0... Empirical Loss/Misclassification Rate (Train): nan/395.000\t Empirical Loss/Misclassification Rate (Test): nan/405.0007 1\n",
      "Epoch 99... Empirical Loss/Misclassification Rate (Train): 1530.855/372.000\t Empirical Loss/Misclassification Rate (Test): 2269.046/372.0007 200000000\n",
      "Epoch 99... Empirical Loss/Misclassification Rate (Train): 801.418/229.000\t Empirical Loss/Misclassification Rate (Test): 2982.357/243.0007 30000000\n",
      "Epoch 0... Empirical Loss/Misclassification Rate (Train): nan/395.000\t Empirical Loss/Misclassification Rate (Test): nan/405.0007 4\n",
      "Epoch 0... Empirical Loss/Misclassification Rate (Train): nan/395.000\t Empirical Loss/Misclassification Rate (Test): nan/405.0007 5\n",
      "Epoch 99... Empirical Loss/Misclassification Rate (Train): 556.022/222.000\t Empirical Loss/Misclassification Rate (Test): 600.901/239.0007 60000\n",
      "Epoch 0... Empirical Loss/Misclassification Rate (Train): nan/395.000\t Empirical Loss/Misclassification Rate (Test): nan/405.0007 7\n",
      "Epoch 99... Empirical Loss/Misclassification Rate (Train): 519.341/205.000\t Empirical Loss/Misclassification Rate (Test): 519.089/195.0007 8\n",
      "Epoch 99... Empirical Loss/Misclassification Rate (Train): 673.417/241.000\t Empirical Loss/Misclassification Rate (Test): 865.398/249.0007 900000\n",
      "Epoch 99... Empirical Loss/Misclassification Rate (Train): 551.792/218.000\t Empirical Loss/Misclassification Rate (Test): 566.344/220.0008 00000\n",
      "Epoch 99... Empirical Loss/Misclassification Rate (Train): 1136.815/341.000\t Empirical Loss/Misclassification Rate (Test): 2355.793/349.0008 100000\n",
      "Epoch 0... Empirical Loss/Misclassification Rate (Train): nan/395.000\t Empirical Loss/Misclassification Rate (Test): nan/405.0008 2\n",
      "Epoch 99... Empirical Loss/Misclassification Rate (Train): 692.572/230.000\t Empirical Loss/Misclassification Rate (Test): 753.401/230.0008 30000000\n",
      "Epoch 99... Empirical Loss/Misclassification Rate (Train): 524.437/204.000\t Empirical Loss/Misclassification Rate (Test): 557.801/203.0008 4000000\n",
      "Epoch 99... Empirical Loss/Misclassification Rate (Train): 591.340/213.000\t Empirical Loss/Misclassification Rate (Test): 645.743/218.0008 500000\n",
      "Epoch 0... Empirical Loss/Misclassification Rate (Train): nan/395.000\t Empirical Loss/Misclassification Rate (Test): nan/405.0008 6\n",
      "Epoch 99... Empirical Loss/Misclassification Rate (Train): 552.841/205.000\t Empirical Loss/Misclassification Rate (Test): 744.966/214.0008 700000\n",
      "Epoch 0... Empirical Loss/Misclassification Rate (Train): nan/395.000\t Empirical Loss/Misclassification Rate (Test): nan/405.0008 8\n",
      "Epoch 99... Empirical Loss/Misclassification Rate (Train): 831.895/205.000\t Empirical Loss/Misclassification Rate (Test): 1122.937/195.0008 900000\n",
      "Epoch 99... Empirical Loss/Misclassification Rate (Train): 729.785/331.000\t Empirical Loss/Misclassification Rate (Test): 980.729/323.0009 0000000\n",
      "Epoch 99... Empirical Loss/Misclassification Rate (Train): 568.138/220.000\t Empirical Loss/Misclassification Rate (Test): 557.685/219.0009 10000\n",
      "Epoch 0... Empirical Loss/Misclassification Rate (Train): nan/395.000\t Empirical Loss/Misclassification Rate (Test): nan/405.0009 2\n",
      "Epoch 0... Empirical Loss/Misclassification Rate (Train): nan/395.000\t Empirical Loss/Misclassification Rate (Test): nan/405.0009 3\n",
      "Epoch 99... Empirical Loss/Misclassification Rate (Train): 622.480/213.000\t Empirical Loss/Misclassification Rate (Test): 791.521/234.0009 400000\n",
      "Epoch 0... Empirical Loss/Misclassification Rate (Train): nan/395.000\t Empirical Loss/Misclassification Rate (Test): nan/405.0009 5\n",
      "Epoch 99... Empirical Loss/Misclassification Rate (Train): 981.099/367.000\t Empirical Loss/Misclassification Rate (Test): 1294.300/370.0009 6000000\n",
      "Epoch 0... Empirical Loss/Misclassification Rate (Train): nan/395.000\t Empirical Loss/Misclassification Rate (Test): nan/405.0009 7\n",
      "Epoch 99... Empirical Loss/Misclassification Rate (Train): 531.951/205.000\t Empirical Loss/Misclassification Rate (Test): 528.748/195.0009 8\n",
      "Epoch 99... Empirical Loss/Misclassification Rate (Train): 564.446/213.000\t Empirical Loss/Misclassification Rate (Test): 658.365/229.0009 900000\n",
      "Epoch 99... Empirical Loss/Misclassification Rate (Train): 2697.817/356.000\t Empirical Loss/Misclassification Rate (Test): 34954.840/373.0000000000000"
     ]
    }
   ],
   "source": [
    "for idx, lr in enumerate(np.linspace(0.0001, 10, 10)):\n",
    "    for jdx, lamb in enumerate(np.linspace(0.0001, 10, 10)):\n",
    "        print (idx, jdx)\n",
    "        net_WITH_EXP = Classifier_WITH_EXP(20)\n",
    "        optimizer_WITH_EXP = torch.optim.Adam(net_WITH_EXP.parameters(), lr=float(lr))\n",
    "        res = train_WITH_EXP(net_WITH_EXP, optimizer_WITH_EXP, reg_lambda=float(lamb), epochs=100, dataloader_train=dataloader_c_train, dataloader_test=dataloader_c_test)\n",
    "        params[idx][jdx] = [lr, lamb, res[0]]\n",
    "        if np.isnan(params[idx][jdx][2]) or np.isinf(params[idx][jdx][2]):\n",
    "            params[idx][jdx][2] = -1000"
   ]
  },
  {
   "cell_type": "code",
   "execution_count": 28,
   "metadata": {},
   "outputs": [],
   "source": [
    "params[params < 0] = 100\n",
    "params /= 100\n",
    "params_2 = params"
   ]
  },
  {
   "cell_type": "code",
   "execution_count": null,
   "metadata": {},
   "outputs": [],
   "source": [
    "params[params < 0] = 1"
   ]
  },
  {
   "cell_type": "code",
   "execution_count": 46,
   "metadata": {},
   "outputs": [
    {
     "data": {
      "image/png": "[encoded data removed]",
      "text/plain": [
       "<Figure size 1440x1440 with 2 Axes>"
      ]
     },
     "metadata": {},
     "output_type": "display_data"
    }
   ],
   "source": [
    "'''\n",
    "======================\n",
    "3D surface (color map)\n",
    "======================\n",
    "\n",
    "Demonstrates plotting a 3D surface colored with the coolwarm color map.\n",
    "The surface is made opaque by using antialiased=False.\n",
    "\n",
    "Also demonstrates using the LinearLocator and custom formatting for the\n",
    "z axis tick labels.\n",
    "'''\n",
    "\n",
    "from mpl_toolkits.mplot3d import Axes3D\n",
    "import matplotlib.pyplot as plt\n",
    "from matplotlib import cm\n",
    "from matplotlib.ticker import LinearLocator, FormatStrFormatter\n",
    "import numpy as np\n",
    "from scipy import interpolate\n",
    "\n",
    "\n",
    "fig = plt.figure(figsize=(20, 20))\n",
    "ax = fig.gca(projection='3d')\n",
    "\n",
    "# Make data.\n",
    "X = params_2[:,:,0].reshape(-1)\n",
    "Y =  params_2[:,:,1].reshape(-1)\n",
    "XX, YY = np.meshgrid(X, Y)\n",
    "Z = params_2[:,:,2].reshape(-1)\n",
    "Z = scipy.interpolate.interp2d(X, Y, Z)(np.linspace(0.0001, 10, 100), np.linspace(0.0001, 10, 100)).reshape(-1, 1)\n",
    "\n",
    "\n",
    "# Plot the surface.\n",
    "surf = ax.plot_surface(X, Y, Z, cmap=cm.coolwarm,\n",
    "                       linewidth=0, antialiased=False)\n",
    "\n",
    "# Customize the z axis.\n",
    "#ax.set_zlim(-1.01, 1.01)\n",
    "ax.view_init(azim=90)\n",
    "#ax.zaxis.set_major_locator(LinearLocator(10))\n",
    "#ax.zaxis.set_major_formatter(FormatStrFormatter('%.02f'))\n",
    "\n",
    "# Add a color bar which maps values to colors.\n",
    "fig.colorbar(surf, shrink=0.5, aspect=5)\n",
    "\n",
    "plt.show()"
   ]
  },
  {
   "cell_type": "markdown",
   "metadata": {},
   "source": [
    "## Two Gaussians"
   ]
  },
  {
   "cell_type": "markdown",
   "metadata": {},
   "source": [
    "### Without Exp Neuron"
   ]
  },
  {
   "cell_type": "code",
   "execution_count": null,
   "metadata": {},
   "outputs": [],
   "source": [
    "net = Classifier(100)\n",
    "optimizer = torch.optim.Adam(net.parameters(), lr=0.001)\n",
    "\n",
    "train(net, optimizer, 200, dataloader_train=dataloader_g_train, dataloader_test=dataloader_g_test)"
   ]
  },
  {
   "cell_type": "markdown",
   "metadata": {},
   "source": [
    "### With Exp Neuron"
   ]
  },
  {
   "cell_type": "code",
   "execution_count": null,
   "metadata": {},
   "outputs": [],
   "source": [
    "net_WITH_EXP"
   ]
  },
  {
   "cell_type": "code",
   "execution_count": null,
   "metadata": {},
   "outputs": [],
   "source": [
    "net_WITH_EXP = Classifier_WITH_EXP(100)\n",
    "optimizer_WITH_EXP = torch.optim.Adam(net_WITH_EXP.parameters(), lr=0.001)\n",
    "\n",
    "train_WITH_EXP(net_WITH_EXP, optimizer_WITH_EXP, reg_lambda=1., epochs=600, dataloader_train=dataloader_g_train, dataloader_test=dataloader_g_test)"
   ]
  },
  {
   "cell_type": "code",
   "execution_count": null,
   "metadata": {},
   "outputs": [],
   "source": [
    "net_WITH_EXP = Classifier_WITH_EXP(100)\n",
    "optimizer_WITH_EXP = torch.optim.SGD(net_WITH_EXP.parameters(), lr=0.001)\n",
    "\n",
    "train_WITH_EXP(net_WITH_EXP, optimizer_WITH_EXP, reg_lambda=0.05, epochs=600, dataloader_train=dataloader_g_train, dataloader_test=dataloader_g_test)"
   ]
  },
  {
   "cell_type": "code",
   "execution_count": null,
   "metadata": {},
   "outputs": [],
   "source": [
    "net_WITH_EXP = Classifier_WITH_EXP(100)\n",
    "optimizer_WITH_EXP = torch.optim.Adam(net_WITH_EXP.parameters(), lr=0.0001)\n",
    "\n",
    "train_WITH_EXP(net_WITH_EXP, optimizer_WITH_EXP, reg_lambda=10., epochs=600, dataloader_train=dataloader_g_train, dataloader_test=dataloader_g_test)"
   ]
  },
  {
   "cell_type": "code",
   "execution_count": null,
   "metadata": {},
   "outputs": [],
   "source": [
    "def plot_dataset(dataset, classes = None):\n",
    "    if classes is None:\n",
    "        classes = dataset.classes.numpy()\n",
    "    colors = np.where(classes <= 0, 'k', 'b')\n",
    "    plt.scatter(dataset.dots[:, 0].numpy(), dataset.dots[:, 1].numpy(), linewidth=0, c=colors)"
   ]
  },
  {
   "cell_type": "code",
   "execution_count": null,
   "metadata": {},
   "outputs": [],
   "source": [
    "plot_dataset(dataset_c_train)"
   ]
  },
  {
   "cell_type": "code",
   "execution_count": null,
   "metadata": {},
   "outputs": [],
   "source": [
    "plot_dataset(dataset_g_test)"
   ]
  },
  {
   "cell_type": "code",
   "execution_count": null,
   "metadata": {},
   "outputs": [],
   "source": [
    "plot_dataset(dataset_g_test, get_pure(net(dataset_g_test.dots)))"
   ]
  },
  {
   "cell_type": "code",
   "execution_count": null,
   "metadata": {},
   "outputs": [],
   "source": [
    "plot_dataset(dataset_g_test, get_pure(net_WITH_EXP(dataset_g_test.dots)))"
   ]
  },
  {
   "cell_type": "code",
   "execution_count": null,
   "metadata": {},
   "outputs": [],
   "source": [
    "(np.where(net_WITH_EXP(dataset_g_test.dots).data.numpy() < 0, -1, 1) != dataset_g_test.classes.numpy()).sum()"
   ]
  },
  {
   "cell_type": "markdown",
   "metadata": {},
   "source": [
    "# MNIST"
   ]
  },
  {
   "cell_type": "code",
   "execution_count": null,
   "metadata": {},
   "outputs": [],
   "source": [
    "import sys\n",
    "sys.path.insert(0, './MyMNIST/')\n",
    "from MyMNIST import MNIST_Class_Selection"
   ]
  },
  {
   "cell_type": "code",
   "execution_count": null,
   "metadata": {},
   "outputs": [],
   "source": [
    "transform = transforms.Compose([\n",
    "                       transforms.ToTensor(),\n",
    "                       transforms.Normalize((0.1307,), (0.3081,))\n",
    "                    ])\n",
    "dataset_m_train = MNIST_Class_Selection('.', train=True, download=True, transform=transform, class_nums=set([3, 4]))\n",
    "dataset_m_test = MNIST_Class_Selection('.', train=False, transform=transform, class_nums=set([3, 4]))\n",
    "\n",
    "\n",
    "dataloader_m_train = DataLoader(dataset_m_train, batch_size=32, shuffle=True)\n",
    "dataloader_m_test = DataLoader(dataset_m_test, batch_size=32, shuffle=True)"
   ]
  },
  {
   "cell_type": "code",
   "execution_count": null,
   "metadata": {},
   "outputs": [],
   "source": [
    "def train_conv(network, optimizer, epochs, dataloader_train, dataloader_test):\n",
    "    def loss_func(predict_y, correct_y):\n",
    "        loss = None\n",
    "        if use_cuda:\n",
    "            loss = torch.sum(torch.max(-correct_y * predict_y + torch.tensor([1.]).cuda(), torch.tensor([0.]).cuda()) ** 3)\n",
    "        else:\n",
    "            loss = torch.sum(torch.max(-correct_y * predict_y + torch.tensor([1.]), torch.tensor([0.])) ** 3)\n",
    "        return loss\n",
    "    losses_train = []\n",
    "    losses_test = []\n",
    "    misscl_rate_train = []\n",
    "    misscl_rate_test = []\n",
    "    try:\n",
    "        for epoch in range(epochs):\n",
    "            losses_train_batch = []\n",
    "            losses_test_batch = []\n",
    "            misscl_rate_train_batch = []\n",
    "            misscl_rate_test_batch = []\n",
    "            \n",
    "            # train\n",
    "            for batch_dots, batch_labels in dataloader_train:\n",
    "                x = Variable(batch_dots)\n",
    "                correct_y = Variable(batch_labels.float())\n",
    "                if use_cuda:\n",
    "                    x = x.cuda()\n",
    "                    correct_y = correct_y.cuda()\n",
    "\n",
    "                predict_y = network(x)\n",
    "                loss = loss_func(predict_y, correct_y)\n",
    "                \n",
    "                losses_train_batch.append(get_pure(loss))\n",
    "                misscl_rate_train_batch.append((np.where(get_pure(predict_y) < 0, -1, 1) != get_pure(correct_y)).sum())\n",
    "                \n",
    "                optimizer.zero_grad()\n",
    "                loss.backward()\n",
    "                optimizer.step()\n",
    "            # test\n",
    "            for batch_dots, batch_labels in dataloader_train:\n",
    "                x = Variable(batch_dots)\n",
    "                correct_y = Variable(batch_labels.float())\n",
    "                if use_cuda:\n",
    "                    x = x.cuda()\n",
    "                    correct_y = correct_y.cuda()\n",
    "\n",
    "                predict_y = network(x)\n",
    "                loss = loss_func(predict_y, correct_y)\n",
    "                \n",
    "                losses_test_batch.append(get_pure(loss))\n",
    "                misscl_rate_test_batch.append((np.where(get_pure(predict_y) < 0, -1, 1) != get_pure(correct_y)).sum())\n",
    "                \n",
    "            losses_train.append(sum(losses_train_batch)/len(losses_train_batch))\n",
    "            misscl_rate_train.append(sum(misscl_rate_train_batch))\n",
    "            losses_test.append(sum(losses_test_batch)/len(losses_test_batch))\n",
    "            misscl_rate_test.append(sum(misscl_rate_test_batch))\n",
    "\n",
    "            sys.stdout.write('\\rEpoch {0}... Empirical Loss/Misclassification Rate (Train): {1:.3f}/{2:.3f}\\t Empirical Loss/Misclassification Rate (Test): {3:.3f}/{4:.3f}'.format(\n",
    "                            epoch, losses_train[-1], misscl_rate_train[-1], losses_test[-1], misscl_rate_test[-1]))\n",
    "    except KeyboardInterrupt:\n",
    "        pass\n",
    "    plt.figure(figsize=(20, 10))\n",
    "    plt.subplot(1, 2, 1)\n",
    "    plt.plot(losses_train, label='Loss (Train)')\n",
    "    plt.plot(losses_test, label='Loss (Test)')\n",
    "    plt.xlabel('Epochs', fontsize=16)\n",
    "    plt.ylabel('Mean loss', fontsize=16)\n",
    "    plt.legend(loc=0, fontsize=16)\n",
    "    plt.subplot(1, 2, 2)\n",
    "    plt.plot(misscl_rate_train, label='Misclassification Rate (Train)')\n",
    "    plt.plot(misscl_rate_test, label='Misclassification Rate (Test)')\n",
    "    plt.xlabel('Epochs', fontsize=16)\n",
    "    plt.ylabel('Number of objects', fontsize=16)\n",
    "    plt.legend(loc=0, fontsize=16)"
   ]
  },
  {
   "cell_type": "code",
   "execution_count": null,
   "metadata": {},
   "outputs": [],
   "source": [
    "def train_conv_WITH_EXP(network, optimizer, reg_lambda, epochs, dataloader_train, dataloader_test):\n",
    "    def loss_func(predict_y, correct_y, network, reg_lambda):\n",
    "        loss = None\n",
    "        if use_cuda:\n",
    "            loss = torch.sum(torch.max(-correct_y * predict_y + torch.tensor([1.]).cuda(), torch.tensor([0.]).cuda()) ** 3)\n",
    "        else:\n",
    "            loss = torch.sum(torch.max(-correct_y * predict_y + torch.tensor([1.]), torch.tensor([0.])) ** 3)\n",
    "        reg_loss = None\n",
    "        for param in network.explinear.alpha.parameters():\n",
    "            reg_loss = reg_lambda * param.norm(2)\n",
    "        return loss + reg_loss, reg_loss\n",
    "    alpha = []\n",
    "    losses_train = []\n",
    "    losses_test = []\n",
    "    misscl_rate_train = []\n",
    "    misscl_rate_test = []\n",
    "    reg_losses = []\n",
    "    try:\n",
    "        for epoch in range(epochs):\n",
    "            losses_train_batch = []\n",
    "            losses_test_batch = []\n",
    "            misscl_rate_train_batch = []\n",
    "            misscl_rate_test_batch = []\n",
    "            \n",
    "            # train\n",
    "            for batch_dots, batch_labels in dataloader_train:\n",
    "                x = Variable(batch_dots)\n",
    "                correct_y = Variable(batch_labels.float())\n",
    "                if use_cuda:\n",
    "                    x = x.cuda()\n",
    "                    correct_y = correct_y.cuda()\n",
    "\n",
    "                predict_y = network(x)\n",
    "                loss, _ = loss_func(predict_y, correct_y, network, reg_lambda)\n",
    "                \n",
    "                losses_train_batch.append(get_pure(loss))\n",
    "                misscl_rate_train_batch.append((np.where(get_pure(predict_y) < 0, -1, 1) != get_pure(correct_y)).sum())\n",
    "                \n",
    "                optimizer.zero_grad()\n",
    "                loss.backward()\n",
    "                optimizer.step()\n",
    "            # test\n",
    "            reg_loss = None\n",
    "            for batch_dots, batch_labels in dataloader_train:\n",
    "                x = Variable(batch_dots)\n",
    "                correct_y = Variable(batch_labels.float())\n",
    "                if use_cuda:\n",
    "                    x = x.cuda()\n",
    "                    correct_y = correct_y.cuda()\n",
    "\n",
    "                predict_y = network(x)\n",
    "                loss, reg_loss = loss_func(predict_y, correct_y, network, reg_lambda)\n",
    "                \n",
    "                losses_test_batch.append(get_pure(loss))\n",
    "                misscl_rate_test_batch.append((np.where(get_pure(predict_y) < 0, -1, 1) != get_pure(correct_y)).sum())\n",
    "             \n",
    "            alpha.append(network.get_alpha())   \n",
    "            losses_train.append(sum(losses_train_batch)/len(losses_train_batch))\n",
    "            misscl_rate_train.append(sum(misscl_rate_train_batch))\n",
    "            losses_test.append(sum(losses_test_batch)/len(losses_test_batch))\n",
    "            misscl_rate_test.append(sum(misscl_rate_test_batch))\n",
    "            reg_losses.append(get_pure(reg_loss))\n",
    "\n",
    "            sys.stdout.write('\\rEpoch {0}... Empirical Loss/Misclassification Rate (Train): {1:.3f}/{2:.3f}\\t Empirical Loss/Misclassification Rate (Test): {3:.3f}/{4:.3f}'.format(\n",
    "                            epoch, losses_train[-1], misscl_rate_train[-1], losses_test[-1], misscl_rate_test[-1]))\n",
    "    except KeyboardInterrupt:\n",
    "        pass\n",
    "    plt.figure(figsize=(30, 20))\n",
    "    plt.subplot(2, 3, 1)\n",
    "    plt.plot(losses_train, label='Loss (Train)')\n",
    "    plt.plot(losses_test, label='Loss (Test)')\n",
    "    plt.xlabel('Epochs', fontsize=16)\n",
    "    plt.ylabel('Mean loss', fontsize=16)\n",
    "    plt.legend(loc=0, fontsize=16)\n",
    "    plt.subplot(2, 3, 2)\n",
    "    plt.plot(misscl_rate_train, label='Misclassification Rate (Train)')\n",
    "    plt.plot(misscl_rate_test, label='Misclassification Rate (Test)')\n",
    "    plt.xlabel('Epochs', fontsize=16)\n",
    "    plt.ylabel('Number of objects', fontsize=16)\n",
    "    plt.legend(loc=0, fontsize=16)\n",
    "    plt.subplot(2, 3, 3)\n",
    "    plt.plot(alpha, label='Alpha')\n",
    "    plt.xlabel('Epochs', fontsize=16)\n",
    "    plt.ylabel('Alpha', fontsize=16)\n",
    "    plt.legend(loc=0, fontsize=16)\n",
    "    plt.subplot(2, 3, 4)\n",
    "    plt.plot(reg_losses, label='Reg Loss')\n",
    "    plt.xlabel('Epochs', fontsize=16)\n",
    "    plt.ylabel('Mean reg loss', fontsize=16)\n",
    "    plt.legend(loc=0, fontsize=16)\n",
    "    return alpha"
   ]
  },
  {
   "cell_type": "code",
   "execution_count": null,
   "metadata": {},
   "outputs": [],
   "source": [
    "class ConvClassifier(nn.Module):\n",
    "    def __init__(self):\n",
    "        super(ConvClassifier, self).__init__()\n",
    "        self.conv_layers = nn.Sequential(\n",
    "            nn.Conv2d(1, 64, 4, padding=1),\n",
    "            nn.PReLU(),\n",
    "            nn.MaxPool2d(3),\n",
    "            nn.Conv2d(64, 128, 4, padding=1),\n",
    "            nn.PReLU(),\n",
    "            nn.MaxPool2d(3),\n",
    "            nn.Conv2d(128, 256, 4, padding=1),\n",
    "            nn.PReLU(),\n",
    "        )\n",
    "        self.linear_layers = nn.Sequential(\n",
    "            nn.Linear(256, 1)\n",
    "        )\n",
    "    \n",
    "    def forward(self, x):\n",
    "        x = self.conv_layers(x)\n",
    "        x = x.view(x.size(0), -1)\n",
    "        return self.linear_layers(x).view(-1)"
   ]
  },
  {
   "cell_type": "code",
   "execution_count": null,
   "metadata": {},
   "outputs": [],
   "source": [
    "class ConvClassifier_WITH_EXP(nn.Module):\n",
    "    def __init__(self, in_size):\n",
    "        super(ConvClassifier_WITH_EXP, self).__init__()\n",
    "        self.conv_layers = nn.Sequential(\n",
    "            nn.Conv2d(1, 64, 4, padding=1),\n",
    "            nn.PReLU(),\n",
    "            nn.MaxPool2d(3),\n",
    "            nn.Conv2d(64, 128, 4, padding=1),\n",
    "            nn.PReLU(),\n",
    "            nn.MaxPool2d(3),\n",
    "            nn.Conv2d(128, 256, 4, padding=1),\n",
    "            nn.PReLU(),\n",
    "        )\n",
    "        self.linear_layers = nn.Sequential(\n",
    "            nn.Linear(256, 1)\n",
    "        )\n",
    "        self.explinear = ExpLinear(in_size)\n",
    "    \n",
    "    def forward(self, x):\n",
    "        y = self.explinear(x.view(x.shape[0], -1)).view(-1)\n",
    "        x = self.conv_layers(x)\n",
    "        x = x.view(x.shape[0], -1)\n",
    "        return self.linear_layers(x).view(-1) + y\n",
    "    \n",
    "    # get parameter alpha from explinear block\n",
    "    def get_alpha(self):\n",
    "        return self.explinear.get_alpha()"
   ]
  },
  {
   "cell_type": "code",
   "execution_count": null,
   "metadata": {},
   "outputs": [],
   "source": [
    "net_m = ConvClassifier()\n",
    "if use_cuda:\n",
    "    net_m = net_m.cuda()\n",
    "optimizer_m = torch.optim.SGD(net_m.parameters(), lr=0.0001)"
   ]
  },
  {
   "cell_type": "code",
   "execution_count": null,
   "metadata": {},
   "outputs": [],
   "source": [
    "train_conv(net_m, optimizer_m, 2, dataloader_train=dataloader_m_train, dataloader_test=dataloader_m_test)\n",
    "train_conv(net_m, optimizer_m, 20, dataloader_train=dataloader_m_train, dataloader_test=dataloader_m_test)"
   ]
  },
  {
   "cell_type": "code",
   "execution_count": null,
   "metadata": {},
   "outputs": [],
   "source": [
    "net_WITH_EXP_m = ConvClassifier_WITH_EXP(28 * 28)\n",
    "if use_cuda:\n",
    "    net_WITH_EXP_m = net_WITH_EXP_m.cuda()\n",
    "optimizer_WITH_EXP_m = torch.optim.SGD(net_WITH_EXP_m.parameters(), lr=0.0001)"
   ]
  },
  {
   "cell_type": "code",
   "execution_count": null,
   "metadata": {},
   "outputs": [],
   "source": [
    "alpha = train_conv_WITH_EXP(net_WITH_EXP_m, optimizer_WITH_EXP_m, reg_lambda=0.5, epochs=20, dataloader_train=dataloader_m_train, dataloader_test=dataloader_m_test)"
   ]
  },
  {
   "cell_type": "code",
   "execution_count": null,
   "metadata": {},
   "outputs": [],
   "source": [
    "class AugActivation(nn.Module):\n",
    "    def __init__(self, base_activation):\n",
    "        super(AugActivation, self).__init__()\n",
    "        self.base_activation = base_activation\n",
    "        self.exp_activation = torch.exp\n",
    "        \n",
    "    def forward(self, x):\n",
    "        y_1 = self.base_activation(x[:, :-1])\n",
    "        y_2 = self.exp_activation(x[:, -1:])\n",
    "        return torch.cat([y_1, y_2], dim=1)"
   ]
  },
  {
   "cell_type": "code",
   "execution_count": null,
   "metadata": {},
   "outputs": [],
   "source": [
    "gg = AugActivation(nn.PReLU())"
   ]
  },
  {
   "cell_type": "code",
   "execution_count": null,
   "metadata": {},
   "outputs": [],
   "source": [
    "x = Variable(torch.Tensor([[1,2,3,4], [5,6,7,8], [9, 10, 11, 12]]), requires_grad=True)"
   ]
  },
  {
   "cell_type": "code",
   "execution_count": null,
   "metadata": {},
   "outputs": [],
   "source": [
    "x"
   ]
  },
  {
   "cell_type": "code",
   "execution_count": null,
   "metadata": {},
   "outputs": [],
   "source": [
    "y = gg(x).norm(2)"
   ]
  },
  {
   "cell_type": "code",
   "execution_count": null,
   "metadata": {},
   "outputs": [],
   "source": [
    "y.backward()"
   ]
  },
  {
   "cell_type": "code",
   "execution_count": null,
   "metadata": {},
   "outputs": [],
   "source": [
    "print x.grad"
   ]
  },
  {
   "cell_type": "code",
   "execution_count": null,
   "metadata": {},
   "outputs": [],
   "source": []
  }
 ],
 "metadata": {
  "kernelspec": {
   "display_name": "Python 3",
   "language": "python",
   "name": "python3"
  },
  "language_info": {
   "codemirror_mode": {
    "name": "ipython",
    "version": 3
   },
   "file_extension": ".py",
   "mimetype": "text/x-python",
   "name": "python",
   "nbconvert_exporter": "python",
   "pygments_lexer": "ipython3",
   "version": "3.6.6"
  }
 },
 "nbformat": 4,
 "nbformat_minor": 2
}

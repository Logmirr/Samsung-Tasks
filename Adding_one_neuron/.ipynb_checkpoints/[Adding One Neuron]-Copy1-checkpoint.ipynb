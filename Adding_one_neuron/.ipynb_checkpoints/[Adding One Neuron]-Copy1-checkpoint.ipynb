{
 "cells": [
  {
   "cell_type": "code",
   "execution_count": 1,
   "metadata": {},
   "outputs": [],
   "source": [
    "%matplotlib inline\n",
    "import os\n",
    "import torch\n",
    "import sys\n",
    "import pandas as pd\n",
    "from copy import deepcopy\n",
    "import numpy as np\n",
    "import matplotlib.pyplot as plt\n",
    "from torch.utils.data import Dataset, DataLoader\n",
    "import math\n",
    "import torch.nn as nn \n",
    "from torch.autograd import Variable\n",
    "# Ignore warnings\n",
    "import warnings\n",
    "warnings.filterwarnings(\"ignore\")\n",
    "\n",
    "from torchvision import transforms\n",
    "\n",
    "use_cuda = False\n",
    "os.environ[\"CUDA_VISIBLE_DEVICES\"]=\"7\"\n",
    "if torch.cuda.is_available():\n",
    "    device = torch.cuda.device(\"cuda:7\")\n",
    "    use_cuda = True"
   ]
  },
  {
   "cell_type": "code",
   "execution_count": 2,
   "metadata": {},
   "outputs": [],
   "source": [
    "class ExpLinear(nn.Module):\n",
    "    def __init__(self, in_size):\n",
    "        super(ExpLinear, self).__init__()\n",
    "        self.linear = nn.Sequential(nn.Linear(in_size, 1))\n",
    "        self.alpha = nn.Sequential(nn.Linear(1, 1, bias=False))\n",
    "        def prnt(args):\n",
    "            #print (\"grad: \", args)\n",
    "            #print (\"val: \", self.cloned_x)\n",
    "            pass\n",
    "        dict(self.alpha.named_parameters())['0.weight'].register_hook(prnt)\n",
    "        self.cloned_x = None\n",
    "\n",
    "    def forward(self, x):\n",
    "        self.cloned_x = self.alpha(torch.exp(self.linear(x))).clone().detach()\n",
    "        return self.alpha(torch.exp(self.linear(x)))\n",
    "    \n",
    "    def get_alpha(self):\n",
    "        return get_pure(dict(self.alpha.named_parameters())['0.weight'])[0][0]\n",
    "    \n",
    "    def init_weigth(self, mean, std):\n",
    "        for name, param in super(ExpLinear, self).named_parameters():\n",
    "            param.data.normal_(mean, std)"
   ]
  },
  {
   "cell_type": "code",
   "execution_count": 3,
   "metadata": {},
   "outputs": [],
   "source": [
    "class Classifier_WITH_EXP(nn.Module):\n",
    "    def __init__(self, in_size):\n",
    "        super(Classifier_WITH_EXP, self).__init__()\n",
    "        self.linear = nn.Sequential(\n",
    "            nn.Linear(in_size, in_size // 2),\n",
    "            nn.Sigmoid(),\n",
    "            nn.Linear(in_size // 2, in_size // 4),\n",
    "            nn.Sigmoid(),\n",
    "            nn.Linear(in_size // 4, 1)\n",
    "        )\n",
    "        self.explinear = ExpLinear(in_size)\n",
    "        \n",
    "    def forward(self, x):\n",
    "        x = x.view(x.size(0), -1)\n",
    "        return self.linear(x).view(-1) + self.explinear(x).view(-1)\n",
    "    \n",
    "    # get parameter alpha from explinear block\n",
    "    def get_alpha(self):\n",
    "        return self.explinear.get_alpha()"
   ]
  },
  {
   "cell_type": "code",
   "execution_count": 4,
   "metadata": {},
   "outputs": [],
   "source": [
    "class Classifier(nn.Module):\n",
    "    def __init__(self, in_size):\n",
    "        super(Classifier, self).__init__()\n",
    "        self.linear = nn.Sequential(\n",
    "            nn.Linear(in_size, in_size // 2),\n",
    "            nn.Sigmoid(),\n",
    "            nn.Linear(in_size // 2, in_size // 4),\n",
    "            nn.Sigmoid(),\n",
    "            nn.Linear(in_size // 4, 1)\n",
    "        )\n",
    "        \n",
    "    def forward(self, x):\n",
    "        return self.linear(x).view(-1)"
   ]
  },
  {
   "cell_type": "code",
   "execution_count": 5,
   "metadata": {},
   "outputs": [],
   "source": [
    "class TwoCircleDataset(Dataset):\n",
    "    def __init__(self, R1, R2, N, dim, train=False, normalize=True):\n",
    "        self.R1 = R1\n",
    "        self.R2 = R2\n",
    "        self.N = N\n",
    "        self.dim = dim\n",
    "        self.train = train\n",
    "        self.normalize = normalize\n",
    "        \n",
    "#         self.dots = torch.zeros([N + N // 2, dim])\n",
    "        \n",
    "#         self.classes = torch.zeros([N + N // 2])        \n",
    "        self.dots = torch.zeros([N, dim])\n",
    "        \n",
    "        self.classes = torch.zeros([N])\n",
    "        self.classes.bernoulli_(0.5)\n",
    "        self.classes = self.classes * 2 - 1\n",
    "        \n",
    "        self.normal_generator = torch.distributions.normal.Normal(torch.tensor([0.0]), torch.tensor([1.0]))\n",
    "        for idx in range(self.N):\n",
    "            self.dots[idx] = self.normal_generator.sample_n(self.dim).view(1, -1)\n",
    "            self.dots[idx] /= torch.sqrt(torch.sum(self.dots[idx] ** 2))\n",
    "            self.classes[idx] = self.classes[idx]\n",
    "            if self.classes[idx] == 1:\n",
    "                self.dots[idx] *= self.R1\n",
    "            else:\n",
    "                self.dots[idx] *= self.R2\n",
    "                \n",
    "#         for idx in range(self.N // 2):\n",
    "#             self.dots[N + idx] = self.normal_generator.sample_n(self.dim).view(1, -1)\n",
    "#             self.dots[N + idx] /= torch.sqrt(torch.sum(self.dots[N + idx] ** 2))\n",
    "#             if self.R1 > self.R2:\n",
    "#                 self.classes[N + idx] = 1\n",
    "#                 self.dots[idx] *= self.R1 * 2\n",
    "#             else:\n",
    "#                 self.classes[N + idx] = -1\n",
    "#                 self.dots[idx] *= self.R2 * 2\n",
    "                \n",
    "        self.mean = self.dots.mean(dim=0)\n",
    "        self.std = self.dots.std(dim=0)\n",
    "        \n",
    "        if self.normalize:\n",
    "            self.dots = (self.dots - self.mean.expand_as(self.dots)) / self.std.expand_as(self.dots)\n",
    "                \n",
    "    def __len__(self):\n",
    "        return len(self.dots)\n",
    "\n",
    "    def __getitem__(self, idx):\n",
    "        return (self.dots[idx], self.classes[idx])         "
   ]
  },
  {
   "cell_type": "code",
   "execution_count": 6,
   "metadata": {},
   "outputs": [],
   "source": [
    "class TwoGaussiansDataset(Dataset):\n",
    "    def __init__(self, M1, M2, N, dim, train=False):\n",
    "        self.M1 = M1\n",
    "        self.M2 = M2\n",
    "        self.N = N\n",
    "        self.dim = dim\n",
    "        self.train = train\n",
    "        \n",
    "        self.dots = torch.zeros([N, dim])\n",
    "        \n",
    "        self.classes = torch.zeros([N])\n",
    "        self.classes.bernoulli_(0.5)\n",
    "        self.classes = self.classes * 2 - 1\n",
    "        \n",
    "        self.normal_generator_1 = torch.distributions.normal.Normal(torch.tensor([M1]), torch.tensor([1.0]))\n",
    "        self.normal_generator_2 = torch.distributions.normal.Normal(torch.tensor([M2]), torch.tensor([1.0]))\n",
    "        for idx in range(self.N):\n",
    "            if self.classes[idx] == 1:\n",
    "                self.dots[idx] = self.normal_generator_1.sample_n(self.dim).view(1, -1)\n",
    "            else:\n",
    "                self.dots[idx] = self.normal_generator_2.sample_n(self.dim).view(1, -1)\n",
    "        \n",
    "    def __len__(self):\n",
    "        return len(self.dots)\n",
    "\n",
    "    def __getitem__(self, idx):\n",
    "        return (self.dots[idx], self.classes[idx])"
   ]
  },
  {
   "cell_type": "code",
   "execution_count": 7,
   "metadata": {},
   "outputs": [],
   "source": [
    "dataset_c_train = TwoCircleDataset(1, 10, 1000, 100, train=True)\n",
    "dataset_c_test = TwoCircleDataset(1, 10, 1000, 100, train=False)\n",
    "dataset_c_validation = TwoCircleDataset(1, 10, 1000, 100, train=False)\n",
    "dataloader_c_train = DataLoader(dataset_c_train, batch_size=128, shuffle=True)\n",
    "dataloader_c_test = DataLoader(dataset_c_test, batch_size=128, shuffle=True)\n",
    "\n",
    "dataset_g_train = TwoGaussiansDataset(0., 0.1, 2000, 100, train=True)\n",
    "dataset_g_test = TwoGaussiansDataset(0., 0., 2000, 100, train=False)\n",
    "dataset_g_validation = TwoGaussiansDataset(0., 0.1, 2000, 100, train=False)\n",
    "dataloader_g_train = DataLoader(dataset_g_train, batch_size=128, shuffle=True)\n",
    "dataloader_g_test = DataLoader(dataset_g_test, batch_size=128, shuffle=True)"
   ]
  },
  {
   "cell_type": "code",
   "execution_count": 8,
   "metadata": {},
   "outputs": [],
   "source": [
    "def get_pure(args):\n",
    "    return args.data.cpu().clone().numpy()"
   ]
  },
  {
   "cell_type": "code",
   "execution_count": 9,
   "metadata": {},
   "outputs": [],
   "source": [
    "def train_WITH_EXP(network, learning_rate, reg_lambda, epochs, dataloader_train, dataloader_test, verbose=True):\n",
    "    def loss_func(predict_y, correct_y, network, reg_lambda):\n",
    "        loss = torch.sum(torch.max(-correct_y * predict_y + torch.tensor([1.]), torch.tensor([0.])) ** 3)\n",
    "        reg_loss = None\n",
    "        for param in network.explinear.alpha.parameters():\n",
    "            reg_loss = reg_lambda * param.norm(2)\n",
    "        return loss + reg_loss, reg_loss\n",
    "    losses_train = []\n",
    "    losses_test = []\n",
    "    misscl_rate_train = []\n",
    "    misscl_rate_test = []\n",
    "    alpha = []    \n",
    "    reg_losses = []\n",
    "    try:\n",
    "        for epoch in range(epochs):\n",
    "            if epoch % 10 == 0:\n",
    "                optimizer = torch.optim.Adam(network.parameters(), lr=learning_rate)\n",
    "            for batch_dots, batch_labels in dataloader_train:\n",
    "                x = Variable(batch_dots)\n",
    "                correct_y = Variable(batch_labels.float())\n",
    "\n",
    "                predict_y = network(x)\n",
    "                loss, _ = loss_func(predict_y, correct_y, network, reg_lambda)\n",
    "\n",
    "                optimizer.zero_grad()\n",
    "                loss.backward()\n",
    "                optimizer.step()\n",
    "                \n",
    "            alpha.append(network.get_alpha())\n",
    "            \n",
    "            loss, reg_loss = loss_func(network(dataloader_train.dataset.dots),\n",
    "                                       dataloader_train.dataset.classes, network,\n",
    "                                       reg_lambda)\n",
    "            losses_train.append(get_pure(loss))\n",
    "            reg_losses.append(get_pure(reg_loss))\n",
    "            misscl_rate_train.append(\n",
    "                (np.where(get_pure(network(dataloader_train.dataset.dots)) < 0, -1, 1) != \n",
    "                dataloader_train.dataset.classes.numpy()).sum())\n",
    "            \n",
    "            loss, _ = loss_func(network(dataloader_test.dataset.dots),\n",
    "                                dataloader_test.dataset.classes, network,\n",
    "                                reg_lambda)\n",
    "            losses_test.append(get_pure(loss))\n",
    "            misscl_rate_test.append(\n",
    "                (np.where(get_pure(network(dataloader_test.dataset.dots)) < 0, -1, 1) != \n",
    "                dataloader_test.dataset.classes.numpy()).sum())\n",
    "                \n",
    "            sys.stdout.write('\\rEpoch {0}... Empirical Loss/Misclassification Rate (Train): {1:.3f}/{2:.3f}\\t Empirical Loss/Misclassification Rate (Test): {3:.3f}/{4:.3f}'.format(\n",
    "                            epoch, losses_train[-1], misscl_rate_train[-1], losses_test[-1], misscl_rate_test[-1]))\n",
    "            \n",
    "            if math.isnan(losses_train[-1]):              \n",
    "                raise KeyboardInterrupt\n",
    "    except KeyboardInterrupt:\n",
    "        pass\n",
    "    if verbose:\n",
    "        plt.figure(figsize=(30, 20))\n",
    "\n",
    "        plt.subplot(2, 3, 1)\n",
    "        plt.plot(losses_train, label='Loss (Train)')\n",
    "        plt.plot(losses_test, label='Loss (Test)')\n",
    "        plt.xlabel('Epochs', fontsize=16)\n",
    "        plt.ylabel('Mean loss', fontsize=16)\n",
    "        plt.legend(loc=0, fontsize=16)\n",
    "\n",
    "        plt.subplot(2, 3, 2)\n",
    "        plt.plot(misscl_rate_train, label='Misclassification Rate (Train)')\n",
    "        plt.plot(misscl_rate_test, label='Misclassification Rate (Test)')\n",
    "        plt.xlabel('Epochs', fontsize=16)\n",
    "        plt.ylabel('Number of objects', fontsize=16)\n",
    "        plt.legend(loc=0, fontsize=16)\n",
    "\n",
    "        plt.subplot(2, 3, 3)\n",
    "        plt.plot(alpha, label='Alpha')\n",
    "        plt.xlabel('Epochs', fontsize=16)\n",
    "        plt.ylabel('Alpha', fontsize=16)\n",
    "        plt.legend(loc=0, fontsize=16)\n",
    "        plt.figure(figsize=(30, 10))\n",
    "\n",
    "        plt.subplot(2, 3, 4)\n",
    "        plt.plot(reg_losses, label='Reg Loss')\n",
    "        plt.xlabel('Epochs', fontsize=16)\n",
    "        plt.ylabel('Mean reg loss', fontsize=16)\n",
    "        plt.legend(loc=0, fontsize=16)\n",
    "    \n",
    "    return losses_train[-1], misscl_rate_train[-1], losses_test[-1], misscl_rate_test[-1]"
   ]
  },
  {
   "cell_type": "code",
   "execution_count": 10,
   "metadata": {},
   "outputs": [],
   "source": [
    "def train(network, learning_rate, epochs, dataloader_train, dataloader_test, verbose=True):\n",
    "    def loss_func(predict_y, correct_y):\n",
    "        loss = torch.sum(torch.max(-correct_y * predict_y + torch.tensor([1.]), torch.tensor([0.])) ** 3)\n",
    "        return loss\n",
    "    losses_train = []\n",
    "    losses_test = []\n",
    "    misscl_rate_train = []\n",
    "    misscl_rate_test = []\n",
    "    try:\n",
    "        for epoch in range(epochs):\n",
    "            if epoch % 10 == 0:\n",
    "                optimizer = torch.optim.Adam(network.parameters(), lr=learning_rate)\n",
    "            for batch_dots, batch_labels in dataloader_train:\n",
    "                x = Variable(batch_dots)\n",
    "                correct_y = Variable(batch_labels.float())\n",
    "                \n",
    "                predict_y = network(x)\n",
    "                loss = loss_func(predict_y, correct_y)\n",
    "\n",
    "                optimizer.zero_grad()\n",
    "                loss.backward()\n",
    "                optimizer.step()\n",
    "            losses_train.append(loss_func(network(dataloader_train.dataset.dots), dataloader_train.dataset.classes))\n",
    "            misscl_rate_train.append((np.where(get_pure(network(dataloader_train.dataset.dots)) < 0, -1, 1) != dataloader_train.dataset.classes.numpy()).sum())\n",
    "\n",
    "            losses_test.append(loss_func(network(dataloader_test.dataset.dots), dataloader_test.dataset.classes))\n",
    "            misscl_rate_test.append((np.where(get_pure(network(dataloader_test.dataset.dots)) < 0, -1, 1) != dataloader_test.dataset.classes.numpy()).sum())\n",
    "\n",
    "            sys.stdout.write('\\rEpoch {0}... Empirical Loss/Misclassification Rate (Train): {1:.3f}/{2:.3f}\\t Empirical Loss/Misclassification Rate (Test): {3:.3f}/{4:.3f}'.format(\n",
    "                            epoch, losses_train[-1], misscl_rate_train[-1], losses_test[-1], misscl_rate_test[-1]))\n",
    "            \n",
    "            if math.isnan(losses_train[-1]):\n",
    "                raise KeyboardInterrupt\n",
    "    except KeyboardInterrupt:\n",
    "        pass\n",
    "    if verbose:\n",
    "        plt.figure(figsize=(20, 10))\n",
    "        plt.subplot(1, 2, 1)\n",
    "        plt.plot(losses_train, label='Loss (Train)')\n",
    "        plt.plot(losses_test, label='Loss (Test)')\n",
    "        plt.xlabel('Epochs', fontsize=16)\n",
    "        plt.ylabel('Mean loss', fontsize=16)\n",
    "        plt.legend(loc=0, fontsize=16)\n",
    "        plt.subplot(1, 2, 2)\n",
    "        plt.plot(misscl_rate_train, label='Misclassification Rate (Train)')\n",
    "        plt.plot(misscl_rate_test, label='Misclassification Rate (Test)')\n",
    "        plt.xlabel('Epochs', fontsize=16)\n",
    "        plt.ylabel('Number of objects', fontsize=16)\n",
    "        plt.legend(loc=0, fontsize=16)\n",
    "    \n",
    "    return losses_train[-1], misscl_rate_train[-1], losses_test[-1], misscl_rate_test[-1]    "
   ]
  },
  {
   "cell_type": "markdown",
   "metadata": {},
   "source": [
    "## Two N-dim concentric spheres"
   ]
  },
  {
   "cell_type": "markdown",
   "metadata": {},
   "source": [
    "### Without Exp Neuron"
   ]
  },
  {
   "cell_type": "code",
   "execution_count": null,
   "metadata": {},
   "outputs": [],
   "source": [
    "lr_best = 0\n",
    "err_best = 1000\n",
    "for lr in np.logspace(-4, 1, 10):\n",
    "    net = Classifier(100)\n",
    "    err = train(net, learning_rate=lr, epochs=200,\n",
    "              dataloader_train=dataloader_c_train, dataloader_test=dataloader_c_test)[3]\n",
    "    if err < err_best:\n",
    "        err_best = err\n",
    "        lr_best = lr\n",
    "print ('\\n', lr_best, err_best)"
   ]
  },
  {
   "cell_type": "code",
   "execution_count": null,
   "metadata": {},
   "outputs": [],
   "source": [
    "net = Classifier(100)\n",
    "train(net, learning_rate=0.22, epochs=200,\n",
    "      dataloader_train=dataloader_c_train, dataloader_test=dataloader_c_test)"
   ]
  },
  {
   "cell_type": "code",
   "execution_count": null,
   "metadata": {},
   "outputs": [],
   "source": [
    "(np.where(get_pure(net(dataset_c_validation.dots)) < 0, -1, 1) != dataset_c_validation.classes.numpy()).sum()"
   ]
  },
  {
   "cell_type": "markdown",
   "metadata": {},
   "source": [
    "### With Exp Neuron"
   ]
  },
  {
   "cell_type": "code",
   "execution_count": null,
   "metadata": {},
   "outputs": [],
   "source": [
    "lr_best = 0\n",
    "err_best = 1000\n",
    "for lr in np.logspace(-4, 1, 10):\n",
    "    net_WITH_EXP = Classifier_WITH_EXP(100)\n",
    "    net_WITH_EXP.explinear.init_weigth(0, 0.001)\n",
    "    err = train_WITH_EXP(net_WITH_EXP, learning_rate=0.001, reg_lambda=0.02, epochs=200,\n",
    "                         dataloader_train=dataloader_c_train, dataloader_test=dataloader_c_test)[3]\n",
    "    if err < err_best:\n",
    "        err_best = err\n",
    "        lr_best = lr\n",
    "print ('\\n', lr_best, err_best)"
   ]
  },
  {
   "cell_type": "code",
   "execution_count": null,
   "metadata": {},
   "outputs": [],
   "source": [
    "net_WITH_EXP = Classifier_WITH_EXP(100)\n",
    "net_WITH_EXP.explinear.init_weigth(0, 0.001)\n",
    "\n",
    "train_WITH_EXP(net_WITH_EXP, learning_rate=0.004, reg_lambda=0.02, epochs=200,\n",
    "               dataloader_train=dataloader_c_train, dataloader_test=dataloader_c_test)"
   ]
  },
  {
   "cell_type": "code",
   "execution_count": null,
   "metadata": {},
   "outputs": [],
   "source": [
    "(np.where(get_pure(net_WITH_EXP(dataset_c_validation.dots)) < 0, -1, 1) != dataset_c_validation.classes.numpy()).sum()"
   ]
  },
  {
   "cell_type": "code",
   "execution_count": null,
   "metadata": {},
   "outputs": [],
   "source": [
    "params = np.zeros([100, 100, 3])"
   ]
  },
  {
   "cell_type": "code",
   "execution_count": null,
   "metadata": {},
   "outputs": [],
   "source": [
    "# for idx, lr in enumerate(np.linspace(0.0001, 10, 10)):\n",
    "#     for jdx, lamb in enumerate(np.linspace(0.0001, 10, 10)):\n",
    "#         print (idx, jdx)\n",
    "#         net_WITH_EXP = Classifier_WITH_EXP(20)\n",
    "#         optimizer_WITH_EXP = torch.optim.Adam(net_WITH_EXP.parameters(), lr=float(lr))\n",
    "#         res = train_WITH_EXP(net_WITH_EXP, optimizer_WITH_EXP, reg_lambda=float(lamb), epochs=500, dataloader_train=dataloader_c_train, dataloader_test=dataloader_c_test, verbose=False)\n",
    "#         params[idx][jdx] = [lr, lamb, res[0]]\n",
    "#         if np.isnan(params[idx][jdx][2]) or np.isinf(params[idx][jdx][2]):\n",
    "#             params[idx][jdx][2] = -1000\n",
    "\n",
    "for idx, lr in enumerate(np.logspace(-4, 1, 100)):\n",
    "    for jdx, lamb in enumerate(np.logspace(-4, 1, 100)):\n",
    "        print (idx, jdx)\n",
    "        net_WITH_EXP = Classifier_WITH_EXP(20)\n",
    "        optimizer_WITH_EXP = torch.optim.Adam(net_WITH_EXP.parameters(), lr=float(lr))\n",
    "        res = train_WITH_EXP(net_WITH_EXP, optimizer_WITH_EXP, reg_lambda=float(lamb), epochs=100, dataloader_train=dataloader_c_train, dataloader_test=dataloader_c_test, verbose=False)\n",
    "        params[idx][jdx] = [lr, lamb, res[0]]\n",
    "        if np.isnan(params[idx][jdx][2]) or np.isinf(params[idx][jdx][2]):\n",
    "            params[idx][jdx][2] = -1000"
   ]
  },
  {
   "cell_type": "code",
   "execution_count": null,
   "metadata": {},
   "outputs": [],
   "source": [
    "params[params[:,:,2] < 0] =  -100"
   ]
  },
  {
   "cell_type": "code",
   "execution_count": null,
   "metadata": {},
   "outputs": [],
   "source": [
    "print( (params[:, :, 2] / 100).round(2) )\n",
    "print( (Z.reshape(10000, 10000) / 100).round(2) )"
   ]
  },
  {
   "cell_type": "code",
   "execution_count": null,
   "metadata": {},
   "outputs": [],
   "source": [
    "plt.plot(np.linspace(0.0001, 10, 10000), Z.reshape(10000, 10000)[8000,:])"
   ]
  },
  {
   "cell_type": "code",
   "execution_count": null,
   "metadata": {},
   "outputs": [],
   "source": [
    "import matplotlib.pyplot as plt\n",
    "from matplotlib import cm\n",
    "from matplotlib.ticker import LinearLocator, FormatStrFormatter\n",
    "import numpy as np\n",
    "from scipy import interpolate\n",
    "\n",
    "# Make data.\n",
    "X = params[:,:,0].reshape(-1)\n",
    "Y =  params[:,:,1].reshape(-1)\n",
    "XX, YY = np.meshgrid(X, Y)\n",
    "Z = params[:,:,2].reshape(-1)\n",
    "Z = interpolate.interp2d(X, Y, Z, kind='cubic')(np.linspace(0.0001, 10, 10000), np.linspace(0.0001, 10, 10000))"
   ]
  },
  {
   "cell_type": "code",
   "execution_count": null,
   "metadata": {},
   "outputs": [],
   "source": [
    "# Plot the surface.\n",
    "fig = plt.figure(figsize=(30, 30))\n",
    "\n",
    "contour = plt.contourf(np.linspace(0.0001, 10, 10000), np.linspace(0.0001, 10, 10000), (Z / 100).round(2))\n",
    "\n",
    "plt.clabel(contour)\n",
    "plt.show()"
   ]
  },
  {
   "cell_type": "markdown",
   "metadata": {},
   "source": [
    "## Two Gaussians"
   ]
  },
  {
   "cell_type": "markdown",
   "metadata": {},
   "source": [
    "### Without Exp Neuron"
   ]
  },
  {
   "cell_type": "code",
   "execution_count": null,
   "metadata": {},
   "outputs": [],
   "source": [
    "net = Classifier(100)\n",
    "train(net, learning_rate=0.01, epochs=200,\n",
    "      dataloader_train=dataloader_g_train, dataloader_test=dataloader_g_test)"
   ]
  },
  {
   "cell_type": "markdown",
   "metadata": {},
   "source": [
    "### With Exp Neuron"
   ]
  },
  {
   "cell_type": "code",
   "execution_count": null,
   "metadata": {},
   "outputs": [],
   "source": [
    "net_WITH_EXP = Classifier_WITH_EXP(100)\n",
    "\n",
    "train_WITH_EXP(net_WITH_EXP, learning_rate=0.001, reg_lambda=1., epochs=600, dataloader_train=dataloader_g_train, dataloader_test=dataloader_g_test)"
   ]
  },
  {
   "cell_type": "code",
   "execution_count": null,
   "metadata": {},
   "outputs": [],
   "source": [
    "def plot_dataset(dataset, classes = None):\n",
    "    if classes is None:\n",
    "        classes = dataset.classes.numpy()\n",
    "    colors = np.where(classes <= 0, 'k', 'b')\n",
    "    plt.figure(figsize=(5,5))\n",
    "    plt.xlim([-1, 1])\n",
    "    plt.ylim([-1, 1])\n",
    "    plt.scatter(dataset.dots[:, 0].numpy(), dataset.dots[:, 1].numpy(), linewidth=0, c=colors)"
   ]
  },
  {
   "cell_type": "code",
   "execution_count": null,
   "metadata": {},
   "outputs": [],
   "source": [
    "plot_dataset(dataset_c_train)"
   ]
  },
  {
   "cell_type": "code",
   "execution_count": null,
   "metadata": {},
   "outputs": [],
   "source": [
    "plot_dataset(dataset_g_test)"
   ]
  },
  {
   "cell_type": "code",
   "execution_count": null,
   "metadata": {},
   "outputs": [],
   "source": [
    "plot_dataset(dataset_g_test, get_pure(net(dataset_g_test.dots)))"
   ]
  },
  {
   "cell_type": "code",
   "execution_count": null,
   "metadata": {},
   "outputs": [],
   "source": [
    "plot_dataset(dataset_g_test, get_pure(net_WITH_EXP(dataset_g_test.dots)))"
   ]
  },
  {
   "cell_type": "code",
   "execution_count": null,
   "metadata": {},
   "outputs": [],
   "source": [
    "(np.where(net_WITH_EXP(dataset_g_test.dots).data.numpy() < 0, -1, 1) != dataset_g_test.classes.numpy()).sum()"
   ]
  },
  {
   "cell_type": "markdown",
   "metadata": {},
   "source": [
    "# MNIST"
   ]
  },
  {
   "cell_type": "code",
   "execution_count": 11,
   "metadata": {},
   "outputs": [],
   "source": [
    "import sys\n",
    "sys.path.insert(0, './MyMNIST/')\n",
    "from MyMNIST import MNIST_Class_Selection"
   ]
  },
  {
   "cell_type": "code",
   "execution_count": 12,
   "metadata": {},
   "outputs": [],
   "source": [
    "transform = transforms.Compose([\n",
    "                       transforms.ToTensor(),\n",
    "                       transforms.Normalize((0.1307,), (0.3081,))\n",
    "                    ])\n",
    "dataset_m_train = MNIST_Class_Selection('.', train=True, download=True, transform=transform, class_nums=set([1, 7]))\n",
    "dataset_m_test = MNIST_Class_Selection('.', train=False, transform=transform, class_nums=set([1, 7]))\n",
    "\n",
    "\n",
    "dataloader_m_train = DataLoader(dataset_m_train, batch_size=32, shuffle=True)\n",
    "dataloader_m_test = DataLoader(dataset_m_test, batch_size=32, shuffle=True)"
   ]
  },
  {
   "cell_type": "code",
   "execution_count": 13,
   "metadata": {},
   "outputs": [],
   "source": [
    "def train_conv(network, learning_rate, epochs, dataloader_train, dataloader_test, verbose=True):\n",
    "    def loss_func(predict_y, correct_y):\n",
    "        loss = None\n",
    "        if use_cuda:\n",
    "            loss = torch.sum(torch.max(-correct_y * predict_y + torch.tensor([1.]).cuda(), torch.tensor([0.]).cuda()) ** 3)\n",
    "        else:\n",
    "            loss = torch.sum(torch.max(-correct_y * predict_y + torch.tensor([1.]), torch.tensor([0.])) ** 3)\n",
    "        return loss\n",
    "    losses_train = []\n",
    "    losses_test = []\n",
    "    misscl_rate_train = []\n",
    "    misscl_rate_test = []\n",
    "    try:\n",
    "        for epoch in range(epochs):\n",
    "            losses_train_batch = []\n",
    "            losses_test_batch = []\n",
    "            misscl_rate_train_batch = []\n",
    "            misscl_rate_test_batch = []\n",
    "            \n",
    "            if epoch % 10 == 0:\n",
    "                optimizer = torch.optim.Adam(network.parameters(), lr=learning_rate)\n",
    "            # train\n",
    "            for batch_dots, batch_labels in dataloader_train:\n",
    "                x = Variable(batch_dots)\n",
    "                correct_y = Variable(batch_labels.float())\n",
    "                if use_cuda:\n",
    "                    x = x.cuda()\n",
    "                    correct_y = correct_y.cuda()\n",
    "\n",
    "                predict_y = network(x)\n",
    "                loss = loss_func(predict_y, correct_y)\n",
    "                \n",
    "                losses_train_batch.append(get_pure(loss))\n",
    "                misscl_rate_train_batch.append((np.where(get_pure(predict_y) < 0, -1, 1) != get_pure(correct_y)).sum())\n",
    "                \n",
    "                optimizer.zero_grad()\n",
    "                loss.backward()\n",
    "                optimizer.step()\n",
    "            # test\n",
    "            for batch_dots, batch_labels in dataloader_train:\n",
    "                x = Variable(batch_dots)\n",
    "                correct_y = Variable(batch_labels.float())\n",
    "                if use_cuda:\n",
    "                    x = x.cuda()\n",
    "                    correct_y = correct_y.cuda()\n",
    "\n",
    "                predict_y = network(x)\n",
    "                loss = loss_func(predict_y, correct_y)\n",
    "                \n",
    "                losses_test_batch.append(get_pure(loss))\n",
    "                misscl_rate_test_batch.append((np.where(get_pure(predict_y) < 0, -1, 1) != get_pure(correct_y)).sum())\n",
    "                \n",
    "            losses_train.append(sum(losses_train_batch)/len(losses_train_batch))\n",
    "            misscl_rate_train.append(sum(misscl_rate_train_batch))\n",
    "            losses_test.append(sum(losses_test_batch)/len(losses_test_batch))\n",
    "            misscl_rate_test.append(sum(misscl_rate_test_batch))\n",
    "\n",
    "            sys.stdout.write('\\rEpoch {0}... Empirical Loss/Misclassification Rate (Train): {1:.3f}/{2:.3f}\\t Empirical Loss/Misclassification Rate (Test): {3:.3f}/{4:.3f}'.format(\n",
    "                            epoch, losses_train[-1], misscl_rate_train[-1], losses_test[-1], misscl_rate_test[-1]))\n",
    "    except KeyboardInterrupt:\n",
    "        pass\n",
    "    if verbose:\n",
    "        plt.figure(figsize=(20, 10))\n",
    "        plt.subplot(1, 2, 1)\n",
    "        plt.plot(losses_train, label='Loss (Train)')\n",
    "        plt.plot(losses_test, label='Loss (Test)')\n",
    "        plt.xlabel('Epochs', fontsize=16)\n",
    "        plt.ylabel('Mean loss', fontsize=16)\n",
    "        plt.legend(loc=0, fontsize=16)\n",
    "        plt.subplot(1, 2, 2)\n",
    "        plt.plot(misscl_rate_train, label='Misclassification Rate (Train)')\n",
    "        plt.plot(misscl_rate_test, label='Misclassification Rate (Test)')\n",
    "        plt.xlabel('Epochs', fontsize=16)\n",
    "        plt.ylabel('Number of objects', fontsize=16)\n",
    "        plt.legend(loc=0, fontsize=16)"
   ]
  },
  {
   "cell_type": "code",
   "execution_count": 14,
   "metadata": {},
   "outputs": [],
   "source": [
    "def train_conv_WITH_EXP(network, learning_rate, reg_lambda, epochs, dataloader_train, dataloader_test, verbose=True):\n",
    "    def loss_func(predict_y, correct_y, network, reg_lambda):\n",
    "        loss = None\n",
    "        if use_cuda:\n",
    "            loss = torch.sum(torch.max(-correct_y * predict_y + torch.tensor([1.]).cuda(), torch.tensor([0.]).cuda()) ** 3)\n",
    "        else:\n",
    "            loss = torch.sum(torch.max(-correct_y * predict_y + torch.tensor([1.]), torch.tensor([0.])) ** 3)\n",
    "        reg_loss = None\n",
    "        for param in network.explinear.alpha.parameters():\n",
    "            reg_loss = reg_lambda * param.norm(2)\n",
    "        return loss + reg_loss, reg_loss\n",
    "    alpha = []\n",
    "    losses_train = []\n",
    "    losses_test = []\n",
    "    misscl_rate_train = []\n",
    "    misscl_rate_test = []\n",
    "    reg_losses = []\n",
    "    try:\n",
    "        for epoch in range(epochs):\n",
    "            losses_train_batch = []\n",
    "            losses_test_batch = []\n",
    "            misscl_rate_train_batch = []\n",
    "            misscl_rate_test_batch = []\n",
    "            \n",
    "            if epoch % 10 == 0:\n",
    "                optimizer = torch.optim.Adam(network.parameters(), lr=learning_rate)\n",
    "            # train\n",
    "            for batch_dots, batch_labels in dataloader_train:\n",
    "                x = Variable(batch_dots)\n",
    "                correct_y = Variable(batch_labels.float())\n",
    "                if use_cuda:\n",
    "                    x = x.cuda()\n",
    "                    correct_y = correct_y.cuda()\n",
    "\n",
    "                predict_y = network(x)\n",
    "                loss, _ = loss_func(predict_y, correct_y, network, reg_lambda)\n",
    "                \n",
    "                losses_train_batch.append(get_pure(loss))\n",
    "                misscl_rate_train_batch.append((np.where(get_pure(predict_y) < 0, -1, 1) != get_pure(correct_y)).sum())\n",
    "                \n",
    "                optimizer.zero_grad()\n",
    "                loss.backward()\n",
    "                optimizer.step()\n",
    "            # test\n",
    "            reg_loss = None\n",
    "            for batch_dots, batch_labels in dataloader_train:\n",
    "                x = Variable(batch_dots)\n",
    "                correct_y = Variable(batch_labels.float())\n",
    "                if use_cuda:\n",
    "                    x = x.cuda()\n",
    "                    correct_y = correct_y.cuda()\n",
    "\n",
    "                predict_y = network(x)\n",
    "                loss, reg_loss = loss_func(predict_y, correct_y, network, reg_lambda)\n",
    "                \n",
    "                losses_test_batch.append(get_pure(loss))\n",
    "                misscl_rate_test_batch.append((np.where(get_pure(predict_y) < 0, -1, 1) != get_pure(correct_y)).sum())\n",
    "             \n",
    "            alpha.append(network.get_alpha())   \n",
    "            losses_train.append(sum(losses_train_batch)/len(losses_train_batch))\n",
    "            misscl_rate_train.append(sum(misscl_rate_train_batch))\n",
    "            losses_test.append(sum(losses_test_batch)/len(losses_test_batch))\n",
    "            misscl_rate_test.append(sum(misscl_rate_test_batch))\n",
    "            reg_losses.append(get_pure(reg_loss))\n",
    "\n",
    "            sys.stdout.write('\\rEpoch {0}... Empirical Loss/Misclassification Rate (Train): {1:.3f}/{2:.3f}\\t Empirical Loss/Misclassification Rate (Test): {3:.3f}/{4:.3f}'.format(\n",
    "                            epoch, losses_train[-1], misscl_rate_train[-1], losses_test[-1], misscl_rate_test[-1]))\n",
    "    except KeyboardInterrupt:\n",
    "        pass\n",
    "    if verbose:\n",
    "        plt.figure(figsize=(30, 20))\n",
    "        plt.subplot(2, 3, 1)\n",
    "        plt.plot(losses_train, label='Loss (Train)')\n",
    "        plt.plot(losses_test, label='Loss (Test)')\n",
    "        plt.xlabel('Epochs', fontsize=16)\n",
    "        plt.ylabel('Mean loss', fontsize=16)\n",
    "        plt.legend(loc=0, fontsize=16)\n",
    "        plt.subplot(2, 3, 2)\n",
    "        plt.plot(misscl_rate_train, label='Misclassification Rate (Train)')\n",
    "        plt.plot(misscl_rate_test, label='Misclassification Rate (Test)')\n",
    "        plt.xlabel('Epochs', fontsize=16)\n",
    "        plt.ylabel('Number of objects', fontsize=16)\n",
    "        plt.legend(loc=0, fontsize=16)\n",
    "        plt.subplot(2, 3, 3)\n",
    "        plt.plot(alpha, label='Alpha')\n",
    "        plt.xlabel('Epochs', fontsize=16)\n",
    "        plt.ylabel('Alpha', fontsize=16)\n",
    "        plt.legend(loc=0, fontsize=16)\n",
    "        plt.subplot(2, 3, 4)\n",
    "        plt.plot(reg_losses, label='Reg Loss')\n",
    "        plt.xlabel('Epochs', fontsize=16)\n",
    "        plt.ylabel('Mean reg loss', fontsize=16)\n",
    "        plt.legend(loc=0, fontsize=16)\n",
    "    return alpha"
   ]
  },
  {
   "cell_type": "code",
   "execution_count": 15,
   "metadata": {},
   "outputs": [],
   "source": [
    "class ConvClassifier(nn.Module):\n",
    "    def __init__(self):\n",
    "        super(ConvClassifier, self).__init__()\n",
    "        self.conv_layers = nn.Sequential(\n",
    "            nn.Conv2d(1, 64, 4, padding=1),\n",
    "            nn.PReLU(),\n",
    "            nn.MaxPool2d(3),\n",
    "            nn.Conv2d(64, 128, 4, padding=1),\n",
    "            nn.PReLU(),\n",
    "            nn.MaxPool2d(3),\n",
    "            nn.Conv2d(128, 256, 4, padding=1),\n",
    "            nn.PReLU(),\n",
    "        )\n",
    "        self.linear_layers = nn.Sequential(\n",
    "            nn.Linear(256, 1)\n",
    "        )\n",
    "    \n",
    "    def forward(self, x):\n",
    "        x = self.conv_layers(x)\n",
    "        x = x.view(x.size(0), -1)\n",
    "        return self.linear_layers(x).view(-1)"
   ]
  },
  {
   "cell_type": "code",
   "execution_count": 16,
   "metadata": {},
   "outputs": [],
   "source": [
    "class ConvClassifier_WITH_EXP(nn.Module):\n",
    "    def __init__(self, in_size):\n",
    "        super(ConvClassifier_WITH_EXP, self).__init__()\n",
    "        self.conv_layers = nn.Sequential(\n",
    "            nn.Conv2d(1, 64, 4, padding=1),\n",
    "            nn.PReLU(),\n",
    "            nn.MaxPool2d(3),\n",
    "            nn.Conv2d(64, 128, 4, padding=1),\n",
    "            nn.PReLU(),\n",
    "            nn.MaxPool2d(3),\n",
    "            nn.Conv2d(128, 256, 4, padding=1),\n",
    "            nn.PReLU(),\n",
    "        )\n",
    "        self.linear_layers = nn.Sequential(\n",
    "            nn.Linear(256, 1)\n",
    "        )\n",
    "        self.explinear = ExpLinear(in_size)\n",
    "    \n",
    "    def forward(self, x):\n",
    "        y = self.explinear(x.view(x.shape[0], -1)).view(-1)\n",
    "        x = self.conv_layers(x)\n",
    "        x = x.view(x.shape[0], -1)\n",
    "        return self.linear_layers(x).view(-1) + y\n",
    "    \n",
    "    # get parameter alpha from explinear block\n",
    "    def get_alpha(self):\n",
    "        return self.explinear.get_alpha()"
   ]
  },
  {
   "cell_type": "code",
   "execution_count": null,
   "metadata": {},
   "outputs": [],
   "source": [
    "net_m = ConvClassifier()\n",
    "if use_cuda:\n",
    "    net_m = net_m.cuda()"
   ]
  },
  {
   "cell_type": "code",
   "execution_count": null,
   "metadata": {},
   "outputs": [],
   "source": [
    "train_conv(net_m, learning_rate=0.0001, epochs=2,\n",
    "           dataloader_train=dataloader_m_train, dataloader_test=dataloader_m_test)\n",
    "train_conv(net_m, learning_rate=0.0001, epochs=20,\n",
    "           dataloader_train=dataloader_m_train, dataloader_test=dataloader_m_test)"
   ]
  },
  {
   "cell_type": "code",
   "execution_count": null,
   "metadata": {},
   "outputs": [],
   "source": [
    "net_WITH_EXP_m = ConvClassifier_WITH_EXP(28 * 28)\n",
    "if use_cuda:\n",
    "    net_WITH_EXP_m = net_WITH_EXP_m.cuda()"
   ]
  },
  {
   "cell_type": "code",
   "execution_count": null,
   "metadata": {},
   "outputs": [],
   "source": [
    "alpha = train_conv_WITH_EXP(net_WITH_EXP_m, learning_rate=0.001, reg_lambda=0.005, epochs=20,\n",
    "                            dataloader_train=dataloader_m_train, dataloader_test=dataloader_m_test)"
   ]
  },
  {
   "cell_type": "code",
   "execution_count": 17,
   "metadata": {},
   "outputs": [],
   "source": [
    "class AugActivation(nn.Module):\n",
    "    def __init__(self, base_activation):\n",
    "        super(AugActivation, self).__init__()\n",
    "        self.base_activation = base_activation\n",
    "        self.exp_activation = torch.exp\n",
    "        \n",
    "    def forward(self, x):\n",
    "        y_1 = self.base_activation(x[:, :-1])\n",
    "        y_2 = self.exp_activation(x[:, -1:])\n",
    "        return torch.cat([y_1, y_2], dim=1)"
   ]
  },
  {
   "cell_type": "code",
   "execution_count": 18,
   "metadata": {},
   "outputs": [],
   "source": [
    "class ClassifierAug(nn.Module):\n",
    "    def __init__(self, in_size):\n",
    "        super(ClassifierAug, self).__init__()\n",
    "        self.linear = nn.Sequential(\n",
    "            nn.Linear(in_size, in_size // 2),\n",
    "            AugActivation(nn.Sigmoid()),\n",
    "            nn.Linear(in_size // 2, in_size // 4),\n",
    "            AugActivation(nn.Sigmoid()),\n",
    "            nn.Linear(in_size // 4, 1)\n",
    "        )\n",
    "        \n",
    "    def forward(self, x):\n",
    "        return self.linear(x).view(-1)"
   ]
  },
  {
   "cell_type": "code",
   "execution_count": 19,
   "metadata": {},
   "outputs": [],
   "source": [
    "def train_STOCH(network, learning_rate, epochs, dataloader_train, dataloader_test, verbose=True):\n",
    "    def loss_func(predict_y, correct_y):\n",
    "        loss = None\n",
    "        if use_cuda:\n",
    "            loss = torch.sum(torch.max(-correct_y * predict_y + torch.tensor([1.]).cuda(), torch.tensor([0.]).cuda()) ** 3)\n",
    "        else:\n",
    "            loss = torch.sum(torch.max(-correct_y * predict_y + torch.tensor([1.]), torch.tensor([0.])) ** 3)\n",
    "        return loss\n",
    "    \n",
    "    losses_train = []\n",
    "    losses_test = []\n",
    "    misscl_rate_train = []\n",
    "    misscl_rate_test = []\n",
    "    try:\n",
    "        for epoch in range(epochs):\n",
    "            losses_train_batch = []\n",
    "            losses_test_batch = []\n",
    "            misscl_rate_train_batch = []\n",
    "            misscl_rate_test_batch = []\n",
    "            \n",
    "            if epoch % 10 == 0:\n",
    "                optimizer = torch.optim.Adam(network.parameters(), lr=learning_rate)\n",
    "            # train\n",
    "            for batch_dots, batch_labels in dataloader_train:\n",
    "                x = Variable(batch_dots).view(batch_dots.shape[0], -1)\n",
    "                correct_y = Variable(batch_labels.float())\n",
    "                if use_cuda:\n",
    "                    x = x.cuda()\n",
    "                    correct_y = correct_y.cuda()\n",
    "\n",
    "                predict_y = network(x)\n",
    "                loss = loss_func(predict_y, correct_y)\n",
    "                \n",
    "                losses_train_batch.append(get_pure(loss))\n",
    "                misscl_rate_train_batch.append((np.where(get_pure(predict_y) < 0, -1, 1) != get_pure(correct_y)).sum())\n",
    "                \n",
    "                optimizer.zero_grad()\n",
    "                loss.backward()\n",
    "                optimizer.step()\n",
    "            # test\n",
    "            for batch_dots, batch_labels in dataloader_train:\n",
    "                x = Variable(batch_dots).view(batch_dots.shape[0], -1)\n",
    "                correct_y = Variable(batch_labels.float())\n",
    "                if use_cuda:\n",
    "                    x = x.cuda()\n",
    "                    correct_y = correct_y.cuda()\n",
    "\n",
    "                predict_y = network(x)\n",
    "                loss = loss_func(predict_y, correct_y)\n",
    "                \n",
    "                losses_test_batch.append(get_pure(loss))\n",
    "                misscl_rate_test_batch.append((np.where(get_pure(predict_y) < 0, -1, 1) != get_pure(correct_y)).sum())\n",
    " \n",
    "            losses_train.append(sum(losses_train_batch)/len(losses_train_batch))\n",
    "            misscl_rate_train.append(sum(misscl_rate_train_batch))\n",
    "            losses_test.append(sum(losses_test_batch)/len(losses_test_batch))\n",
    "            misscl_rate_test.append(sum(misscl_rate_test_batch))\n",
    "\n",
    "            sys.stdout.write('\\rEpoch {0}... Empirical Loss/Misclassification Rate (Train): {1:.3f}/{2:.3f}\\t Empirical Loss/Misclassification Rate (Test): {3:.3f}/{4:.3f}'.format(\n",
    "                            epoch, losses_train[-1], misscl_rate_train[-1], losses_test[-1], misscl_rate_test[-1]))\n",
    "    except KeyboardInterrupt:\n",
    "        pass\n",
    "    if verbose:\n",
    "        plt.figure(figsize=(20, 10))\n",
    "        plt.subplot(1, 2, 1)\n",
    "        plt.plot(losses_train, label='Loss (Train)')\n",
    "        plt.plot(losses_test, label='Loss (Test)')\n",
    "        plt.xlabel('Epochs', fontsize=16)\n",
    "        plt.ylabel('Mean loss', fontsize=16)\n",
    "        plt.legend(loc=0, fontsize=16)\n",
    "        plt.subplot(1, 2, 2)\n",
    "        plt.plot(misscl_rate_train, label='Misclassification Rate (Train)')\n",
    "        plt.plot(misscl_rate_test, label='Misclassification Rate (Test)')\n",
    "        plt.xlabel('Epochs', fontsize=16)\n",
    "        plt.ylabel('Number of objects', fontsize=16)\n",
    "        plt.legend(loc=0, fontsize=16)"
   ]
  },
  {
   "cell_type": "code",
   "execution_count": 20,
   "metadata": {},
   "outputs": [],
   "source": [
    "def train_STOCH_WITH_AUG(network, learning_rate, reg_lambda, epochs, dataloader_train, dataloader_test, verbose=True):\n",
    "    def loss_func(predict_y, correct_y, network, reg_lambda):\n",
    "        loss = None\n",
    "        if use_cuda:\n",
    "            loss = torch.sum(torch.max(-correct_y * predict_y + torch.tensor([1.]).cuda(), torch.tensor([0.]).cuda()) ** 3)\n",
    "        else:\n",
    "            loss = torch.sum(torch.max(-correct_y * predict_y + torch.tensor([1.]), torch.tensor([0.])) ** 3)\n",
    "        reg_loss = Variable(torch.tensor(0.)).cuda()\n",
    "        for name, param in network.named_parameters():\n",
    "            if name.find('linear') >= 0 and name.find('weight') >= 0:# and name != 'linear.0.weight':\n",
    "                reg_loss += reg_lambda * param[:, -1].norm(2)\n",
    "        return loss + reg_loss, reg_loss\n",
    "    \n",
    "    losses_train = []\n",
    "    losses_test = []\n",
    "    misscl_rate_train = []\n",
    "    misscl_rate_test = []\n",
    "    reg_losses = []\n",
    "    try:\n",
    "        for epoch in range(epochs):\n",
    "            losses_train_batch = []\n",
    "            losses_test_batch = []\n",
    "            misscl_rate_train_batch = []\n",
    "            misscl_rate_test_batch = []\n",
    "            \n",
    "            if epoch % 10 == 0:\n",
    "                optimizer = torch.optim.Adam(network.parameters(), lr=learning_rate)\n",
    "            # train\n",
    "            for batch_dots, batch_labels in dataloader_train:\n",
    "                x = Variable(batch_dots).view(batch_dots.shape[0], -1)\n",
    "                correct_y = Variable(batch_labels.float())\n",
    "                if use_cuda:\n",
    "                    x = x.cuda()\n",
    "                    correct_y = correct_y.cuda()\n",
    "\n",
    "                predict_y = network(x)\n",
    "                loss, _ = loss_func(predict_y, correct_y, network, reg_lambda)\n",
    "                \n",
    "                losses_train_batch.append(get_pure(loss))\n",
    "                misscl_rate_train_batch.append((np.where(get_pure(predict_y) < 0, -1, 1) != get_pure(correct_y)).sum())\n",
    "                \n",
    "                optimizer.zero_grad()\n",
    "                loss.backward()\n",
    "                optimizer.step()\n",
    "            # test\n",
    "            reg_loss = None\n",
    "            for batch_dots, batch_labels in dataloader_train:\n",
    "                x = Variable(batch_dots).view(batch_dots.shape[0], -1)\n",
    "                correct_y = Variable(batch_labels.float())\n",
    "                if use_cuda:\n",
    "                    x = x.cuda()\n",
    "                    correct_y = correct_y.cuda()\n",
    "\n",
    "                predict_y = network(x)\n",
    "                loss, reg_loss = loss_func(predict_y, correct_y, network, reg_lambda)\n",
    "                \n",
    "                losses_test_batch.append(get_pure(loss))\n",
    "                misscl_rate_test_batch.append((np.where(get_pure(predict_y) < 0, -1, 1) != get_pure(correct_y)).sum())\n",
    " \n",
    "            losses_train.append(sum(losses_train_batch)/len(losses_train_batch))\n",
    "            misscl_rate_train.append(sum(misscl_rate_train_batch))\n",
    "            losses_test.append(sum(losses_test_batch)/len(losses_test_batch))\n",
    "            misscl_rate_test.append(sum(misscl_rate_test_batch))\n",
    "            reg_losses.append(get_pure(reg_loss))\n",
    "\n",
    "            sys.stdout.write('\\rEpoch {0}... Empirical Loss/Misclassification Rate (Train): {1:.3f}/{2:.3f}\\t Empirical Loss/Misclassification Rate (Test): {3:.3f}/{4:.3f}'.format(\n",
    "                            epoch, losses_train[-1], misscl_rate_train[-1], losses_test[-1], misscl_rate_test[-1]))\n",
    "    except KeyboardInterrupt:\n",
    "        pass\n",
    "    if verbose:\n",
    "        plt.figure(figsize=(30, 10))\n",
    "        plt.subplot(1, 3, 1)\n",
    "        plt.plot(losses_train, label='Loss (Train)')\n",
    "        plt.plot(losses_test, label='Loss (Test)')\n",
    "        plt.xlabel('Epochs', fontsize=16)\n",
    "        plt.ylabel('Mean loss', fontsize=16)\n",
    "        plt.legend(loc=0, fontsize=16)\n",
    "        plt.subplot(1, 3, 2)\n",
    "        plt.plot(misscl_rate_train, label='Misclassification Rate (Train)')\n",
    "        plt.plot(misscl_rate_test, label='Misclassification Rate (Test)')\n",
    "        plt.xlabel('Epochs', fontsize=16)\n",
    "        plt.ylabel('Number of objects', fontsize=16)\n",
    "        plt.legend(loc=0, fontsize=16)\n",
    "        plt.subplot(1, 3, 3)\n",
    "        plt.plot(reg_losses, label='Reg Loss')\n",
    "        plt.xlabel('Epochs', fontsize=16)\n",
    "        plt.ylabel('Mean reg loss', fontsize=16)\n",
    "        plt.legend(loc=0, fontsize=16)"
   ]
  },
  {
   "cell_type": "code",
   "execution_count": null,
   "metadata": {},
   "outputs": [],
   "source": [
    "net_WITH_AUG = ClassifierAug(28 * 28).cuda()"
   ]
  },
  {
   "cell_type": "code",
   "execution_count": null,
   "metadata": {},
   "outputs": [],
   "source": [
    "train_STOCH_WITH_AUG(net_WITH_AUG, learning_rate=0.001, reg_lambda=0.005, epochs=20,\n",
    "                            dataloader_train=dataloader_m_train, dataloader_test=dataloader_m_test)"
   ]
  },
  {
   "cell_type": "code",
   "execution_count": null,
   "metadata": {},
   "outputs": [],
   "source": [
    "net = Classifier(28 * 28).cuda()"
   ]
  },
  {
   "cell_type": "code",
   "execution_count": null,
   "metadata": {},
   "outputs": [],
   "source": [
    "train_STOCH(net, learning_rate=0.001, epochs=20,\n",
    "            dataloader_train=dataloader_m_train, dataloader_test=dataloader_m_test)"
   ]
  },
  {
   "cell_type": "code",
   "execution_count": 24,
   "metadata": {},
   "outputs": [],
   "source": [
    "class CIFARDataset(Dataset):\n",
    "    def unpickle(self, file):\n",
    "        import pickle\n",
    "        with open(file, 'rb') as fo:\n",
    "            dict = pickle.load(fo, encoding='bytes')\n",
    "        return dict\n",
    "    \n",
    "    def __init__(self, classes=(1,2), train=False, normalize=True):\n",
    "        self.train = train\n",
    "        self.normalize = normalize\n",
    "        \n",
    "        if self.train:\n",
    "            n_batchs = ['1', '2', '3', '4', '5']\n",
    "\n",
    "            for n_batch in n_batchs:\n",
    "                batch = self.unpickle('cifar-10-batches-py/data_batch_' + n_batch)\n",
    "\n",
    "                self.dots = np.array(batch[b'data'])[np.logical_or(np.array(batch[b'labels']) == classes[0],\n",
    "                                                                   np.array(batch[b'labels']) == classes[1])]\n",
    "                self.classes = np.array(batch[b'labels'])[np.logical_or(np.array(batch[b'labels']) == classes[0],\n",
    "                                                                        np.array(batch[b'labels']) == classes[1])]\n",
    "        else:\n",
    "            batch = self.unpickle('cifar-10-batches-py/test_batch')\n",
    "\n",
    "            self.dots = np.array(batch[b'data'])[np.logical_or(np.array(batch[b'labels']) == classes[0],\n",
    "                                                               np.array(batch[b'labels']) == classes[1])]\n",
    "            self.classes = np.array(batch[b'labels'])[np.logical_or(np.array(batch[b'labels']) == classes[0],\n",
    "                                                                    np.array(batch[b'labels']) == classes[1])]\n",
    "        \n",
    "        self.dots = torch.FloatTensor(self.dots)\n",
    "        self.classes = torch.FloatTensor(self.classes)\n",
    "        \n",
    "        self.classes[self.classes == classes[0]] = -1\n",
    "        self.classes[self.classes == classes[1]] = 1\n",
    "        \n",
    "        self.mean = self.dots.mean(dim=0)\n",
    "        self.std = self.dots.std(dim=0)\n",
    "        \n",
    "        if self.normalize:\n",
    "            self.dots = (self.dots - self.mean.expand_as(self.dots)) / self.std.expand_as(self.dots)\n",
    "                \n",
    "    def __len__(self):\n",
    "        return len(self.dots)\n",
    "\n",
    "    def __getitem__(self, idx):\n",
    "        return (self.dots[idx], self.classes[idx])         "
   ]
  },
  {
   "cell_type": "code",
   "execution_count": 25,
   "metadata": {},
   "outputs": [],
   "source": [
    "dataset_CIF_train = CIFARDataset(train=True)\n",
    "dataset_CIF_test = CIFARDataset(train=False)\n",
    "dataset_CIF_validation = CIFARDataset(train=False)\n",
    "dataloader_CIF_train = DataLoader(dataset_CIF_train, batch_size=128, shuffle=True)\n",
    "dataloader_CIF_test = DataLoader(dataset_CIF_test, batch_size=128, shuffle=True)"
   ]
  },
  {
   "cell_type": "code",
   "execution_count": 26,
   "metadata": {},
   "outputs": [],
   "source": [
    "net = Classifier(32 * 32 * 3).cuda()"
   ]
  },
  {
   "cell_type": "code",
   "execution_count": null,
   "metadata": {},
   "outputs": [],
   "source": [
    "train_STOCH(net, learning_rate=0.001, epochs=20,\n",
    "            dataloader_train=dataloader_CIF_train, dataloader_test=dataloader_CIF_test)"
   ]
  },
  {
   "cell_type": "code",
   "execution_count": null,
   "metadata": {},
   "outputs": [],
   "source": [
    "net_WITH_AUG = ClassifierAug(32 * 32 * 3).cuda()"
   ]
  },
  {
   "cell_type": "code",
   "execution_count": null,
   "metadata": {},
   "outputs": [],
   "source": [
    "train_STOCH_WITH_AUG(net_WITH_AUG, learning_rate=0.0001, reg_lambda=0.005, epochs=200,\n",
    "                     dataloader_train=dataloader_CIF_train, dataloader_test=dataloader_CIF_test)"
   ]
  },
  {
   "cell_type": "code",
   "execution_count": 123,
   "metadata": {},
   "outputs": [],
   "source": [
    "class Classifier_SMALL(nn.Module):\n",
    "    def __init__(self, in_size):\n",
    "        super(Classifier_SMALL, self).__init__()\n",
    "        self.linear = nn.Sequential(\n",
    "            nn.Linear(in_size, in_size // 512),\n",
    "            nn.Tanh(),\n",
    "            nn.Linear(in_size // 512, in_size // 1024),\n",
    "            nn.Tanh(),\n",
    "            nn.Linear(in_size // 1024, 1)\n",
    "        )\n",
    "        \n",
    "    def forward(self, x):\n",
    "        return self.linear(x).view(-1)"
   ]
  },
  {
   "cell_type": "code",
   "execution_count": 141,
   "metadata": {},
   "outputs": [],
   "source": [
    "class ClassifierAug_SMALL(nn.Module):\n",
    "    def __init__(self, in_size):\n",
    "        super(ClassifierAug_SMALL, self).__init__()\n",
    "        self.linear = nn.Sequential(\n",
    "            nn.Linear(in_size, in_size // 512),\n",
    "            AugActivation(nn.Sigmoid()),\n",
    "            nn.Linear(in_size // 512, in_size // 1024),\n",
    "            AugActivation(nn.Sigmoid()),\n",
    "            nn.Linear(in_size // 1024, 1)\n",
    "        )\n",
    "        \n",
    "    def forward(self, x):\n",
    "        return self.linear(x).view(-1)"
   ]
  },
  {
   "cell_type": "code",
   "execution_count": 129,
   "metadata": {},
   "outputs": [],
   "source": [
    "net = Classifier_SMALL(32 * 32 * 3).cuda()"
   ]
  },
  {
   "cell_type": "code",
   "execution_count": 135,
   "metadata": {},
   "outputs": [
    {
     "name": "stdout",
     "output_type": "stream",
     "text": [
      "Epoch 641... Empirical Loss/Misclassification Rate (Train): 0.424/2.000\t Empirical Loss/Misclassification Rate (Test): 0.423/2.000"
     ]
    },
    {
     "data": {
      "image/png": "[encoded data removed]",
      "text/plain": [
       "<Figure size 1440x720 with 2 Axes>"
      ]
     },
     "metadata": {},
     "output_type": "display_data"
    }
   ],
   "source": [
    "train_STOCH(net, learning_rate=0.00001, epochs=2000,\n",
    "            dataloader_train=dataloader_CIF_train, dataloader_test=dataloader_CIF_test)"
   ]
  },
  {
   "cell_type": "code",
   "execution_count": 142,
   "metadata": {},
   "outputs": [],
   "source": [
    "net_WITH_AUG = ClassifierAug_SMALL(32 * 32 * 3).cuda()"
   ]
  },
  {
   "cell_type": "code",
   "execution_count": 153,
   "metadata": {},
   "outputs": [
    {
     "name": "stdout",
     "output_type": "stream",
     "text": [
      "Epoch 101... Empirical Loss/Misclassification Rate (Train): nan/1014.000\t Empirical Loss/Misclassification Rate (Test): nan/1014.000000"
     ]
    },
    {
     "data": {
      "image/png": "[encoded data removed]",
      "text/plain": [
       "<Figure size 2160x720 with 3 Axes>"
      ]
     },
     "metadata": {},
     "output_type": "display_data"
    }
   ],
   "source": [
    "train_STOCH_WITH_AUG(net_WITH_AUG, learning_rate=0.003, reg_lambda=5, epochs=2000,\n",
    "                     dataloader_train=dataloader_CIF_train, dataloader_test=dataloader_CIF_test)"
   ]
  },
  {
   "cell_type": "code",
   "execution_count": 64,
   "metadata": {},
   "outputs": [],
   "source": [
    "def plot_img(im):\n",
    "    rr = np.zeros([3, 32, 32])\n",
    "    rr[0,:,:] = im[:1024].reshape(32, 32)\n",
    "    rr[1,:,:] = im[1024:2048].reshape(32, 32)\n",
    "    rr[2,:,:] = im[2048:].reshape(32, 32)\n",
    "    rr = rr.transpose(1, 2, 0)\n",
    "    plt.imshow(rr)"
   ]
  }
 ],
 "metadata": {
  "kernelspec": {
   "display_name": "Python 3",
   "language": "python",
   "name": "python3"
  },
  "language_info": {
   "codemirror_mode": {
    "name": "ipython",
    "version": 3
   },
   "file_extension": ".py",
   "mimetype": "text/x-python",
   "name": "python",
   "nbconvert_exporter": "python",
   "pygments_lexer": "ipython3",
   "version": "3.6.6"
  }
 },
 "nbformat": 4,
 "nbformat_minor": 2
}

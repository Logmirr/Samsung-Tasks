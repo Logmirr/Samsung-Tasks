{
 "cells": [
  {
   "cell_type": "code",
   "execution_count": 1,
   "metadata": {},
   "outputs": [],
   "source": [
    "import os\n",
    "import sys\n",
    "import math\n",
    "import gc\n",
    "\n",
    "from copy import deepcopy\n",
    "\n",
    "import numpy as np\n",
    "import pandas as pd\n",
    "\n",
    "import seaborn as sns\n",
    "\n",
    "from scipy.spatial.distance import pdist, squareform\n",
    "\n",
    "%matplotlib inline\n",
    "import matplotlib.pyplot as plt\n",
    "import matplotlib.mlab as mlab\n",
    "\n",
    "import torch\n",
    "import torch.nn as nn \n",
    "from torch.autograd import Variable\n",
    "from torch.utils.data import Dataset, DataLoader\n",
    "\n",
    "from torchvision import transforms\n",
    "from torchvision.datasets import MNIST\n",
    "\n",
    "# Ignore warnings\n",
    "import warnings\n",
    "warnings.filterwarnings(\"ignore\")\n",
    "\n",
    "use_cuda = False\n",
    "device = None\n",
    "os.environ[\"CUDA_VISIBLE_DEVICES\"]=\"5\"\n",
    "if torch.cuda.is_available():\n",
    "    device = torch.device(\"cuda:0\")\n",
    "    use_cuda = True\n",
    "\n",
    "# Ignore cuda\n",
    "use_cuda = False\n",
    "device = None\n",
    "\n",
    "# Set DoubleTensor as a base type for computations\n",
    "t_type = torch.float64"
   ]
  },
  {
   "cell_type": "code",
   "execution_count": 2,
   "metadata": {},
   "outputs": [],
   "source": [
    "%load_ext line_profiler"
   ]
  },
  {
   "cell_type": "code",
   "execution_count": 3,
   "metadata": {},
   "outputs": [],
   "source": [
    "def pairwise_diffs(x, y):    \n",
    "    '''\n",
    "    Input: x is a Nxd matrix\n",
    "           y is an optional Mxd matirx\n",
    "    Output: diffs is a NxM matrix where diffs[i,j] is the subtraaction between x[i,:] and y[j,:]\n",
    "    i.e. diffs[i,j] = x[i,:]-y[j,:]\n",
    "    '''\n",
    "    return x[:,np.newaxis,:] - y[np.newaxis,:,:]"
   ]
  },
  {
   "cell_type": "code",
   "execution_count": 4,
   "metadata": {},
   "outputs": [],
   "source": [
    "def pairwise_dists(x=None, y=None, diffs=None):\n",
    "    '''\n",
    "    Input: pairwise diffs is a MxN matrix where diffs[i,j] = x[i,:] - y[j, :]\n",
    "    Output: dist is a NxM matrix where dist[i,j] is the square norm between x[i,:] and y[j,:]\n",
    "    i.e. dist[i,j] = ||x[i,:]-y[j,:]||^2\n",
    "    '''\n",
    "    return torch.norm(diffs, dim=2)"
   ]
  },
  {
   "cell_type": "code",
   "execution_count": 5,
   "metadata": {},
   "outputs": [],
   "source": [
    "class normal_density():\n",
    "    def __init__(self, n=None, mu=None, std=None):\n",
    "        self.n = torch.tensor(n, dtype=t_type, device=device)\n",
    "        self.mu = torch.tensor(mu, dtype=t_type, device=device)\n",
    "        self.std = torch.tensor(std, dtype=t_type, device=device)\n",
    "        \n",
    "        self.one = torch.tensor(1., dtype=t_type, device=device)\n",
    "        self.two = torch.tensor(2., dtype=t_type, device=device)\n",
    "        self.pi = torch.tensor(math.pi, dtype=t_type, device=device)\n",
    "        \n",
    "        if not n:\n",
    "            self.n = torch.tensor(1., dtype=t_type, device=device)\n",
    "        if not mu:\n",
    "            self.mu = torch.tensor(0., dtype=t_type, device=device)\n",
    "        if not std:\n",
    "            self.std = torch.tensor(1., dtype=t_type, device=device)\n",
    "\n",
    "    def __call__(self, x):\n",
    "        return (torch.pow(self.two * self.pi, -self.n / self.two) * \n",
    "                torch.pow(self.std, -self.n) * \n",
    "                torch.exp(-self.one / (self.two * self.std * self.std) * torch.sum(torch.pow(x - self.mu, self.two))))\n",
    "    \n",
    "    def unnormed_density(self, x):\n",
    "        return torch.exp(-self.one / (self.two * self.std * self.std) * torch.sum(torch.pow(x - self.mu, self.two)))"
   ]
  },
  {
   "cell_type": "code",
   "execution_count": 6,
   "metadata": {},
   "outputs": [],
   "source": [
    "class SteinLinear(nn.Module):\n",
    "    def __init__(self, in_features, out_features, n_particles=1, bias=True):\n",
    "        super(SteinLinear, self).__init__()\n",
    "        \n",
    "        self.in_features = in_features\n",
    "        self.out_features = out_features\n",
    "        self.n_particles = n_particles\n",
    "        \n",
    "        self.weight = torch.nn.Parameter(torch.zeros([n_particles, in_features, out_features], dtype=t_type))\n",
    "        \n",
    "        if bias:\n",
    "            self.bias = torch.nn.Parameter(torch.zeros([n_particles, 1, out_features], dtype=t_type))\n",
    "        else:\n",
    "            self.register_parameter('bias', None)\n",
    "            \n",
    "        self.reset_parameters()\n",
    "\n",
    "    def reset_parameters(self):\n",
    "        stdv = 1. / math.sqrt(self.weight.size(2))\n",
    "        self.weight.data.uniform_(-stdv, stdv)\n",
    "        if self.bias is not None:\n",
    "            self.bias.data.uniform_(-stdv, stdv)\n",
    "            \n",
    "    def forward(self, X):\n",
    "        return torch.matmul(X, self.weight) + self.bias"
   ]
  },
  {
   "cell_type": "code",
   "execution_count": 7,
   "metadata": {},
   "outputs": [],
   "source": [
    "arc = nn.Sequential(\n",
    "    SteinLinear(10, 5, 10),\n",
    "    nn.LeakyReLU(),\n",
    "    SteinLinear(5, 4, 10),\n",
    "    nn.LeakyReLU(),\n",
    "    SteinLinear(4, 1, 10)\n",
    ")"
   ]
  },
  {
   "cell_type": "code",
   "execution_count": 8,
   "metadata": {},
   "outputs": [],
   "source": [
    "class SteinNet():\n",
    "    def __init__(self, arc, train_size):\n",
    "        '''\n",
    "        p(y|x,w) = N(y|f(x,w), alpha^-1)\n",
    "        p0(w) = N(w|0, betta^-1)\n",
    "        \n",
    "        k(w, w`) = exp^(-1/h * ||w - w`||^2)\n",
    "        '''\n",
    "        \n",
    "        ### f(x, w)\n",
    "        self.arc = arc\n",
    "        if use_cuda:\n",
    "            self.arc = self.arc.cuda()\n",
    "            \n",
    "        ### n_particles\n",
    "        self.n_particles = arc[0].n_particles\n",
    "        \n",
    "        self.train_size = train_size\n",
    "        \n",
    "        ### variances from probabilistic model\n",
    "        self.alpha = torch.tensor(1., dtype=t_type)\n",
    "        self.betta = torch.tensor(1., dtype=t_type)\n",
    "        if use_cuda:\n",
    "            self.alpha = self.alpha.cuda()\n",
    "            self.betta = self.betta.cuda()\n",
    "            \n",
    "        ### factor from kernel\n",
    "        self.h = torch.tensor(1., dtype=t_type)\n",
    "        if use_cuda:\n",
    "            self.h = self.h.cuda()\n",
    "    \n",
    "    ### SUM for all j {log p(Dj|w)}\n",
    "    ### return tensor [n_particles]\n",
    "    def calc_data_term(self, X, y):\n",
    "        two = torch.tensor(2., dtype=t_type)\n",
    "        if use_cuda:\n",
    "            two = two.cuda()\n",
    "        \n",
    "        X = X.view(1, *X.shape).expand(self.n_particles, *X.shape)\n",
    "        y_p = self.arc(X).view(self.n_particles, X.shape[1])\n",
    "        \n",
    "        return -(torch.pow(self.alpha, two) / two) * torch.mean(torch.pow(y - y_p, two), dim=1) * self.train_size\n",
    "    \n",
    "    ### log p0(w)\n",
    "    ### return tensor [n_particles] \n",
    "    def calc_prior_term(self):\n",
    "        result = torch.zeros([self.n_particles])\n",
    "        two = torch.tensor(2., dtype=t_type)\n",
    "        if use_cuda:\n",
    "            result = result.cuda()\n",
    "            two = two.cuda()\n",
    "            \n",
    "        for name, param in self.arc.named_parameters():\n",
    "            log_p0 = -(torch.pow(self.betta, two) / two) * torch.pow(param, two)\n",
    "            result += torch.sum(log_p0.view(param.shape[0], -1), dim=1)\n",
    "        return result\n",
    "    \n",
    "    ### k(w, w)\n",
    "    ### return tensor [n_particles, n_particles]\n",
    "    def calc_kernel_term(self):\n",
    "        one = torch.tensor(1., dtype=t_type)\n",
    "        distances = torch.zeros([self.n_particles, self.n_particles])\n",
    "        if use_cuda:\n",
    "            one = one.cuda()\n",
    "            distances = distances.cuda()\n",
    "        \n",
    "        for name, param in self.arc.named_parameters():\n",
    "            distances += pairwise_distances(param.view(self.n_particles, -1), param.view(self.n_particles, -1))\n",
    "            \n",
    "        return torch.exp(-one / self.h * distances)\n",
    "    \n",
    "    def update(self, X, y):\n",
    "        two = torch.tensor(2., dtype=t_type)\n",
    "        if use_cuda:\n",
    "            two = two.cuda()\n",
    "            \n",
    "        prior = self.calc_prior_term\n",
    "        data = self.calc_data_term\n",
    "        kernel = self.calc_kernel_term\n",
    "        \n",
    "        log_term = prior + data\n",
    "        log_term.backward()\n",
    "        \n",
    "        for name, param in self.arc.named_parameters():\n",
    "            update_term = torch.zeros_like(param)\n",
    "            \n",
    "            #update_term += - two / self.h * kernel[]"
   ]
  },
  {
   "cell_type": "code",
   "execution_count": 9,
   "metadata": {},
   "outputs": [],
   "source": [
    "# #X = torch.Tensor([[1, 2, 3], [2, 2, 2], [4, 3, 2]]).cuda()\n",
    "# X = torch.rand([20, 10]).cuda()\n",
    "# # y = torch.Tensor([1, 1, 1]).cuda()\n",
    "# y = torch.rand([20]).cuda()"
   ]
  },
  {
   "cell_type": "code",
   "execution_count": 10,
   "metadata": {},
   "outputs": [],
   "source": [
    "# s = SteinNet(arc, 1000)"
   ]
  },
  {
   "cell_type": "code",
   "execution_count": 11,
   "metadata": {},
   "outputs": [],
   "source": [
    "# s.calc_prior_term()"
   ]
  },
  {
   "cell_type": "code",
   "execution_count": 12,
   "metadata": {},
   "outputs": [],
   "source": [
    "# s.calc_data_term(X, y)"
   ]
  },
  {
   "cell_type": "code",
   "execution_count": 13,
   "metadata": {},
   "outputs": [],
   "source": [
    "# s.calc_kernel_term()"
   ]
  },
  {
   "cell_type": "code",
   "execution_count": 14,
   "metadata": {},
   "outputs": [],
   "source": [
    "class DistributionMover():\n",
    "    def __init__(self, particles=None, n_particles=None, n_dims=None, n_hidden_dims=None, use_latent=False, target_density=None):\n",
    "        if not particles and not n_particles:\n",
    "            raise RuntimeError\n",
    "        \n",
    "        self.particles = particles\n",
    "        \n",
    "        self.n_particles = n_particles\n",
    "        self.N = None\n",
    "        self.n_dims = n_dims\n",
    "        self.n_hidden_dims = n_hidden_dims\n",
    "        self.use_latent = use_latent\n",
    "        \n",
    "        self.target_density=target_density\n",
    "        self.real_target_density=None\n",
    "        \n",
    "        self.A = None\n",
    "        self.A_i = None\n",
    "        self.tetta_0 = None\n",
    "        \n",
    "        if not self.use_latent:\n",
    "            self.n_hidden_dims = self.n_dims\n",
    "        \n",
    "        if particles:\n",
    "            self.n_particles = particles.shape[0]\n",
    "        else:\n",
    "            self.particles = torch.zeros([n_particles, self.n_hidden_dims], dtype=t_type,\n",
    "                                         requires_grad=False, device=device).uniform_(-2, -1)\n",
    "        self.N = torch.tensor(self.n_particles, dtype=t_type, device=device)\n",
    "        \n",
    "        if self.use_latent:\n",
    "            self.A = torch.zeros([self.n_hidden_dims, self.n_dims], dtype=t_type, device=device).uniform_(-1., 1.)\n",
    "            self.A_i = torch.pinverse(self.A)\n",
    "            self.tetta_0 = torch.zeros([self.n_particles, self.n_dims], dtype=t_type, device=device)#.uniform_(-1.,1.)\n",
    "            \n",
    "        ### Function of probability density of target distribution\n",
    "        if target_density:\n",
    "            self.target_density = target_density\n",
    "        else:    \n",
    "            # use unnormed probability density to speedup computations\n",
    "            self.target_density = lambda x : (0.3 * normal_density(self.n_dims, -2., 1.).unnormed_density(x) + \n",
    "                                              0.7 * normal_density(self.n_dims, 2., 1.).unnormed_density(x))\n",
    "            \n",
    "            self.real_target_density = lambda x : (0.3 * normal_density(self.n_dims, -2., 1.)(x) + \n",
    "                                                   0.7 * normal_density(self.n_dims, 2., 1.)(x))\n",
    "\n",
    "#             self.target_density = lambda x : (normal_density(self.n_dims, 0., 2.).unnormed_density(x))\n",
    "            \n",
    "#             self.real_target_density = lambda x : (normal_density(self.n_dims, 0., 2.)(x))\n",
    "        \n",
    "        ### Number of iterations since begining\n",
    "        self.iter = 0\n",
    "        \n",
    "        ### Adagrad parameters\n",
    "        self.fudge_factor = torch.tensor(1e-6, dtype=t_type, device=device)\n",
    "        self.step_size = torch.tensor(1e-2, dtype=t_type, device=device)\n",
    "        self.auto_corr = torch.tensor(0.9, dtype=t_type, device=device)\n",
    "        \n",
    "        ### Gradient history term for adagrad optimization \n",
    "        self.historical_grad = torch.zeros_like(self.particles, device=device)\n",
    "        \n",
    "        ### Factor from kernel\n",
    "        self.med = torch.tensor(0., dtype=t_type, device=device)\n",
    "        self.h = torch.tensor(0., dtype=t_type, device=device)\n",
    "          \n",
    "        ### Support tensors for computations \n",
    "        self.one = torch.tensor(1., dtype=t_type, device=device)\n",
    "        self.two = torch.tensor(2., dtype=t_type, device=device)\n",
    "    \n",
    "    ### k(w, w)\n",
    "    ### return tensor [n_particles, n_particles]\n",
    "    def calc_kernel_term(self, h_type):\n",
    "        diffs = pairwise_diffs(self.particles, self.particles)\n",
    "            \n",
    "        dists = pairwise_dists(diffs=diffs)\n",
    "        sq_dists = torch.pow(dists, self.two)\n",
    "    \n",
    "        ### RBF Kernel\n",
    "        if h_type == 0:\n",
    "            self.med = torch.median(sq_dists) + self.fudge_factor\n",
    "            self.h = self.med / torch.log(self.N + 1)  \n",
    "        elif h_type == 1:\n",
    "            self.med = torch.median(sq_dists) + self.fudge_factor\n",
    "            self.h = self.med / torch.log(self.N + 1) * (self.n_hidden_dims) \n",
    "        elif h_type == 2:\n",
    "            self.med = torch.median(sq_dists) + self.fudge_factor\n",
    "            self.h = self.med / torch.log(self.N + 1) * (2. * self.n_hidden_dims)\n",
    "        elif h_type == 3:\n",
    "            self.var  = torch.var(self.particles) + self.fudge_factor\n",
    "            self.h =  self.var / torch.log(self.N + 1.) * (2. * self.n_hidden_dims)\n",
    "        elif h_type == 4:\n",
    "            self.var = torch.var(diffs) + self.fudge_factor\n",
    "            self.h = self.var / torch.log(self.N + 1) * (self.n_hidden_dims)\n",
    "        elif type(h_type) == float:\n",
    "            self.h = h_type\n",
    "        \n",
    "        kernel = torch.exp(-self.one / self.h * sq_dists)\n",
    "        \n",
    "        grad_kernel = -self.two / self.h * kernel.unsqueeze(dim=2) * diffs\n",
    "\n",
    "        return kernel, -grad_kernel\n",
    "    \n",
    "    def calc_log_term(self):\n",
    "#        grad_log_term = torch.zeros([self.n_particles, self.n_dims], dtype=t_type, device=device)\n",
    "        grad_log_term = torch.zeros([self.n_particles, self.n_hidden_dims], dtype=t_type, device=device)\n",
    "        \n",
    "        if self.use_latent:\n",
    "#             for idx in range(self.n_particles):\n",
    "#                 particle = torch.tensor(self.particles[idx], dtype=t_type, requires_grad=True, device=device)\n",
    "#                 particle_real = self.tetta_0[idx] + torch.matmul(particle, self.A)\n",
    "#                 log_term = torch.log(self.target_density(particle_real))\n",
    "#                 grad_log_term[idx] = torch.autograd.grad(log_term, particle,\n",
    "#                                                          only_inputs=True, retain_graph=False, \n",
    "#                                                          create_graph=False, allow_unused=False)[0]\n",
    "                \n",
    "#             return torch.matmul(grad_log_term, torch.t(self.A_i))\n",
    "            for idx in range(self.n_particles):\n",
    "                particle = torch.tensor(self.particles[idx], dtype=t_type, requires_grad=True, device=device)\n",
    "                particle_real = self.tetta_0[idx] + torch.matmul(particle, self.A)\n",
    "                log_term = torch.log(self.target_density(particle_real))\n",
    "                grad_log_term[idx] = torch.autograd.grad(log_term, particle_real,\n",
    "                                                         only_inputs=True, retain_graph=False, \n",
    "                                                         create_graph=False, allow_unused=False)[0]\n",
    "                \n",
    "            return grad_log_term\n",
    "        \n",
    "        else:\n",
    "            for idx in range(self.n_particles):\n",
    "                particle = torch.tensor(self.particles[idx], dtype=t_type, requires_grad=True, device=device)\n",
    "                log_term = torch.log(self.target_density(particle))\n",
    "                grad_log_term[idx] = torch.autograd.grad(log_term, particle,\n",
    "                                                         only_inputs=True, retain_graph=False, \n",
    "                                                         create_graph=False, allow_unused=False)[0]\n",
    "                \n",
    "            return grad_log_term\n",
    "        \n",
    "    def update(self, h_type):\n",
    "        self.iter += 1\n",
    "        \n",
    "        ### Compute additional terms\n",
    "        kernel, grad_kernel = self.calc_kernel_term(h_type)\n",
    "        grad_log_term = self.calc_log_term()\n",
    "        \n",
    "        ### Compute value of step in functiuonal space\n",
    "        phi = (torch.matmul(kernel.t(), grad_log_term) + torch.sum(grad_kernel, dim=1)) / self.N\n",
    "        if self.use_latent:\n",
    "            phi = torch.matmul(phi, self.A_i)\n",
    "                            \n",
    "        ### Update gradient history\n",
    "        if self.iter == 1:\n",
    "            self.historical_grad = self.historical_grad + phi * phi\n",
    "        else:\n",
    "            self.historical_grad = self.auto_corr * self.historical_grad + (self.one - self.auto_corr) * phi * phi\n",
    "            \n",
    "        ### Adjust gradient and make step\n",
    "        adj_phi = phi / (self.fudge_factor + torch.sqrt(self.historical_grad))\n",
    "        self.particles = self.particles + self.step_size * adj_phi\n",
    "        "
   ]
  },
  {
   "cell_type": "code",
   "execution_count": 15,
   "metadata": {},
   "outputs": [],
   "source": [
    "dm = DistributionMover(n_particles=100, n_dims=2, n_hidden_dims=2, use_latent=False)"
   ]
  },
  {
   "cell_type": "code",
   "execution_count": 16,
   "metadata": {},
   "outputs": [],
   "source": [
    "#marginal_density = lambda x : (normal_density(mu=0, std=2, n=1)(x))\n",
    "marginal_density = lambda x : (0.3 * normal_density(mu=-2, std=1, n=1)(x) + 0.7 * normal_density(mu=2, std=1, n=1)(x))\n",
    "\n",
    "pdf = []\n",
    "for _ in np.linspace(-10, 10, 1000): \n",
    "    _ = torch.tensor(_, dtype=t_type, device=device)\n",
    "    pdf.append(marginal_density(_))\n",
    "    \n",
    "from pynverse import inversefunc\n",
    "from scipy.interpolate import interp1d\n",
    "from scipy.integrate import quad\n",
    "cum_density = interp1d(np.linspace(-20, 20, 5000), [quad(marginal_density, -20, x)[0] for x in np.linspace(-20, 20, 5000)])\n",
    "inv_cum_density = inversefunc(cum_density)\n",
    "real_samples = [inv_cum_density(np.random.random()) for x in range(1000)]"
   ]
  },
  {
   "cell_type": "code",
   "execution_count": 17,
   "metadata": {},
   "outputs": [],
   "source": [
    "mean = quad(lambda x : marginal_density(x) * x, -20, 20)[0]\n",
    "var = quad(lambda x : marginal_density(x) * (x - mean) ** 2, -20, 20)[0]"
   ]
  },
  {
   "cell_type": "code",
   "execution_count": 18,
   "metadata": {},
   "outputs": [
    {
     "data": {
      "text/plain": [
       "(0.7999999999999998, 4.359999999999999)"
      ]
     },
     "execution_count": 18,
     "metadata": {},
     "output_type": "execute_result"
    }
   ],
   "source": [
    "mean, var"
   ]
  },
  {
   "cell_type": "code",
   "execution_count": 19,
   "metadata": {},
   "outputs": [
    {
     "data": {
      "text/plain": [
       "<matplotlib.axes._subplots.AxesSubplot at 0x7f40681f7cf8>"
      ]
     },
     "execution_count": 19,
     "metadata": {},
     "output_type": "execute_result"
    },
    {
     "data": {
      "image/png": "[encoded data removed]",
      "text/plain": [
       "<Figure size 432x288 with 1 Axes>"
      ]
     },
     "metadata": {},
     "output_type": "display_data"
    }
   ],
   "source": [
    "plt.plot(np.linspace(-10, 10, 1000), pdf)\n",
    "plt.plot(real_samples, np.zeros_like(real_samples))\n",
    "sns.kdeplot(real_samples, kernel='tri', color='darkblue', linewidth=4)"
   ]
  },
  {
   "cell_type": "code",
   "execution_count": 20,
   "metadata": {},
   "outputs": [],
   "source": [
    "def plot_projections(dm=None, use_real=True, kernel='tri'):\n",
    "    N_plots = None\n",
    "    scale_factor = None\n",
    "    \n",
    "    if use_real:\n",
    "        if not dm.use_latent:\n",
    "            return\n",
    "        N_plots = dm.A.shape[1]\n",
    "    else:\n",
    "        N_plots = dm.particles.shape[1]\n",
    "    if N_plots > 6:\n",
    "        scale_factor = 15\n",
    "    else:\n",
    "        scale_factor = 5\n",
    "        \n",
    "    N_plots = min(N_plots, 12)\n",
    "        \n",
    "    plt.figure(figsize=(3 * scale_factor, (N_plots // 3 + 1) * scale_factor))\n",
    "    \n",
    "    for idx in range(N_plots):\n",
    "        slice_dim = idx\n",
    "        \n",
    "        plt.subplot(N_plots // 3 + 1, 3, idx + 1)\n",
    "        \n",
    "        particles = None\n",
    "        if use_real:\n",
    "            particles = (dm.tetta_0 + torch.matmul(dm.particles, dm.A))[:, slice_dim]\n",
    "        else:\n",
    "            particles = dm.particles[:, slice_dim]\n",
    "        \n",
    "        plt.plot(np.linspace(-10, 10, 1000, dtype=np.float64), pdf)\n",
    "        plt.plot(particles.data.cpu().numpy(), torch.zeros_like(particles).data.cpu().numpy(), 'ro')\n",
    "        sns.kdeplot(particles.data.cpu().numpy(), \n",
    "                    kernel=kernel, color='darkblue', linewidth=4)"
   ]
  },
  {
   "cell_type": "code",
   "execution_count": 21,
   "metadata": {},
   "outputs": [],
   "source": [
    "plot_projections(dm, use_real=True)"
   ]
  },
  {
   "cell_type": "code",
   "execution_count": 22,
   "metadata": {},
   "outputs": [
    {
     "data": {
      "image/png": "[encoded data removed]",
      "text/plain": [
       "<Figure size 1080x360 with 2 Axes>"
      ]
     },
     "metadata": {},
     "output_type": "display_data"
    }
   ],
   "source": [
    "plot_projections(dm, use_real=False)"
   ]
  },
  {
   "cell_type": "code",
   "execution_count": 23,
   "metadata": {},
   "outputs": [],
   "source": [
    "# disps = []"
   ]
  },
  {
   "cell_type": "code",
   "execution_count": null,
   "metadata": {},
   "outputs": [],
   "source": [
    "dm = DistributionMover(n_particles=100, n_dims=20, n_hidden_dims=2, use_latent=False)"
   ]
  },
  {
   "cell_type": "code",
   "execution_count": null,
   "metadata": {},
   "outputs": [],
   "source": [
    "%%time\n",
    "\n",
    "from IPython.display import clear_output\n",
    "\n",
    "for __ in range(1):\n",
    "    #dm = DistributionMover(n_particles=100, n_dims=__, n_hidden_dims=2, use_latent=False)\n",
    "    for _ in range(3000): \n",
    "        try:\n",
    "            dm.update(h_type=1e3)\n",
    "\n",
    "            if _ % 100 == 0:\n",
    "                clear_output()\n",
    "                sys.stdout.write('\\rEpoch {0}...\\nKernel factor {1}'.format(_, dm.h))\n",
    "\n",
    "                plot_projections(dm, use_real=True, kernel='tri')\n",
    "                plot_projections(dm, use_real=False, kernel='tri')\n",
    "\n",
    "                plt.pause(1e-300)\n",
    "\n",
    "        except KeyboardInterrupt:\n",
    "            break\n",
    "    #d = torch.mean(torch.std(dm.particles, dim=0) ** 2).data.cpu().numpy()\n",
    "    #disps.append(d)"
   ]
  },
  {
   "cell_type": "code",
   "execution_count": null,
   "metadata": {},
   "outputs": [],
   "source": [
    "dm.h # +"
   ]
  },
  {
   "cell_type": "code",
   "execution_count": null,
   "metadata": {},
   "outputs": [],
   "source": [
    "dm.h # +-"
   ]
  },
  {
   "cell_type": "code",
   "execution_count": null,
   "metadata": {},
   "outputs": [],
   "source": [
    "dm.h # +"
   ]
  },
  {
   "cell_type": "code",
   "execution_count": null,
   "metadata": {},
   "outputs": [],
   "source": [
    "dm.h # +-"
   ]
  },
  {
   "cell_type": "code",
   "execution_count": null,
   "metadata": {},
   "outputs": [],
   "source": [
    "dm.h # +"
   ]
  },
  {
   "cell_type": "code",
   "execution_count": null,
   "metadata": {},
   "outputs": [],
   "source": [
    "torch.mean(torch.mean(dm.particles, dim=0)), torch.mean(torch.std(dm.particles, dim=0) ** 2)"
   ]
  },
  {
   "cell_type": "code",
   "execution_count": null,
   "metadata": {},
   "outputs": [],
   "source": []
  },
  {
   "cell_type": "code",
   "execution_count": null,
   "metadata": {},
   "outputs": [],
   "source": []
  },
  {
   "cell_type": "code",
   "execution_count": null,
   "metadata": {},
   "outputs": [],
   "source": []
  },
  {
   "cell_type": "code",
   "execution_count": null,
   "metadata": {},
   "outputs": [],
   "source": [
    "# #real_particles = (dm.tetta_0 + torch.matmul(dm.particles, dm.A))\n",
    "# real_particles = dm.particles\n",
    "# sns.kdeplot(real_particles[:,(0,1)].data.cpu().numpy(), \n",
    "#             kernel='tri', color='darkblue', linewidth=4)"
   ]
  },
  {
   "cell_type": "code",
   "execution_count": null,
   "metadata": {},
   "outputs": [],
   "source": [
    "from mpl_toolkits.mplot3d import Axes3D\n",
    "import matplotlib.pyplot as plt\n",
    "from matplotlib import cm\n",
    "from matplotlib.ticker import LinearLocator, FormatStrFormatter\n",
    "import numpy as np\n",
    "\n",
    "\n",
    "fig = plt.figure()\n",
    "ax = fig.gca(projection='3d')\n",
    "\n",
    "# Make data.\n",
    "X = np.arange(-1, 3, 0.025)\n",
    "Y = np.arange(-1, 3, 0.025)\n",
    "X, Y = np.meshgrid(X, Y)\n",
    "R = np.sqrt(X**2 + Y**2)\n",
    "XY = torch.stack([torch.tensor(X, dtype=t_type), torch.tensor(Y, dtype=t_type)], dim=2)\n",
    "Z = torch.zeros([XY.shape[0], XY.shape[1]])\n",
    "for idx in range(XY.shape[0]):\n",
    "    for jdx in range(XY.shape[1]):\n",
    "        Z[idx, jdx] = (0.3 * normal_density(mu=0, std=1, n=2)(XY[idx, jdx]) + \n",
    "                       0.7 * normal_density(mu=2, std=1, n=2)(XY[idx, jdx]))\n",
    "Z = Z.cpu().data.numpy()\n",
    "# Plot the surface.\n",
    "surf = ax.plot_surface(X, Y, Z, cmap=cm.coolwarm,\n",
    "                       linewidth=0, antialiased=False)\n",
    "\n",
    "# Customize the z axis.\n",
    "ax.set_zlim(-1.01, 1.01)\n",
    "ax.zaxis.set_major_locator(LinearLocator(10))\n",
    "ax.zaxis.set_major_formatter(FormatStrFormatter('%.02f'))\n",
    "\n",
    "# Add a color bar which maps values to colors.\n",
    "fig.colorbar(surf, shrink=0.5, aspect=5)\n",
    "\n",
    "plt.show()"
   ]
  },
  {
   "cell_type": "code",
   "execution_count": null,
   "metadata": {},
   "outputs": [],
   "source": []
  },
  {
   "cell_type": "code",
   "execution_count": null,
   "metadata": {},
   "outputs": [],
   "source": []
  },
  {
   "cell_type": "code",
   "execution_count": null,
   "metadata": {},
   "outputs": [],
   "source": []
  },
  {
   "cell_type": "code",
   "execution_count": 45,
   "metadata": {},
   "outputs": [],
   "source": [
    "sys.path.insert(0, \"Stein-Variational-Gradient-Descent/python/\")\n",
    "from svgd import SVGD"
   ]
  },
  {
   "cell_type": "code",
   "execution_count": 46,
   "metadata": {},
   "outputs": [],
   "source": [
    "dm_ex = DistributionMover(n_particles=100, n_dims=20, use_latent=False)"
   ]
  },
  {
   "cell_type": "code",
   "execution_count": 47,
   "metadata": {},
   "outputs": [],
   "source": [
    "dm_svgd = SVGD()"
   ]
  },
  {
   "cell_type": "code",
   "execution_count": 48,
   "metadata": {},
   "outputs": [],
   "source": [
    "def lnprob(particles):\n",
    "    grad_log_term = torch.zeros(particles.shape, dtype=t_type, device=device)\n",
    "        \n",
    "    for idx in range(particles.shape[0]):\n",
    "        particle = torch.tensor(particles[idx], dtype=t_type, requires_grad=True, device=device)\n",
    "        log_term = torch.log(dm.target_density(particle))\n",
    "        grad_log_term[idx] = torch.autograd.grad(log_term, particle,\n",
    "                                                     only_inputs=True, retain_graph=False, \n",
    "                                                     create_graph=False, allow_unused=False)[0]\n",
    "    return grad_log_term"
   ]
  },
  {
   "cell_type": "code",
   "execution_count": 49,
   "metadata": {},
   "outputs": [],
   "source": [
    "result = dm_ex.particles"
   ]
  },
  {
   "cell_type": "code",
   "execution_count": 50,
   "metadata": {},
   "outputs": [
    {
     "name": "stdout",
     "output_type": "stream",
     "text": [
      "0\n"
     ]
    }
   ],
   "source": [
    "for _ in range(1):\n",
    "    print(_)\n",
    "    result = dm_svgd.update(result, lnprob, stepsize=1e-1, bandwidth=1e-3)\n",
    "    result = torch.tensor(result, dtype=t_type)"
   ]
  },
  {
   "cell_type": "code",
   "execution_count": 51,
   "metadata": {},
   "outputs": [
    {
     "data": {
      "text/plain": [
       "<matplotlib.axes._subplots.AxesSubplot at 0x7f405eb2a630>"
      ]
     },
     "execution_count": 51,
     "metadata": {},
     "output_type": "execute_result"
    },
    {
     "data": {
      "image/png": "[encoded data removed]",
      "text/plain": [
       "<Figure size 432x288 with 1 Axes>"
      ]
     },
     "metadata": {},
     "output_type": "display_data"
    }
   ],
   "source": [
    "plt.plot(np.linspace(-10, 10, 1000, dtype=np.float64), pdf)\n",
    "plt.plot(result.data.cpu().numpy(), torch.zeros_like(result).data.cpu().numpy(), 'ro')\n",
    "sns.kdeplot(result.data.cpu().numpy()[:, 2], \n",
    "            kernel='tri', color='darkblue', linewidth=4)"
   ]
  },
  {
   "cell_type": "code",
   "execution_count": null,
   "metadata": {},
   "outputs": [],
   "source": []
  },
  {
   "cell_type": "code",
   "execution_count": null,
   "metadata": {},
   "outputs": [],
   "source": []
  },
  {
   "cell_type": "code",
   "execution_count": 52,
   "metadata": {},
   "outputs": [],
   "source": [
    "sys.path.insert(0, \"Stein-Variational-Gradient-Descent/python/\")\n",
    "from svgd import SVGD"
   ]
  },
  {
   "cell_type": "code",
   "execution_count": 53,
   "metadata": {},
   "outputs": [],
   "source": [
    "dm_ex = DistributionMover(n_particles=100, n_dims=20, use_latent=False)"
   ]
  },
  {
   "cell_type": "code",
   "execution_count": 54,
   "metadata": {},
   "outputs": [],
   "source": [
    "dm_svgd = SVGD()"
   ]
  },
  {
   "cell_type": "code",
   "execution_count": 55,
   "metadata": {},
   "outputs": [],
   "source": [
    "def lnprob(particles):\n",
    "    grad_log_term = torch.zeros(particles.shape, dtype=t_type, device=device)\n",
    "        \n",
    "    for idx in range(particles.shape[0]):\n",
    "        particle = torch.tensor(particles[idx], dtype=t_type, requires_grad=True, device=device)\n",
    "        log_term = torch.log(dm.target_density(particle))\n",
    "        grad_log_term[idx] = torch.autograd.grad(log_term, particle,\n",
    "                                                     only_inputs=True, retain_graph=False, \n",
    "                                                     create_graph=False, allow_unused=False)[0]\n",
    "    return grad_log_term"
   ]
  },
  {
   "cell_type": "code",
   "execution_count": 56,
   "metadata": {},
   "outputs": [],
   "source": [
    "result = dm_ex.particles"
   ]
  },
  {
   "cell_type": "code",
   "execution_count": 57,
   "metadata": {},
   "outputs": [
    {
     "name": "stdout",
     "output_type": "stream",
     "text": [
      "0\n"
     ]
    }
   ],
   "source": [
    "for _ in range(1):\n",
    "    print(_)\n",
    "    result = dm_svgd.update(result, lnprob, stepsize=1e-1, bandwidth=1e3)\n",
    "    result = torch.tensor(result, dtype=t_type)"
   ]
  },
  {
   "cell_type": "code",
   "execution_count": 58,
   "metadata": {},
   "outputs": [
    {
     "data": {
      "text/plain": [
       "<matplotlib.axes._subplots.AxesSubplot at 0x7f405e9c65f8>"
      ]
     },
     "execution_count": 58,
     "metadata": {},
     "output_type": "execute_result"
    },
    {
     "data": {
      "image/png": "[encoded data removed]",
      "text/plain": [
       "<Figure size 432x288 with 1 Axes>"
      ]
     },
     "metadata": {},
     "output_type": "display_data"
    }
   ],
   "source": [
    "plt.plot(np.linspace(-10, 10, 1000, dtype=np.float64), pdf)\n",
    "plt.plot(result.data.cpu().numpy(), torch.zeros_like(result).data.cpu().numpy(), 'ro')\n",
    "sns.kdeplot(result.data.cpu().numpy()[:, 2], \n",
    "            kernel='tri', color='darkblue', linewidth=4)"
   ]
  },
  {
   "cell_type": "code",
   "execution_count": null,
   "metadata": {},
   "outputs": [],
   "source": []
  },
  {
   "cell_type": "code",
   "execution_count": null,
   "metadata": {},
   "outputs": [],
   "source": []
  },
  {
   "cell_type": "code",
   "execution_count": 59,
   "metadata": {},
   "outputs": [],
   "source": [
    "sys.path.insert(0, \"Stein-Variational-Gradient-Descent/python/\")\n",
    "from svgd import SVGD"
   ]
  },
  {
   "cell_type": "code",
   "execution_count": 60,
   "metadata": {},
   "outputs": [],
   "source": [
    "dm_ex = DistributionMover(n_particles=100, n_dims=20, use_latent=False)"
   ]
  },
  {
   "cell_type": "code",
   "execution_count": 61,
   "metadata": {},
   "outputs": [],
   "source": [
    "dm_svgd = SVGD()"
   ]
  },
  {
   "cell_type": "code",
   "execution_count": 62,
   "metadata": {},
   "outputs": [],
   "source": [
    "def lnprob(particles):\n",
    "    grad_log_term = torch.zeros(particles.shape, dtype=t_type, device=device)\n",
    "        \n",
    "    for idx in range(particles.shape[0]):\n",
    "        particle = torch.tensor(particles[idx], dtype=t_type, requires_grad=True, device=device)\n",
    "        log_term = torch.log(dm.target_density(particle))\n",
    "        grad_log_term[idx] = torch.autograd.grad(log_term, particle,\n",
    "                                                     only_inputs=True, retain_graph=False, \n",
    "                                                     create_graph=False, allow_unused=False)[0]\n",
    "    return grad_log_term"
   ]
  },
  {
   "cell_type": "code",
   "execution_count": 63,
   "metadata": {},
   "outputs": [],
   "source": [
    "result = dm_ex.particles"
   ]
  },
  {
   "cell_type": "code",
   "execution_count": 64,
   "metadata": {},
   "outputs": [
    {
     "name": "stdout",
     "output_type": "stream",
     "text": [
      "0\n"
     ]
    }
   ],
   "source": [
    "for _ in range(1):\n",
    "    print(_)\n",
    "    result = dm_svgd.update(result, lnprob, stepsize=1e-1, bandwidth=1.)\n",
    "    result = torch.tensor(result, dtype=t_type)"
   ]
  },
  {
   "cell_type": "code",
   "execution_count": 65,
   "metadata": {},
   "outputs": [
    {
     "data": {
      "text/plain": [
       "<matplotlib.axes._subplots.AxesSubplot at 0x7f405e912ac8>"
      ]
     },
     "execution_count": 65,
     "metadata": {},
     "output_type": "execute_result"
    },
    {
     "data": {
      "image/png": "[encoded data removed]",
      "text/plain": [
       "<Figure size 432x288 with 1 Axes>"
      ]
     },
     "metadata": {},
     "output_type": "display_data"
    }
   ],
   "source": [
    "plt.plot(np.linspace(-10, 10, 1000, dtype=np.float64), pdf)\n",
    "plt.plot(result.data.cpu().numpy(), torch.zeros_like(result).data.cpu().numpy(), 'ro')\n",
    "sns.kdeplot(result.data.cpu().numpy()[:, 2], \n",
    "            kernel='tri', color='darkblue', linewidth=4)"
   ]
  },
  {
   "cell_type": "code",
   "execution_count": null,
   "metadata": {},
   "outputs": [],
   "source": []
  }
 ],
 "metadata": {
  "kernelspec": {
   "display_name": "Python 3",
   "language": "python",
   "name": "python3"
  },
  "language_info": {
   "codemirror_mode": {
    "name": "ipython",
    "version": 3
   },
   "file_extension": ".py",
   "mimetype": "text/x-python",
   "name": "python",
   "nbconvert_exporter": "python",
   "pygments_lexer": "ipython3",
   "version": "3.6.6"
  }
 },
 "nbformat": 4,
 "nbformat_minor": 2
}

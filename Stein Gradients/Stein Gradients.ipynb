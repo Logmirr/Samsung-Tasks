{
 "cells": [
  {
   "cell_type": "code",
   "execution_count": 49,
   "metadata": {},
   "outputs": [],
   "source": [
    "import os\n",
    "import sys\n",
    "import math\n",
    "import gc\n",
    "\n",
    "from copy import deepcopy\n",
    "\n",
    "import numpy as np\n",
    "import pandas as pd\n",
    "\n",
    "import seaborn as sns\n",
    "\n",
    "from scipy.spatial.distance import pdist, squareform\n",
    "\n",
    "%matplotlib inline\n",
    "import matplotlib.pyplot as plt\n",
    "import matplotlib.mlab as mlab\n",
    "\n",
    "import torch\n",
    "import torch.nn as nn \n",
    "from torch.autograd import Variable\n",
    "from torch.utils.data import Dataset, DataLoader\n",
    "\n",
    "from torchvision import transforms\n",
    "from torchvision.datasets import MNIST\n",
    "\n",
    "# Ignore warnings\n",
    "import warnings\n",
    "warnings.filterwarnings(\"ignore\")\n",
    "\n",
    "use_cuda = False\n",
    "# os.environ[\"CUDA_VISIBLE_DEVICES\"]=\"5\"\n",
    "# if torch.cuda.is_available():\n",
    "#     device = torch.cuda.device(\"cuda:5\")\n",
    "#     use_cuda = True\n",
    "\n",
    "t_type = torch.float64"
   ]
  },
  {
   "cell_type": "code",
   "execution_count": 14,
   "metadata": {},
   "outputs": [
    {
     "name": "stdout",
     "output_type": "stream",
     "text": [
      "The line_profiler extension is already loaded. To reload it, use:\n",
      "  %reload_ext line_profiler\n"
     ]
    }
   ],
   "source": [
    "%load_ext line_profiler"
   ]
  },
  {
   "cell_type": "code",
   "execution_count": 15,
   "metadata": {},
   "outputs": [],
   "source": [
    "def pairwise_diffs(x, y):\n",
    "    return x[:,np.newaxis,:] - y[np.newaxis,:,:]"
   ]
  },
  {
   "cell_type": "code",
   "execution_count": 16,
   "metadata": {},
   "outputs": [],
   "source": [
    "def pairwise_dists(x=None, y=None, diffs=None):\n",
    "    '''\n",
    "    Input: x is a Nxd matrix\n",
    "           y is an optional Mxd matirx\n",
    "    Output: dist is a NxM matrix where dist[i,j] is the square norm between x[i,:] and y[j,:]\n",
    "            if y is not given then use 'y=x'.\n",
    "    i.e. dist[i,j] = ||x[i,:]-y[j,:]||^2\n",
    "    '''\n",
    "#     x_norm = (x**2).sum(1).view(-1, 1)\n",
    "#     if y is not None:\n",
    "#         y_t = torch.transpose(y, 0, 1)\n",
    "#         y_norm = (y**2).sum(1).view(1, -1)\n",
    "#     else:\n",
    "#         y_t = torch.transpose(x, 0, 1)\n",
    "#         y_norm = x_norm.view(1, -1)\n",
    "\n",
    "#     dist = x_norm + y_norm - 2.0 * torch.mm(x, y_t)\n",
    "    \n",
    "    if diffs is None:\n",
    "        diffs = pairwise_diffs(x, y)\n",
    "    \n",
    "    dists = torch.norm(diffs, dim=2)\n",
    "    \n",
    "    return torch.clamp(dists, 0.0, np.inf)"
   ]
  },
  {
   "cell_type": "code",
   "execution_count": 252,
   "metadata": {},
   "outputs": [],
   "source": [
    "class normal_density():\n",
    "    def __init__(self, n=None, mu=None, std=None):\n",
    "        self.n = torch.tensor(n, dtype=t_type)\n",
    "        self.mu = torch.tensor(mu, dtype=t_type)\n",
    "        self.std = torch.tensor(std, dtype=t_type)\n",
    "        \n",
    "        self.one = torch.tensor(1., dtype=t_type)\n",
    "        self.two = torch.tensor(2., dtype=t_type)\n",
    "        self.pi = torch.tensor(math.pi, dtype=t_type)\n",
    "        \n",
    "        if not n:\n",
    "            self.n = torch.tensor(1., dtype=t_type)\n",
    "        if not mu:\n",
    "            self.mu = torch.tensor(0., dtype=t_type)\n",
    "        if not std:\n",
    "            self.std = torch.tensor(1., dtype=t_type)\n",
    "        \n",
    "        if use_cuda:\n",
    "            self.n = self.n.cuda()\n",
    "            self.mu = self.mu.cuda()\n",
    "            self.std = self.std.cuda()\n",
    "            \n",
    "            self.one = self.one.cuda()\n",
    "            self.two = self.two.cuda()\n",
    "            self.pi = self.pi.cuda()\n",
    "\n",
    "    def __call__(self, x):\n",
    "        return (torch.pow(self.two * self.pi, -self.n / self.two) * \n",
    "                torch.pow(self.std, -self.n) * \n",
    "                torch.exp(-self.one / (self.two * self.std * self.std) * torch.sum(torch.pow(x - self.mu, self.two))))\n",
    "    \n",
    "    def unnormed_density(self, x):\n",
    "        return torch.exp(-self.one / (self.two * self.std * self.std) * torch.sum(torch.pow(x - self.mu, self.two)))"
   ]
  },
  {
   "cell_type": "code",
   "execution_count": 232,
   "metadata": {},
   "outputs": [],
   "source": [
    "class SteinLinear(nn.Module):\n",
    "    def __init__(self, in_features, out_features, n_particles=1, bias=True):\n",
    "        super(SteinLinear, self).__init__()\n",
    "        \n",
    "        self.in_features = in_features\n",
    "        self.out_features = out_features\n",
    "        self.n_particles = n_particles\n",
    "        \n",
    "        self.weight = torch.nn.Parameter(torch.zeros([n_particles, in_features, out_features], dtype=t_type))\n",
    "        \n",
    "        if bias:\n",
    "            self.bias = torch.nn.Parameter(torch.zeros([n_particles, 1, out_features], dtype=t_type))\n",
    "        else:\n",
    "            self.register_parameter('bias', None)\n",
    "            \n",
    "        self.reset_parameters()\n",
    "\n",
    "    def reset_parameters(self):\n",
    "        stdv = 1. / math.sqrt(self.weight.size(2))\n",
    "        self.weight.data.uniform_(-stdv, stdv)\n",
    "        if self.bias is not None:\n",
    "            self.bias.data.uniform_(-stdv, stdv)\n",
    "            \n",
    "    def forward(self, X):\n",
    "        return torch.matmul(X, self.weight) + self.bias"
   ]
  },
  {
   "cell_type": "code",
   "execution_count": 233,
   "metadata": {},
   "outputs": [],
   "source": [
    "arc = nn.Sequential(\n",
    "    SteinLinear(10, 5, 10),\n",
    "    nn.LeakyReLU(),\n",
    "    SteinLinear(5, 4, 10),\n",
    "    nn.LeakyReLU(),\n",
    "    SteinLinear(4, 1, 10)\n",
    ")"
   ]
  },
  {
   "cell_type": "code",
   "execution_count": 234,
   "metadata": {},
   "outputs": [],
   "source": [
    "class SteinNet():\n",
    "    def __init__(self, arc, train_size):\n",
    "        '''\n",
    "        p(y|x,w) = N(y|f(x,w), alpha^-1)\n",
    "        p0(w) = N(w|0, betta^-1)\n",
    "        \n",
    "        k(w, w`) = exp^(-1/h * ||w - w`||^2)\n",
    "        '''\n",
    "        \n",
    "        ### f(x, w)\n",
    "        self.arc = arc\n",
    "        if use_cuda:\n",
    "            self.arc = self.arc.cuda()\n",
    "            \n",
    "        ### n_particles\n",
    "        self.n_particles = arc[0].n_particles\n",
    "        \n",
    "        self.train_size = train_size\n",
    "        \n",
    "        ### variances from probabilistic model\n",
    "        self.alpha = torch.tensor(1., dtype=t_type)\n",
    "        self.betta = torch.tensor(1., dtype=t_type)\n",
    "        if use_cuda:\n",
    "            self.alpha = self.alpha.cuda()\n",
    "            self.betta = self.betta.cuda()\n",
    "            \n",
    "        ### factor from kernel\n",
    "        self.h = torch.tensor(1., dtype=t_type)\n",
    "        if use_cuda:\n",
    "            self.h = self.h.cuda()\n",
    "    \n",
    "    ### SUM for all j {log p(Dj|w)}\n",
    "    ### return tensor [n_particles]\n",
    "    def calc_data_term(self, X, y):\n",
    "        two = torch.tensor(2., dtype=t_type)\n",
    "        if use_cuda:\n",
    "            two = two.cuda()\n",
    "        \n",
    "        X = X.view(1, *X.shape).expand(self.n_particles, *X.shape)\n",
    "        y_p = self.arc(X).view(self.n_particles, X.shape[1])\n",
    "        \n",
    "        return -(torch.pow(self.alpha, two) / two) * torch.mean(torch.pow(y - y_p, two), dim=1) * self.train_size\n",
    "    \n",
    "    ### log p0(w)\n",
    "    ### return tensor [n_particles] \n",
    "    def calc_prior_term(self):\n",
    "        result = torch.zeros([self.n_particles])\n",
    "        two = torch.tensor(2., dtype=t_type)\n",
    "        if use_cuda:\n",
    "            result = result.cuda()\n",
    "            two = two.cuda()\n",
    "            \n",
    "        for name, param in self.arc.named_parameters():\n",
    "            log_p0 = -(torch.pow(self.betta, two) / two) * torch.pow(param, two)\n",
    "            result += torch.sum(log_p0.view(param.shape[0], -1), dim=1)\n",
    "        return result\n",
    "    \n",
    "    ### k(w, w)\n",
    "    ### return tensor [n_particles, n_particles]\n",
    "    def calc_kernel_term(self):\n",
    "        one = torch.tensor(1., dtype=t_type)\n",
    "        distances = torch.zeros([self.n_particles, self.n_particles])\n",
    "        if use_cuda:\n",
    "            one = one.cuda()\n",
    "            distances = distances.cuda()\n",
    "        \n",
    "        for name, param in self.arc.named_parameters():\n",
    "            distances += pairwise_distances(param.view(self.n_particles, -1), param.view(self.n_particles, -1))\n",
    "            \n",
    "        return torch.exp(-one / self.h * distances)\n",
    "    \n",
    "    def update(self, X, y):\n",
    "        two = torch.tensor(2., dtype=t_type)\n",
    "        if use_cuda:\n",
    "            two = two.cuda()\n",
    "            \n",
    "        prior = self.calc_prior_term\n",
    "        data = self.calc_data_term\n",
    "        kernel = self.calc_kernel_term\n",
    "        \n",
    "        log_term = prior + data\n",
    "        log_term.backward()\n",
    "        \n",
    "        for name, param in self.arc.named_parameters():\n",
    "            update_term = torch.zeros_like(param)\n",
    "            \n",
    "            #update_term += - two / self.h * kernel[]"
   ]
  },
  {
   "cell_type": "code",
   "execution_count": 235,
   "metadata": {},
   "outputs": [],
   "source": [
    "# #X = torch.Tensor([[1, 2, 3], [2, 2, 2], [4, 3, 2]]).cuda()\n",
    "# X = torch.rand([20, 10]).cuda()\n",
    "# # y = torch.Tensor([1, 1, 1]).cuda()\n",
    "# y = torch.rand([20]).cuda()"
   ]
  },
  {
   "cell_type": "code",
   "execution_count": 236,
   "metadata": {},
   "outputs": [],
   "source": [
    "# s = SteinNet(arc, 1000)"
   ]
  },
  {
   "cell_type": "code",
   "execution_count": 237,
   "metadata": {},
   "outputs": [],
   "source": [
    "# s.calc_prior_term()"
   ]
  },
  {
   "cell_type": "code",
   "execution_count": 238,
   "metadata": {},
   "outputs": [],
   "source": [
    "# s.calc_data_term(X, y)"
   ]
  },
  {
   "cell_type": "code",
   "execution_count": 239,
   "metadata": {},
   "outputs": [],
   "source": [
    "# s.calc_kernel_term()"
   ]
  },
  {
   "cell_type": "code",
   "execution_count": 280,
   "metadata": {},
   "outputs": [],
   "source": [
    "class DistributionMover():\n",
    "    def __init__(self, particles=None, n_particles=None, target_density=None):\n",
    "        if not particles and not n_particles:\n",
    "            raise RuntimeError\n",
    "        \n",
    "        self.n_particles = None\n",
    "        self.particles = None\n",
    "        self.target_density=None\n",
    "        self.dim = None\n",
    "        self.N = None\n",
    "        \n",
    "        if particles:\n",
    "            self.n_particles = particles.shape[0]\n",
    "            self.particles = particles\n",
    "        else:\n",
    "            self.n_particles = n_particles\n",
    "            self.particles = torch.zeros([n_particles, 1], dtype=t_type, requires_grad=False).normal_(-10, 10)\n",
    "            \n",
    "        self.N = torch.tensor(self.n_particles, dtype=t_type)\n",
    "        if use_cuda:\n",
    "            self.N = self.N.cuda()\n",
    "            self.particles = self.particles.cuda()\n",
    "        \n",
    "        ### Dimentional of particle' space\n",
    "        self.dim = self.particles.shape[1]\n",
    "        \n",
    "        ### Function of probability density of target distribution\n",
    "        if target_density:\n",
    "            self.target_density = target_density\n",
    "        else:    \n",
    "            self.target_density = lambda x : (0.3 * normal_density(self.dim, -2., 1.).unnormed_density(x) + \n",
    "                                              0.7 * normal_density(self.dim, 2., 1.).unnormed_density(x))\n",
    "        \n",
    "        ### Number of iterations since begin\n",
    "        self.iter = 0\n",
    "        \n",
    "        ### Adagrad parameters\n",
    "        self.fudge_factor = 1e-6\n",
    "        self.step_size = 5e-1\n",
    "        self.auto_corr = 0.9\n",
    "        \n",
    "        ### Gradient history term for adagrad optimization \n",
    "        self.historical_grad = torch.zeros_like(self.particles)\n",
    "        if use_cuda:\n",
    "            self.historical_grad = self.historical_grad.cuda()\n",
    "        \n",
    "        ### factor from kernel\n",
    "#         self.med = torch.tensor(0.)\n",
    "#         self.h = torch.tensor(0.)\n",
    "#         if use_cuda:\n",
    "#             self.med = self.med.cuda()\n",
    "#             self.h = self.h.cuda()\n",
    "            \n",
    "    \n",
    "    ### k(w, w)\n",
    "    ### return tensor [n_particles, n_particles]\n",
    "    def calc_kernel_term(self):\n",
    "#         one = torch.tensor(1., dtype=t_type)\n",
    "#         two = torch.tensor(2., dtype=t_type)\n",
    "#         if use_cuda:\n",
    "#             one = one.cuda()\n",
    "#             two = two.cuda()\n",
    "        \n",
    "#         diffs = pairwise_diffs(self.particles, self.particles)\n",
    "#         dists = pairwise_dists(diffs=diffs)\n",
    "#         sq_dists = torch.pow(dists, two)\n",
    "        \n",
    "#         self.med = torch.median(sq_dists)\n",
    "#         self.h = self.med / torch.log(self.N + 1)\n",
    "        \n",
    "#         kernel = torch.exp(-one / self.h * sq_dists)\n",
    "        \n",
    "#         grad_kernel = -two / self.h * kernel.unsqueeze(dim=2) * diffs\n",
    "\n",
    "#         return kernel, grad_kernel\n",
    "####################        \n",
    "#         numpy_particles = self.particles.cpu().data.numpy()\n",
    "#         sq_dists = squareform(pdist(numpy_particles, metric='sqeuclidean'))\n",
    "        \n",
    "#         self.h = np.median(sq_dists) / np.log(numpy_particles.shape[0] + 1)\n",
    "        \n",
    "#         kernel = np.exp(-1. / self.h * sq_dists)\n",
    "        \n",
    "#         grad_kernel = (-2. / self.h * \n",
    "#                        kernel[:,:, np.newaxis] * \n",
    "#                        (numpy_particles[:,np.newaxis,:] - numpy_particles[np.newaxis,:,:]))\n",
    "        \n",
    "#         return torch.tensor(kernel), torch.tensor(grad_kernel)\n",
    "    \n",
    "#####################\n",
    "#         h = -1.\n",
    "#         theta = self.particles.cpu().clone().data.numpy()\n",
    "#         sq_dist = pdist(theta)\n",
    "#         pairwise_dists = squareform(sq_dist)**2\n",
    "#         if h < 0: # if h < 0, using median trick\n",
    "#             h = np.median(pairwise_dists)  \n",
    "#             h = np.sqrt(0.5 * h / np.log(theta.shape[0]+1))\n",
    "\n",
    "#         # compute the rbf kernel\n",
    "#         Kxy = np.exp( -pairwise_dists / h**2 / 2)\n",
    "\n",
    "#         dxkxy = -np.matmul(Kxy, theta)\n",
    "#         sumkxy = np.sum(Kxy, axis=1)\n",
    "#         for i in range(theta.shape[1]):\n",
    "#             dxkxy[:, i] = dxkxy[:,i] + np.multiply(theta[:,i],sumkxy)\n",
    "#         dxkxy = dxkxy / (h**2)\n",
    "        \n",
    "#         return torch.tensor(Kxy, dtype=t_type), torch.tensor(dxkxy, dtype=t_type)\n",
    "    \n",
    "    def calc_log_term(self):\n",
    "        grad_log_term = torch.zeros([self.n_particles, self.dim], dtype=t_type)\n",
    "        if use_cuda:\n",
    "            grad_log_term = grad_log_term.cuda()\n",
    "        \n",
    "        for idx in range(self.n_particles):\n",
    "            particle = torch.tensor(self.particles[idx], dtype=t_type, requires_grad=True)\n",
    "            log_term = torch.log(self.target_density(particle))\n",
    "            grad_log_term[idx] = torch.autograd.grad(log_term, particle,\n",
    "                                                     only_inputs=True, retain_graph=False, \n",
    "                                                     create_graph=False, allow_unused=False)[0]\n",
    "        return grad_log_term\n",
    "    \n",
    "    def update(self):\n",
    "        self.iter += 1\n",
    "        \n",
    "        ### Compute additional terms\n",
    "        kernel, grad_kernel = self.calc_kernel_term()\n",
    "        grad_log_term = self.calc_log_term()\n",
    "        \n",
    "        ### Compute value of step in functiuonal space\n",
    "        #phi = (torch.matmul(kernel.t(), grad_log_term) + torch.sum(grad_kernel, dim=1)) / self.N\n",
    "        phi = (torch.matmul(kernel.t(), grad_log_term) + grad_kernel) / self.N\n",
    "        \n",
    "        ### Update gradient history\n",
    "        if self.iter == 1:\n",
    "            self.historical_grad = self.historical_grad + phi * phi\n",
    "        else:\n",
    "            self.historical_grad = self.auto_corr * self.historical_grad + (1 - self.auto_corr) * phi * phi\n",
    "            \n",
    "        ### Adjust gradient and make step\n",
    "        adj_phi = phi / (self.fudge_factor + torch.sqrt(self.historical_grad))\n",
    "        self.particles = self.particles + self.step_size * adj_phi"
   ]
  },
  {
   "cell_type": "code",
   "execution_count": 281,
   "metadata": {},
   "outputs": [],
   "source": [
    "dm = DistributionMover(n_particles=100)\n",
    "\n",
    "pdf = []\n",
    "for _ in np.linspace(-10, 10, 100):\n",
    "    #pdf.append(dm.target_density(torch.tensor(_).cuda()))    \n",
    "    pdf.append(dm.target_density(torch.tensor(_, dtype=t_type)))"
   ]
  },
  {
   "cell_type": "code",
   "execution_count": 282,
   "metadata": {},
   "outputs": [
    {
     "data": {
      "text/plain": [
       "[<matplotlib.lines.Line2D at 0x7febe0bebbe0>]"
      ]
     },
     "execution_count": 282,
     "metadata": {},
     "output_type": "execute_result"
    },
    {
     "data": {
      "image/png": "[encoded data removed]",
      "text/plain": [
       "<Figure size 432x288 with 1 Axes>"
      ]
     },
     "metadata": {},
     "output_type": "display_data"
    }
   ],
   "source": [
    "plt.plot(np.linspace(-10, 10, 100, dtype=np.float64), pdf)\n",
    "plt.plot(dm.particles.data.cpu().numpy(), torch.zeros_like(dm.particles).data.cpu().numpy(), 'ro')"
   ]
  },
  {
   "cell_type": "code",
   "execution_count": 283,
   "metadata": {},
   "outputs": [
    {
     "name": "stdout",
     "output_type": "stream",
     "text": [
      "\r",
      "Epoch 0..."
     ]
    },
    {
     "ename": "ValueError",
     "evalue": "x and y can be no greater than 2-D, but have shapes (100, 100, 1) and (100, 100, 1)",
     "output_type": "error",
     "traceback": [
      "\u001b[0;31m---------------------------------------------------------------------------\u001b[0m",
      "\u001b[0;31mValueError\u001b[0m                                Traceback (most recent call last)",
      "\u001b[0;32m<timed exec>\u001b[0m in \u001b[0;36m<module>\u001b[0;34m()\u001b[0m\n",
      "\u001b[0;32m~/anaconda3/envs/python3.6.6_env/lib/python3.6/site-packages/matplotlib/pyplot.py\u001b[0m in \u001b[0;36mplot\u001b[0;34m(*args, **kwargs)\u001b[0m\n\u001b[1;32m   3356\u001b[0m                       mplDeprecation)\n\u001b[1;32m   3357\u001b[0m     \u001b[0;32mtry\u001b[0m\u001b[0;34m:\u001b[0m\u001b[0;34m\u001b[0m\u001b[0m\n\u001b[0;32m-> 3358\u001b[0;31m         \u001b[0mret\u001b[0m \u001b[0;34m=\u001b[0m \u001b[0max\u001b[0m\u001b[0;34m.\u001b[0m\u001b[0mplot\u001b[0m\u001b[0;34m(\u001b[0m\u001b[0;34m*\u001b[0m\u001b[0margs\u001b[0m\u001b[0;34m,\u001b[0m \u001b[0;34m**\u001b[0m\u001b[0mkwargs\u001b[0m\u001b[0;34m)\u001b[0m\u001b[0;34m\u001b[0m\u001b[0m\n\u001b[0m\u001b[1;32m   3359\u001b[0m     \u001b[0;32mfinally\u001b[0m\u001b[0;34m:\u001b[0m\u001b[0;34m\u001b[0m\u001b[0m\n\u001b[1;32m   3360\u001b[0m         \u001b[0max\u001b[0m\u001b[0;34m.\u001b[0m\u001b[0m_hold\u001b[0m \u001b[0;34m=\u001b[0m \u001b[0mwashold\u001b[0m\u001b[0;34m\u001b[0m\u001b[0m\n",
      "\u001b[0;32m~/anaconda3/envs/python3.6.6_env/lib/python3.6/site-packages/matplotlib/__init__.py\u001b[0m in \u001b[0;36minner\u001b[0;34m(ax, *args, **kwargs)\u001b[0m\n\u001b[1;32m   1853\u001b[0m                         \u001b[0;34m\"the Matplotlib list!)\"\u001b[0m \u001b[0;34m%\u001b[0m \u001b[0;34m(\u001b[0m\u001b[0mlabel_namer\u001b[0m\u001b[0;34m,\u001b[0m \u001b[0mfunc\u001b[0m\u001b[0;34m.\u001b[0m\u001b[0m__name__\u001b[0m\u001b[0;34m)\u001b[0m\u001b[0;34m,\u001b[0m\u001b[0;34m\u001b[0m\u001b[0m\n\u001b[1;32m   1854\u001b[0m                         RuntimeWarning, stacklevel=2)\n\u001b[0;32m-> 1855\u001b[0;31m             \u001b[0;32mreturn\u001b[0m \u001b[0mfunc\u001b[0m\u001b[0;34m(\u001b[0m\u001b[0max\u001b[0m\u001b[0;34m,\u001b[0m \u001b[0;34m*\u001b[0m\u001b[0margs\u001b[0m\u001b[0;34m,\u001b[0m \u001b[0;34m**\u001b[0m\u001b[0mkwargs\u001b[0m\u001b[0;34m)\u001b[0m\u001b[0;34m\u001b[0m\u001b[0m\n\u001b[0m\u001b[1;32m   1856\u001b[0m \u001b[0;34m\u001b[0m\u001b[0m\n\u001b[1;32m   1857\u001b[0m         inner.__doc__ = _add_data_doc(inner.__doc__,\n",
      "\u001b[0;32m~/anaconda3/envs/python3.6.6_env/lib/python3.6/site-packages/matplotlib/axes/_axes.py\u001b[0m in \u001b[0;36mplot\u001b[0;34m(self, *args, **kwargs)\u001b[0m\n\u001b[1;32m   1525\u001b[0m         \u001b[0mkwargs\u001b[0m \u001b[0;34m=\u001b[0m \u001b[0mcbook\u001b[0m\u001b[0;34m.\u001b[0m\u001b[0mnormalize_kwargs\u001b[0m\u001b[0;34m(\u001b[0m\u001b[0mkwargs\u001b[0m\u001b[0;34m,\u001b[0m \u001b[0m_alias_map\u001b[0m\u001b[0;34m)\u001b[0m\u001b[0;34m\u001b[0m\u001b[0m\n\u001b[1;32m   1526\u001b[0m \u001b[0;34m\u001b[0m\u001b[0m\n\u001b[0;32m-> 1527\u001b[0;31m         \u001b[0;32mfor\u001b[0m \u001b[0mline\u001b[0m \u001b[0;32min\u001b[0m \u001b[0mself\u001b[0m\u001b[0;34m.\u001b[0m\u001b[0m_get_lines\u001b[0m\u001b[0;34m(\u001b[0m\u001b[0;34m*\u001b[0m\u001b[0margs\u001b[0m\u001b[0;34m,\u001b[0m \u001b[0;34m**\u001b[0m\u001b[0mkwargs\u001b[0m\u001b[0;34m)\u001b[0m\u001b[0;34m:\u001b[0m\u001b[0;34m\u001b[0m\u001b[0m\n\u001b[0m\u001b[1;32m   1528\u001b[0m             \u001b[0mself\u001b[0m\u001b[0;34m.\u001b[0m\u001b[0madd_line\u001b[0m\u001b[0;34m(\u001b[0m\u001b[0mline\u001b[0m\u001b[0;34m)\u001b[0m\u001b[0;34m\u001b[0m\u001b[0m\n\u001b[1;32m   1529\u001b[0m             \u001b[0mlines\u001b[0m\u001b[0;34m.\u001b[0m\u001b[0mappend\u001b[0m\u001b[0;34m(\u001b[0m\u001b[0mline\u001b[0m\u001b[0;34m)\u001b[0m\u001b[0;34m\u001b[0m\u001b[0m\n",
      "\u001b[0;32m~/anaconda3/envs/python3.6.6_env/lib/python3.6/site-packages/matplotlib/axes/_base.py\u001b[0m in \u001b[0;36m_grab_next_args\u001b[0;34m(self, *args, **kwargs)\u001b[0m\n\u001b[1;32m    404\u001b[0m                 \u001b[0mthis\u001b[0m \u001b[0;34m+=\u001b[0m \u001b[0margs\u001b[0m\u001b[0;34m[\u001b[0m\u001b[0;36m0\u001b[0m\u001b[0;34m]\u001b[0m\u001b[0;34m,\u001b[0m\u001b[0;34m\u001b[0m\u001b[0m\n\u001b[1;32m    405\u001b[0m                 \u001b[0margs\u001b[0m \u001b[0;34m=\u001b[0m \u001b[0margs\u001b[0m\u001b[0;34m[\u001b[0m\u001b[0;36m1\u001b[0m\u001b[0;34m:\u001b[0m\u001b[0;34m]\u001b[0m\u001b[0;34m\u001b[0m\u001b[0m\n\u001b[0;32m--> 406\u001b[0;31m             \u001b[0;32mfor\u001b[0m \u001b[0mseg\u001b[0m \u001b[0;32min\u001b[0m \u001b[0mself\u001b[0m\u001b[0;34m.\u001b[0m\u001b[0m_plot_args\u001b[0m\u001b[0;34m(\u001b[0m\u001b[0mthis\u001b[0m\u001b[0;34m,\u001b[0m \u001b[0mkwargs\u001b[0m\u001b[0;34m)\u001b[0m\u001b[0;34m:\u001b[0m\u001b[0;34m\u001b[0m\u001b[0m\n\u001b[0m\u001b[1;32m    407\u001b[0m                 \u001b[0;32myield\u001b[0m \u001b[0mseg\u001b[0m\u001b[0;34m\u001b[0m\u001b[0m\n\u001b[1;32m    408\u001b[0m \u001b[0;34m\u001b[0m\u001b[0m\n",
      "\u001b[0;32m~/anaconda3/envs/python3.6.6_env/lib/python3.6/site-packages/matplotlib/axes/_base.py\u001b[0m in \u001b[0;36m_plot_args\u001b[0;34m(self, tup, kwargs)\u001b[0m\n\u001b[1;32m    381\u001b[0m             \u001b[0mx\u001b[0m\u001b[0;34m,\u001b[0m \u001b[0my\u001b[0m \u001b[0;34m=\u001b[0m \u001b[0mindex_of\u001b[0m\u001b[0;34m(\u001b[0m\u001b[0mtup\u001b[0m\u001b[0;34m[\u001b[0m\u001b[0;34m-\u001b[0m\u001b[0;36m1\u001b[0m\u001b[0;34m]\u001b[0m\u001b[0;34m)\u001b[0m\u001b[0;34m\u001b[0m\u001b[0m\n\u001b[1;32m    382\u001b[0m \u001b[0;34m\u001b[0m\u001b[0m\n\u001b[0;32m--> 383\u001b[0;31m         \u001b[0mx\u001b[0m\u001b[0;34m,\u001b[0m \u001b[0my\u001b[0m \u001b[0;34m=\u001b[0m \u001b[0mself\u001b[0m\u001b[0;34m.\u001b[0m\u001b[0m_xy_from_xy\u001b[0m\u001b[0;34m(\u001b[0m\u001b[0mx\u001b[0m\u001b[0;34m,\u001b[0m \u001b[0my\u001b[0m\u001b[0;34m)\u001b[0m\u001b[0;34m\u001b[0m\u001b[0m\n\u001b[0m\u001b[1;32m    384\u001b[0m \u001b[0;34m\u001b[0m\u001b[0m\n\u001b[1;32m    385\u001b[0m         \u001b[0;32mif\u001b[0m \u001b[0mself\u001b[0m\u001b[0;34m.\u001b[0m\u001b[0mcommand\u001b[0m \u001b[0;34m==\u001b[0m \u001b[0;34m'plot'\u001b[0m\u001b[0;34m:\u001b[0m\u001b[0;34m\u001b[0m\u001b[0m\n",
      "\u001b[0;32m~/anaconda3/envs/python3.6.6_env/lib/python3.6/site-packages/matplotlib/axes/_base.py\u001b[0m in \u001b[0;36m_xy_from_xy\u001b[0;34m(self, x, y)\u001b[0m\n\u001b[1;32m    243\u001b[0m         \u001b[0;32mif\u001b[0m \u001b[0mx\u001b[0m\u001b[0;34m.\u001b[0m\u001b[0mndim\u001b[0m \u001b[0;34m>\u001b[0m \u001b[0;36m2\u001b[0m \u001b[0;32mor\u001b[0m \u001b[0my\u001b[0m\u001b[0;34m.\u001b[0m\u001b[0mndim\u001b[0m \u001b[0;34m>\u001b[0m \u001b[0;36m2\u001b[0m\u001b[0;34m:\u001b[0m\u001b[0;34m\u001b[0m\u001b[0m\n\u001b[1;32m    244\u001b[0m             raise ValueError(\"x and y can be no greater than 2-D, but have \"\n\u001b[0;32m--> 245\u001b[0;31m                              \"shapes {} and {}\".format(x.shape, y.shape))\n\u001b[0m\u001b[1;32m    246\u001b[0m \u001b[0;34m\u001b[0m\u001b[0m\n\u001b[1;32m    247\u001b[0m         \u001b[0;32mif\u001b[0m \u001b[0mx\u001b[0m\u001b[0;34m.\u001b[0m\u001b[0mndim\u001b[0m \u001b[0;34m==\u001b[0m \u001b[0;36m1\u001b[0m\u001b[0;34m:\u001b[0m\u001b[0;34m\u001b[0m\u001b[0m\n",
      "\u001b[0;31mValueError\u001b[0m: x and y can be no greater than 2-D, but have shapes (100, 100, 1) and (100, 100, 1)"
     ]
    },
    {
     "data": {
      "image/png": "[encoded data removed]",
      "text/plain": [
       "<Figure size 432x288 with 1 Axes>"
      ]
     },
     "metadata": {},
     "output_type": "display_data"
    }
   ],
   "source": [
    "%%time\n",
    "\n",
    "from IPython.display import clear_output\n",
    "\n",
    "for _ in range(1000): \n",
    "                     \n",
    "    #%lprun -f dm.calc_log_term dm.update()\n",
    "    dm.update()\n",
    "    \n",
    "    if _ % 15 == 0:\n",
    "        clear_output()\n",
    "        sys.stdout.write('\\rEpoch {0}...'.format(_))\n",
    "        plt.plot(np.linspace(-10, 10, 100, dtype=np.float64), pdf)\n",
    "        plt.plot(dm.particles.data.cpu().numpy(), torch.zeros_like(dm.particles).data.cpu().numpy(), 'ro')\n",
    "        plt.pause(1e-100)"
   ]
  },
  {
   "cell_type": "code",
   "execution_count": 279,
   "metadata": {},
   "outputs": [
    {
     "data": {
      "text/plain": [
       "<matplotlib.axes._subplots.AxesSubplot at 0x7febec2feb00>"
      ]
     },
     "execution_count": 279,
     "metadata": {},
     "output_type": "execute_result"
    },
    {
     "data": {
      "image/png": "[encoded data removed]",
      "text/plain": [
       "<Figure size 432x288 with 1 Axes>"
      ]
     },
     "metadata": {},
     "output_type": "display_data"
    }
   ],
   "source": [
    "sns.distplot(dm.particles.cpu().data.numpy(), hist=True, kde=True, \n",
    "             bins=int(10), color = 'darkblue', \n",
    "             hist_kws={'edgecolor':'black'},\n",
    "             kde_kws={'linewidth': 4})"
   ]
  },
  {
   "cell_type": "code",
   "execution_count": null,
   "metadata": {},
   "outputs": [],
   "source": []
  }
 ],
 "metadata": {
  "kernelspec": {
   "display_name": "Python 3",
   "language": "python",
   "name": "python3"
  },
  "language_info": {
   "codemirror_mode": {
    "name": "ipython",
    "version": 3
   },
   "file_extension": ".py",
   "mimetype": "text/x-python",
   "name": "python",
   "nbconvert_exporter": "python",
   "pygments_lexer": "ipython3",
   "version": "3.6.6"
  }
 },
 "nbformat": 4,
 "nbformat_minor": 2
}

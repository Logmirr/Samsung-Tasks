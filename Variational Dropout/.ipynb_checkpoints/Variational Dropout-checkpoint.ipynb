{
 "cells": [
  {
   "cell_type": "code",
   "execution_count": 1,
   "metadata": {},
   "outputs": [],
   "source": [
    "import os\n",
    "import sys\n",
    "import math\n",
    "from copy import deepcopy\n",
    "\n",
    "import numpy as np\n",
    "import pandas as pd\n",
    "\n",
    "%matplotlib inline\n",
    "import matplotlib.pyplot as plt\n",
    "\n",
    "import torch\n",
    "import torch.nn as nn \n",
    "from torch.autograd import Variable\n",
    "from torch.utils.data import Dataset, DataLoader\n",
    "\n",
    "from torchvision import transforms\n",
    "from torchvision.datasets import MNIST\n",
    "\n",
    "# Ignore warnings\n",
    "import warnings\n",
    "warnings.filterwarnings(\"ignore\")\n",
    "\n",
    "use_cuda = False\n",
    "os.environ[\"CUDA_VISIBLE_DEVICES\"]=\"5\"\n",
    "if torch.cuda.is_available():\n",
    "    device = torch.cuda.device(\"cuda:5\")\n",
    "    use_cuda = True"
   ]
  },
  {
   "cell_type": "code",
   "execution_count": 98,
   "metadata": {},
   "outputs": [],
   "source": [
    "class Linear_VD(nn.Module):\n",
    "    def __init__(self, in_size, out_size):\n",
    "        super(Linear_VD, self).__init__()\n",
    "        self.in_size = in_size\n",
    "        self.out_size = out_size\n",
    "        \n",
    "        ### Generator from N(0, 1)\n",
    "        self.n_rnd = torch.distributions.Normal(0, 1)\n",
    "        \n",
    "        ### Contains weight of layer\n",
    "        self.tettas = torch.nn.Parameter(torch.zeros([self.in_size, self.out_size], dtype=torch.float32))\n",
    "        ### Contains biases of layer\n",
    "        self.biases = torch.nn.Parameter(torch.zeros([self.out_size], dtype=torch.float32))\n",
    "        ### Contains variances; one for each weight\n",
    "        self.log_alphas = torch.nn.Parameter(torch.zeros([self.in_size, self.out_size], dtype=torch.float32))\n",
    "        \n",
    "        self.register_parameter(\"tettas\", self.tettas)    \n",
    "        self.register_parameter(\"biases\", self.biases)\n",
    "        self.register_parameter(\"log_alphas\", self.log_alphas)\n",
    "        \n",
    "        self.__init_params__()\n",
    "        \n",
    "    def __init_params__(self):\n",
    "        for name, param in self.named_parameters():\n",
    "            if len(param.shape) > 1:\n",
    "                stdv = 1. / math.sqrt(param.shape[1])\n",
    "                param.data.uniform_(-stdv, stdv)\n",
    "            else:\n",
    "                stdv = 1. / math.sqrt(param.shape[0])\n",
    "                param.data.uniform_(-stdv, stdv)\n",
    "                \n",
    "    def __calc_sigmoid__(self, X):        \n",
    "        one = torch.tensor(1.)\n",
    "        \n",
    "        if use_cuda:\n",
    "            one = one.cuda()\n",
    "            \n",
    "        return one / (one + torch.exp(-X)) \n",
    "    \n",
    "    # returns KL(alphas)\n",
    "    def __calc_KL__(self, alphas):\n",
    "        k1 = torch.tensor(0.63576)\n",
    "        k2 = torch.tensor(1.87320)\n",
    "        k3 = torch.tensor(1.48695)\n",
    "        one = torch.tensor(1.)\n",
    "        half = torch.tensor(0.5)\n",
    "        \n",
    "        if use_cuda:\n",
    "            k1 = k1.cuda()\n",
    "            k2 = k2.cuda()\n",
    "            k3 = k3.cuda()\n",
    "            one = one.cuda()\n",
    "            half = half.cuda()\n",
    "            \n",
    "        value = -(k1 * self.__calc_sigmoid__(k2 + k3 * torch.log(alphas))\n",
    "                  - half * torch.log(one + torch.pow(alphas, -one))\n",
    "                  - k1)\n",
    "        return value\n",
    "    \n",
    "    def forward(self, X):\n",
    "        X = X.reshape(X.shape[0], -1)\n",
    "        if self.training:\n",
    "            mu = torch.mm(X, self.tettas)\n",
    "            si = torch.sqrt(torch.mm(X * X, torch.exp(self.log_alphas) * self.tettas * self.tettas))\n",
    "            rnd = self.n_rnd.sample(mu.shape)\n",
    "            if use_cuda:\n",
    "                rnd = rnd.cuda()\n",
    "            return mu + rnd * si + self.biases\n",
    "        else:\n",
    "            mask = (self.log_alphas > torch.tensor(10.).cuda()).float()\n",
    "            return torch.mm(X, self.tettas * mask) + self.biases\n",
    "    \n",
    "    #returns sum(KL(alphas))\n",
    "    def get_KL_loss(self):\n",
    "        return torch.sum(self.__calc_KL__(torch.exp(self.log_alphas)))"
   ]
  },
  {
   "cell_type": "code",
   "execution_count": 99,
   "metadata": {},
   "outputs": [],
   "source": [
    "def get_KL_loss(modules):\n",
    "    KL_loss = torch.tensor(0.)\n",
    "    if use_cuda:\n",
    "        KL_loss = KL_loss.cuda()\n",
    "    for module in modules:\n",
    "        if \"get_KL_loss\" in dir(module):\n",
    "            KL_loss += module.get_KL_loss()\n",
    "    return KL_loss"
   ]
  },
  {
   "cell_type": "code",
   "execution_count": 100,
   "metadata": {},
   "outputs": [],
   "source": [
    "transform = transforms.Compose([\n",
    "                       transforms.ToTensor(),\n",
    "                       transforms.Normalize((0.1307,), (0.3081,))\n",
    "                    ])\n",
    "dataset_m_train = MNIST('.', train=True, download=True, transform=transform)\n",
    "dataset_m_test = MNIST('.', train=False, transform=transform)\n",
    "\n",
    "\n",
    "dataloader_m_train = DataLoader(dataset_m_train, batch_size=128, shuffle=True)\n",
    "dataloader_m_test = DataLoader(dataset_m_test, batch_size=128, shuffle=True)"
   ]
  },
  {
   "cell_type": "code",
   "execution_count": 101,
   "metadata": {},
   "outputs": [],
   "source": [
    "net_m_vd = nn.Sequential(\n",
    "    Linear_VD(28 * 28, 300),\n",
    "    nn.PReLU(),\n",
    "    Linear_VD(300, 100),\n",
    "    nn.PReLU(),\n",
    "    Linear_VD(100, 10)\n",
    ")\n",
    "\n",
    "if use_cuda:\n",
    "    net_m_vd = net_m_vd.cuda()"
   ]
  },
  {
   "cell_type": "code",
   "execution_count": 102,
   "metadata": {},
   "outputs": [],
   "source": [
    "optim_m_vd = torch.optim.Adam(net_m_vd.parameters(), 0.0001)\n",
    "loss_func = torch.nn.CrossEntropyLoss(size_average=False)"
   ]
  },
  {
   "cell_type": "code",
   "execution_count": 103,
   "metadata": {},
   "outputs": [],
   "source": [
    "sys.path.insert(0, './../Adding_one_neuron/utils/')\n",
    "from MyUtils import *\n",
    "from MyDatasets import *"
   ]
  },
  {
   "cell_type": "code",
   "execution_count": 104,
   "metadata": {},
   "outputs": [],
   "source": [
    "def loss_func(predict_y, correct_y, network, reg_lambda):\n",
    "    loss = None\n",
    "    reg_loss = None\n",
    "\n",
    "    loss = (torch.nn.CrossEntropyLoss(size_average=False)(predict_y, correct_y.long()) / predict_y.shape[0]) * 60000.\n",
    "    reg_loss = get_KL_loss(network)\n",
    "\n",
    "    return loss + reg_loss, reg_loss"
   ]
  },
  {
   "cell_type": "code",
   "execution_count": 222,
   "metadata": {},
   "outputs": [
    {
     "name": "stdout",
     "output_type": "stream",
     "text": [
      "\r",
      "Epoch 0... Empirical Loss/Misclassification Rate (Train): 32214048.644/0.000\t Empirical Loss/Misclassification Rate (Test): 23759504.127/0.000"
     ]
    },
    {
     "data": {
      "image/png": "[encoded data removed]",
      "text/plain": [
       "<Figure size 2160x1440 with 4 Axes>"
      ]
     },
     "metadata": {},
     "output_type": "display_data"
    }
   ],
   "source": [
    "train_EXP(network=net_m_vd, loss_func=loss_func,\n",
    "          learning_rate=0.00005, reinit_optim=7000,\n",
    "          train_strategy=train_strategy_STOCH, test_strategy=test_strategy_STOCH,\n",
    "          reg_lambda=None,\n",
    "          epochs=200,\n",
    "          dataloader_train=dataloader_m_train, dataloader_test=dataloader_m_test,\n",
    "         )"
   ]
  },
  {
   "cell_type": "code",
   "execution_count": 97,
   "metadata": {},
   "outputs": [],
   "source": [
    "# sv = deepcopy(net_m_vd)"
   ]
  },
  {
   "cell_type": "code",
   "execution_count": 105,
   "metadata": {},
   "outputs": [],
   "source": [
    "# for name, param in net_m_vd.named_parameters():\n",
    "#     param.data = dict(sv.named_parameters())[name].data"
   ]
  },
  {
   "cell_type": "code",
   "execution_count": 219,
   "metadata": {},
   "outputs": [
    {
     "data": {
      "text/plain": [
       "Sequential(\n",
       "  (0): Linear_VD()\n",
       "  (1): PReLU(num_parameters=1)\n",
       "  (2): Linear_VD()\n",
       "  (3): PReLU(num_parameters=1)\n",
       "  (4): Linear_VD()\n",
       ")"
      ]
     },
     "execution_count": 219,
     "metadata": {},
     "output_type": "execute_result"
    }
   ],
   "source": [
    "net_m_vd.train()"
   ]
  },
  {
   "cell_type": "code",
   "execution_count": 220,
   "metadata": {},
   "outputs": [],
   "source": [
    "XX, yy = next(iter(dataloader_m_test))\n",
    "XX = XX.cuda()\n",
    "yy = yy.cuda()\n",
    "pr = net_m_vd(XX)"
   ]
  },
  {
   "cell_type": "code",
   "execution_count": 221,
   "metadata": {},
   "outputs": [
    {
     "data": {
      "text/plain": [
       "tensor([ 0,  0,  0,  0,  0,  0,  0,  0,  1,  1,  0,  0,  0,  0,\n",
       "         0,  0,  0,  0,  0,  0,  0,  0,  0,  0,  1,  0,  0,  0,\n",
       "         0,  0,  0,  0,  0,  0,  0,  0,  0,  0,  0,  0,  1,  0,\n",
       "         0,  0,  0,  0,  0,  0,  0,  0,  0,  0,  0,  0,  0,  0,\n",
       "         0,  0,  0,  0,  0,  0,  0,  0,  0,  0,  0,  0,  0,  1,\n",
       "         0,  1,  1,  0,  1,  0,  0,  0,  0,  0,  1,  0,  0,  0,\n",
       "         0,  1,  1,  0,  0,  0,  0,  0,  0,  0,  0,  0,  0,  0,\n",
       "         0,  0,  0,  0,  0,  1,  0,  0,  0,  0,  0,  0,  0,  0,\n",
       "         0,  0,  0,  0,  0,  0,  0,  0,  0,  0,  0,  0,  0,  0,\n",
       "         0,  0], dtype=torch.uint8, device='cuda:0')"
      ]
     },
     "execution_count": 221,
     "metadata": {},
     "output_type": "execute_result"
    }
   ],
   "source": [
    "torch.argmax(nn.Softmax()(pr), dim=1) == yy.cuda()"
   ]
  },
  {
   "cell_type": "code",
   "execution_count": 197,
   "metadata": {},
   "outputs": [
    {
     "data": {
      "text/plain": [
       "<matplotlib.image.AxesImage at 0x7f2884208940>"
      ]
     },
     "execution_count": 197,
     "metadata": {},
     "output_type": "execute_result"
    },
    {
     "data": {
      "image/png": "[encoded data removed]",
      "text/plain": [
       "<Figure size 432x288 with 1 Axes>"
      ]
     },
     "metadata": {},
     "output_type": "display_data"
    }
   ],
   "source": [
    "plt.imshow(XX[2][0], cmap=plt.cm.Greys_r)"
   ]
  },
  {
   "cell_type": "code",
   "execution_count": 198,
   "metadata": {},
   "outputs": [
    {
     "data": {
      "text/plain": [
       "tensor([ 0.1644,  0.0175,  0.0448,  0.0399,  0.0520,  0.0221,  0.0563,\n",
       "         0.0267,  0.4704,  0.1059], device='cuda:0')"
      ]
     },
     "execution_count": 198,
     "metadata": {},
     "output_type": "execute_result"
    }
   ],
   "source": [
    "nn.Softmax()(pr[2])"
   ]
  },
  {
   "cell_type": "code",
   "execution_count": 199,
   "metadata": {},
   "outputs": [],
   "source": [
    "module = list(net_m_vd.modules())[0][0]"
   ]
  },
  {
   "cell_type": "code",
   "execution_count": 200,
   "metadata": {},
   "outputs": [],
   "source": [
    "imp = get_pure(torch.sum(module.log_alphas<3))\n",
    "total = (module.log_alphas.shape[0] * module.log_alphas.shape[1])"
   ]
  },
  {
   "cell_type": "code",
   "execution_count": 201,
   "metadata": {},
   "outputs": [
    {
     "data": {
      "text/plain": [
       "5.538265306122449"
      ]
     },
     "execution_count": 201,
     "metadata": {},
     "output_type": "execute_result"
    }
   ],
   "source": [
    "(imp / total) * 100"
   ]
  },
  {
   "cell_type": "code",
   "execution_count": 202,
   "metadata": {},
   "outputs": [
    {
     "data": {
      "text/plain": [
       "Parameter containing:\n",
       "tensor([[ 8.6519e-04,  4.1431e-04, -5.4672e-04,  ...,  1.0729e-03,\n",
       "          5.3875e-04, -3.4459e-04],\n",
       "        [ 8.7490e-04,  4.1188e-04, -5.4672e-04,  ...,  1.0729e-03,\n",
       "          3.6452e-04, -3.4499e-04],\n",
       "        [ 8.7038e-04,  4.1690e-04, -5.4672e-04,  ...,  1.0729e-03,\n",
       "          3.8182e-04, -3.4444e-04],\n",
       "        ...,\n",
       "        [ 8.8334e-04,  4.0817e-04, -5.4672e-04,  ...,  1.0729e-03,\n",
       "          3.1705e-04, -3.4514e-04],\n",
       "        [ 8.8087e-04,  4.2085e-04, -5.4672e-04,  ...,  1.0729e-03,\n",
       "          3.5735e-04, -3.4479e-04],\n",
       "        [ 8.6385e-04,  4.1636e-04, -5.4672e-04,  ...,  1.0729e-03,\n",
       "          3.2313e-04, -3.4452e-04]], device='cuda:0')"
      ]
     },
     "execution_count": 202,
     "metadata": {},
     "output_type": "execute_result"
    }
   ],
   "source": [
    "module.tettas"
   ]
  },
  {
   "cell_type": "code",
   "execution_count": 208,
   "metadata": {},
   "outputs": [
    {
     "data": {
      "text/plain": [
       "Parameter containing:\n",
       "tensor([-2.6950, -2.0212, -0.6254, -3.1553, -0.8228, -0.3824, -0.6781,\n",
       "        -1.4905, -0.2314, -0.7209, -1.3709, -0.7163, -0.3139, -0.7477,\n",
       "        -0.1060, -0.4964, -1.5817, -1.4011, -0.0765, -3.2196, -2.3206,\n",
       "        -0.3142, -1.1644, -0.9227, -3.2175, -0.6568, -2.0495, -0.7188,\n",
       "        -0.9449, -0.6611, -3.0862, -1.7087, -1.0505, -0.7759, -1.0068,\n",
       "        -1.1965, -0.3909, -0.7433, -0.5500, -3.5355, -0.9660, -0.8866,\n",
       "        -0.2183, -0.9898, -2.9987, -2.0772, -1.5967, -2.1108, -1.0094,\n",
       "        -0.7709, -0.5564, -1.0394, -1.0621, -0.4312, -1.5629, -0.4995,\n",
       "        -1.2311, -0.6909, -0.9285, -1.9263, -0.8294, -1.6746, -1.1359,\n",
       "        -1.8634, -3.5177, -0.9487, -1.2544, -1.3523, -1.0553, -1.8937,\n",
       "        -0.6485, -0.6785, -0.2906, -0.7965, -1.9444,  0.0399, -0.4781,\n",
       "        -0.4273, -2.5067, -0.4804, -2.2679, -0.4561, -0.6318, -1.0469,\n",
       "        -0.6584, -1.1675, -2.9796, -1.7056, -3.0987, -3.3217, -3.3559,\n",
       "        -1.0438, -0.9926, -1.2266, -1.1902, -0.8783, -0.7254, -3.2716,\n",
       "        -1.2612, -0.7070, -3.0096, -2.1313, -0.1099, -0.5343, -3.0445,\n",
       "        -0.6653, -0.9568, -1.0306, -1.7432, -1.1585, -0.5849, -1.0578,\n",
       "        -2.6491, -3.1716, -0.7449, -1.0920, -2.6085, -0.7390, -1.1316,\n",
       "        -1.0637, -1.2221, -0.8602, -0.2980, -3.3086, -1.7772, -1.4983,\n",
       "        -0.4673, -1.2332, -1.1125, -0.5716, -1.0986, -3.3057, -0.8002,\n",
       "        -3.2629,  0.1590, -1.2084, -2.0339, -1.3287, -2.0583, -0.8900,\n",
       "        -1.4839, -0.4327, -1.6936, -0.8003, -1.1349,  0.6353, -1.1138,\n",
       "        -0.8680, -2.5378, -3.1605, -1.4235, -3.1132, -0.6243, -3.3511,\n",
       "        -0.6079, -1.7628,  0.0734, -1.6840, -0.2010, -2.4493, -3.1105,\n",
       "        -1.6669, -0.7886, -1.1272, -2.4796, -0.6706, -1.2361, -3.2026,\n",
       "        -0.8278, -0.9761, -1.0747, -1.6778, -1.3915, -0.0790, -1.2796,\n",
       "        -0.5364, -1.2902, -0.8497, -2.1503, -1.0458, -1.9781, -1.2421,\n",
       "        -1.1000, -1.2211,  0.1978, -0.6529, -0.3366, -2.9125, -0.9236,\n",
       "         0.7853, -1.0125, -0.8297, -0.9372, -1.6846, -0.6427, -3.1006,\n",
       "        -0.3752, -0.5994, -1.3421, -2.9537, -1.4663,  0.0329, -1.2974,\n",
       "        -1.6959, -1.3078, -3.2502, -1.8460, -1.7398, -1.0731, -1.8725,\n",
       "        -1.6002, -1.7141, -1.9844, -0.4433, -0.6488, -1.3673, -0.7977,\n",
       "        -3.2862, -0.8887, -3.1040, -0.6874, -1.1694, -1.1182, -1.2453,\n",
       "        -0.6293, -0.7190, -0.6864, -1.2165, -0.9383, -0.3952, -3.0174,\n",
       "        -1.1980, -0.6458, -0.5722, -0.9753, -1.3191, -0.6862, -0.2048,\n",
       "        -1.3324, -0.0582, -1.5004, -1.0572, -3.1640, -0.8119, -1.5834,\n",
       "        -1.4659, -0.7688, -2.3642, -2.2620, -0.8896, -0.5185, -0.2580,\n",
       "        -0.6984, -3.1525, -0.4201, -0.6067, -1.4857, -1.2750, -1.4381,\n",
       "        -0.9274, -1.6430, -1.5403, -0.9326, -0.9571, -3.1606, -1.3495,\n",
       "        -0.5339, -1.1299,  0.1910, -2.2448,  0.3909, -1.1585, -2.0085,\n",
       "        -1.3496, -1.0561, -2.2485, -1.4438, -1.1609, -1.4171, -1.0267,\n",
       "        -0.9614, -0.5361, -0.8898, -2.1363, -1.1130, -3.2752, -1.0127,\n",
       "        -1.4398, -1.9515, -0.8842, -0.9589, -1.1096, -0.8698, -1.8403,\n",
       "        -0.9553, -0.2429, -0.8629,  0.2451, -3.1730, -0.9344], device='cuda:0')"
      ]
     },
     "execution_count": 208,
     "metadata": {},
     "output_type": "execute_result"
    }
   ],
   "source": [
    "XXX = XX.reshape(XX.shape[0], -1)\n",
    "torch.sqrt(torch.mm(XXX * XXX, torch.exp(module.log_alphas) * module.tettas * module.tettas))\n",
    "torch.mm(XXX, module.tettas)\n",
    "module.biases"
   ]
  },
  {
   "cell_type": "code",
   "execution_count": null,
   "metadata": {},
   "outputs": [],
   "source": []
  }
 ],
 "metadata": {
  "kernelspec": {
   "display_name": "Python 3",
   "language": "python",
   "name": "python3"
  },
  "language_info": {
   "codemirror_mode": {
    "name": "ipython",
    "version": 3
   },
   "file_extension": ".py",
   "mimetype": "text/x-python",
   "name": "python",
   "nbconvert_exporter": "python",
   "pygments_lexer": "ipython3",
   "version": "3.6.6"
  }
 },
 "nbformat": 4,
 "nbformat_minor": 2
}
